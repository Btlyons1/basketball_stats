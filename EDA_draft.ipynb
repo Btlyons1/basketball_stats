{
 "cells": [
  {
   "cell_type": "markdown",
   "id": "4ca25853-c248-4756-81a5-c09b02a5a1a9",
   "metadata": {},
   "source": [
    "# EDA using NBA draft data\n",
    "\n",
    "This notebook follows Chap 2 of the [statistics-slam-dunk book](https://www.manning.com/books/statistics-slam-dunkhttps://www.manning.com/books/statistics-slam-dunk)"
   ]
  },
  {
   "cell_type": "code",
   "execution_count": 1,
   "id": "dcce1896",
   "metadata": {
    "tags": []
   },
   "outputs": [
    {
     "data": {
      "text/plain": [
       "<Figure size 100x100 with 0 Axes>"
      ]
     },
     "metadata": {},
     "output_type": "display_data"
    }
   ],
   "source": [
    "import pandas as pd\n",
    "import numpy as np\n",
    "import sqldf\n",
    "import seaborn as sns\n",
    "import matplotlib.pyplot as plt\n",
    "import patchworklib as pw"
   ]
  },
  {
   "cell_type": "code",
   "execution_count": 2,
   "id": "eb9f7838-3717-46fa-92cc-5dd204c9c691",
   "metadata": {
    "tags": []
   },
   "outputs": [],
   "source": [
    "%matplotlib inline\n",
    "sns.set_theme(style='darkgrid')"
   ]
  },
  {
   "cell_type": "code",
   "execution_count": 3,
   "id": "5bc35119-2b96-4b4f-a301-44af934f1e51",
   "metadata": {
    "tags": []
   },
   "outputs": [],
   "source": [
    "pd.set_option('display.max_columns', None)\n",
    "pd.set_option('display.max_rows', None)"
   ]
  },
  {
   "cell_type": "code",
   "execution_count": 4,
   "id": "55aed0f5",
   "metadata": {
    "tags": []
   },
   "outputs": [],
   "source": [
    "df = pd.read_csv(\"../statisticsplaybook-main/draft.csv\", encoding= 'unicode_escape')"
   ]
  },
  {
   "cell_type": "code",
   "execution_count": 5,
   "id": "e400ba9e-eebd-43ea-9872-52378098fc65",
   "metadata": {
    "tags": []
   },
   "outputs": [
    {
     "data": {
      "text/html": [
       "<div>\n",
       "<style scoped>\n",
       "    .dataframe tbody tr th:only-of-type {\n",
       "        vertical-align: middle;\n",
       "    }\n",
       "\n",
       "    .dataframe tbody tr th {\n",
       "        vertical-align: top;\n",
       "    }\n",
       "\n",
       "    .dataframe thead th {\n",
       "        text-align: right;\n",
       "    }\n",
       "</style>\n",
       "<table border=\"1\" class=\"dataframe\">\n",
       "  <thead>\n",
       "    <tr style=\"text-align: right;\">\n",
       "      <th></th>\n",
       "      <th>Rk</th>\n",
       "      <th>Year</th>\n",
       "      <th>Lg</th>\n",
       "      <th>Rd</th>\n",
       "      <th>Pk</th>\n",
       "      <th>Tm</th>\n",
       "      <th>Player</th>\n",
       "      <th>Age</th>\n",
       "      <th>Pos</th>\n",
       "      <th>Born</th>\n",
       "      <th>College</th>\n",
       "      <th>From</th>\n",
       "      <th>To</th>\n",
       "      <th>G</th>\n",
       "      <th>MP</th>\n",
       "      <th>PTS</th>\n",
       "      <th>TRB</th>\n",
       "      <th>AST</th>\n",
       "      <th>STL</th>\n",
       "      <th>BLK</th>\n",
       "      <th>FG%</th>\n",
       "      <th>2P%</th>\n",
       "      <th>3P%</th>\n",
       "      <th>FT%</th>\n",
       "      <th>WS</th>\n",
       "      <th>WS/48</th>\n",
       "    </tr>\n",
       "  </thead>\n",
       "  <tbody>\n",
       "    <tr>\n",
       "      <th>0</th>\n",
       "      <td>1</td>\n",
       "      <td>2009</td>\n",
       "      <td>NBA</td>\n",
       "      <td>1</td>\n",
       "      <td>1</td>\n",
       "      <td>LAC</td>\n",
       "      <td>Blake Griffin</td>\n",
       "      <td>20.106</td>\n",
       "      <td>F</td>\n",
       "      <td>us</td>\n",
       "      <td>Oklahoma</td>\n",
       "      <td>2011.0</td>\n",
       "      <td>2020.0</td>\n",
       "      <td>622.0</td>\n",
       "      <td>34.8</td>\n",
       "      <td>21.7</td>\n",
       "      <td>8.8</td>\n",
       "      <td>4.4</td>\n",
       "      <td>0.9</td>\n",
       "      <td>0.5</td>\n",
       "      <td>0.498</td>\n",
       "      <td>0.521</td>\n",
       "      <td>0.333</td>\n",
       "      <td>0.694</td>\n",
       "      <td>75.2</td>\n",
       "      <td>0.167</td>\n",
       "    </tr>\n",
       "    <tr>\n",
       "      <th>1</th>\n",
       "      <td>2</td>\n",
       "      <td>2009</td>\n",
       "      <td>NBA</td>\n",
       "      <td>1</td>\n",
       "      <td>2</td>\n",
       "      <td>MEM</td>\n",
       "      <td>Hasheem Thabeet</td>\n",
       "      <td>22.135</td>\n",
       "      <td>C</td>\n",
       "      <td>tz</td>\n",
       "      <td>UConn</td>\n",
       "      <td>2010.0</td>\n",
       "      <td>2014.0</td>\n",
       "      <td>224.0</td>\n",
       "      <td>10.5</td>\n",
       "      <td>2.2</td>\n",
       "      <td>2.7</td>\n",
       "      <td>0.1</td>\n",
       "      <td>0.3</td>\n",
       "      <td>0.8</td>\n",
       "      <td>0.567</td>\n",
       "      <td>0.567</td>\n",
       "      <td>NaN</td>\n",
       "      <td>0.578</td>\n",
       "      <td>4.8</td>\n",
       "      <td>0.099</td>\n",
       "    </tr>\n",
       "    <tr>\n",
       "      <th>2</th>\n",
       "      <td>3</td>\n",
       "      <td>2009</td>\n",
       "      <td>NBA</td>\n",
       "      <td>1</td>\n",
       "      <td>3</td>\n",
       "      <td>OKC</td>\n",
       "      <td>James Harden</td>\n",
       "      <td>19.308</td>\n",
       "      <td>G</td>\n",
       "      <td>us</td>\n",
       "      <td>Arizona State</td>\n",
       "      <td>2010.0</td>\n",
       "      <td>2020.0</td>\n",
       "      <td>826.0</td>\n",
       "      <td>34.3</td>\n",
       "      <td>25.1</td>\n",
       "      <td>5.3</td>\n",
       "      <td>6.3</td>\n",
       "      <td>1.6</td>\n",
       "      <td>0.5</td>\n",
       "      <td>0.442</td>\n",
       "      <td>0.509</td>\n",
       "      <td>0.363</td>\n",
       "      <td>0.858</td>\n",
       "      <td>133.3</td>\n",
       "      <td>0.226</td>\n",
       "    </tr>\n",
       "    <tr>\n",
       "      <th>3</th>\n",
       "      <td>4</td>\n",
       "      <td>2009</td>\n",
       "      <td>NBA</td>\n",
       "      <td>1</td>\n",
       "      <td>4</td>\n",
       "      <td>SAC</td>\n",
       "      <td>Tyreke Evans</td>\n",
       "      <td>19.284</td>\n",
       "      <td>G-F</td>\n",
       "      <td>us</td>\n",
       "      <td>Memphis</td>\n",
       "      <td>2010.0</td>\n",
       "      <td>2019.0</td>\n",
       "      <td>594.0</td>\n",
       "      <td>30.7</td>\n",
       "      <td>15.7</td>\n",
       "      <td>4.6</td>\n",
       "      <td>4.8</td>\n",
       "      <td>1.2</td>\n",
       "      <td>0.4</td>\n",
       "      <td>0.440</td>\n",
       "      <td>0.468</td>\n",
       "      <td>0.323</td>\n",
       "      <td>0.757</td>\n",
       "      <td>28.4</td>\n",
       "      <td>0.075</td>\n",
       "    </tr>\n",
       "    <tr>\n",
       "      <th>4</th>\n",
       "      <td>5</td>\n",
       "      <td>2009</td>\n",
       "      <td>NBA</td>\n",
       "      <td>1</td>\n",
       "      <td>5</td>\n",
       "      <td>MIN</td>\n",
       "      <td>Ricky Rubio</td>\n",
       "      <td>18.252</td>\n",
       "      <td>G</td>\n",
       "      <td>es</td>\n",
       "      <td>NaN</td>\n",
       "      <td>2012.0</td>\n",
       "      <td>2020.0</td>\n",
       "      <td>555.0</td>\n",
       "      <td>30.9</td>\n",
       "      <td>11.3</td>\n",
       "      <td>4.2</td>\n",
       "      <td>7.8</td>\n",
       "      <td>1.9</td>\n",
       "      <td>0.1</td>\n",
       "      <td>0.391</td>\n",
       "      <td>0.416</td>\n",
       "      <td>0.326</td>\n",
       "      <td>0.840</td>\n",
       "      <td>36.4</td>\n",
       "      <td>0.102</td>\n",
       "    </tr>\n",
       "  </tbody>\n",
       "</table>\n",
       "</div>"
      ],
      "text/plain": [
       "   Rk  Year   Lg  Rd  Pk   Tm           Player     Age  Pos Born   \n",
       "0   1  2009  NBA   1   1  LAC    Blake Griffin  20.106    F   us  \\\n",
       "1   2  2009  NBA   1   2  MEM  Hasheem Thabeet  22.135    C   tz   \n",
       "2   3  2009  NBA   1   3  OKC     James Harden  19.308    G   us   \n",
       "3   4  2009  NBA   1   4  SAC     Tyreke Evans  19.284  G-F   us   \n",
       "4   5  2009  NBA   1   5  MIN      Ricky Rubio  18.252    G   es   \n",
       "\n",
       "         College    From      To      G    MP   PTS  TRB  AST  STL  BLK   \n",
       "0       Oklahoma  2011.0  2020.0  622.0  34.8  21.7  8.8  4.4  0.9  0.5  \\\n",
       "1          UConn  2010.0  2014.0  224.0  10.5   2.2  2.7  0.1  0.3  0.8   \n",
       "2  Arizona State  2010.0  2020.0  826.0  34.3  25.1  5.3  6.3  1.6  0.5   \n",
       "3        Memphis  2010.0  2019.0  594.0  30.7  15.7  4.6  4.8  1.2  0.4   \n",
       "4            NaN  2012.0  2020.0  555.0  30.9  11.3  4.2  7.8  1.9  0.1   \n",
       "\n",
       "     FG%    2P%    3P%    FT%     WS  WS/48  \n",
       "0  0.498  0.521  0.333  0.694   75.2  0.167  \n",
       "1  0.567  0.567    NaN  0.578    4.8  0.099  \n",
       "2  0.442  0.509  0.363  0.858  133.3  0.226  \n",
       "3  0.440  0.468  0.323  0.757   28.4  0.075  \n",
       "4  0.391  0.416  0.326  0.840   36.4  0.102  "
      ]
     },
     "execution_count": 5,
     "metadata": {},
     "output_type": "execute_result"
    }
   ],
   "source": [
    "df.head()"
   ]
  },
  {
   "cell_type": "code",
   "execution_count": 6,
   "id": "e98bb115-7bf8-4569-b892-203f91dd9d51",
   "metadata": {
    "tags": []
   },
   "outputs": [
    {
     "data": {
      "text/plain": [
       "Rk           int64\n",
       "Year         int64\n",
       "Lg          object\n",
       "Rd           int64\n",
       "Pk           int64\n",
       "Tm          object\n",
       "Player      object\n",
       "Age        float64\n",
       "Pos         object\n",
       "Born        object\n",
       "College     object\n",
       "From       float64\n",
       "To         float64\n",
       "G          float64\n",
       "MP         float64\n",
       "PTS        float64\n",
       "TRB        float64\n",
       "AST        float64\n",
       "STL        float64\n",
       "BLK        float64\n",
       "FG%        float64\n",
       "2P%        float64\n",
       "3P%        float64\n",
       "FT%        float64\n",
       "WS         float64\n",
       "WS/48      float64\n",
       "dtype: object"
      ]
     },
     "execution_count": 6,
     "metadata": {},
     "output_type": "execute_result"
    }
   ],
   "source": [
    "df.dtypes"
   ]
  },
  {
   "cell_type": "code",
   "execution_count": 7,
   "id": "a87fb85c-611d-43f2-a84e-2dd0cf4213f6",
   "metadata": {
    "tags": []
   },
   "outputs": [],
   "source": [
    "df['born2'] =  df.Born.apply(lambda x: \"USA\" if x == \"us\" else \"WORLD\")"
   ]
  },
  {
   "cell_type": "code",
   "execution_count": 8,
   "id": "184c1a5e-82a1-4174-9647-ceffd07292ec",
   "metadata": {},
   "outputs": [],
   "source": [
    "df['college2'] = df.College.apply(lambda x: 1 if x is not np.nan else 0) "
   ]
  },
  {
   "cell_type": "code",
   "execution_count": 9,
   "id": "61d9adb2-9e54-44c7-89b7-03276d6ba29e",
   "metadata": {
    "tags": []
   },
   "outputs": [],
   "source": [
    "def normalize_pos(x):\n",
    "    if x == \"G\":\n",
    "        return \"Guard\"\n",
    "    elif x == \"F\":\n",
    "        return \"Forward\"\n",
    "    elif x == \"C\":\n",
    "        return \"Center\"\n",
    "    elif x == \"F-G\":\n",
    "        return \"Swingman\"\n",
    "    elif x == \"G-F\":\n",
    "        return \"Swingman\"\n",
    "    elif x == \"F-C\":\n",
    "        return \"Big\"\n",
    "    elif x == \"C-F\":\n",
    "        return \"Big\"\n",
    "    else:\n",
    "        return \"NA\""
   ]
  },
  {
   "cell_type": "code",
   "execution_count": 10,
   "id": "3030bc24-ab48-47eb-a25d-e5c78fde267c",
   "metadata": {
    "tags": []
   },
   "outputs": [],
   "source": [
    "df['pos2'] = np.vectorize(normalize_pos)(df[\"Pos\"])"
   ]
  },
  {
   "cell_type": "markdown",
   "id": "4df1a4ec-9adc-4d29-8f03-41ae4fb54703",
   "metadata": {},
   "source": [
    "**Rk**: A record counter only, with a maximum of 293. The draft data set, when imported into RStudio, had 293 records, where Rk starts at 1 and then increments by one with each subsequent record. Two records were subsequently removed due to incomplete data, thereby reducing the length of draft to 291 records, but the values in Rk remained as is despite the deletions.\n",
    "\n",
    "**Year**: Represents the year a player was selected in the NBA draft, with a minimum of 2000 and a maximum of 2009. For what it’s worth, the data.world data set actually covers the 1989 to 2016 NBA drafts; however, ten years of data are sufficient for our purposes here, and since our intent (see chapter 3) is to eventually track career trajectories 2009 is a reasonable and even necessary stopping point.\n",
    "\n",
    "**Pk**: The draft data set contains first-round selections only. This is, therefore, the selection, or pick, number in the first round where, for instance, the number 7 indicates the seventh overall pick.\n",
    "\n",
    "**Tm**: The abbreviated team name–for instance, NYK for New York Knicks or GSW for Golden State Warriors–that made the draft pick.\n",
    "\n",
    "**Player**: The name of the player selected, in firstname lastname format (e.g., Stephen Curry).\n",
    "\n",
    "**Age**: The age of each player at the time he was selected; for instance, Stephen Curry was 21.108 years old when the Warriors selected him seventh overall in 2009.\n",
    "\n",
    "**Pos**: The position, or positions, for each player, in abbreviated format.\n",
    "\n",
    "**Born**: The country where each player was born, in abbreviated format.\n",
    "\n",
    "**College**: The college or university that each player last attended before turning professional. Of course, many players, especially those born overseas, did not attend college; where that is the case the record equals NA.\n",
    "\n",
    "**From**: The first professional season for each player where, for instance, 2010 equals the 2009-10 season. A typical NBA regular season starts in mid-October and concludes in mid-April the following calendar year. Since the draft data set starts with the 2000 draft the minimum value equals 2001.\n",
    "\n",
    "**To**: The last season for which the draft data set includes player statistics. The maximum value here is 2020.\n",
    "\n",
    "**G**: The total number of regular season games played by each player between the 2000-01 and 2019-20 seasons.\n",
    "\n",
    "**MP**: The average minutes played per regular season game by each player.\n",
    "\n",
    "**WS**: The number of win shares accrued by each player between the 2000-01 and 2019-20 seasons. Win shares is an advanced statistic used to quantify a player’s contributions to his team’s success. It combines each player’s raw statistics with team and league-wide statistics to produce a number that represents each player’s contributions to his team’s win count. The sum of individual win shares on any team will be approximately equal to that team’s regular season win total. Stephen Curry accrued 103.2 win shares between 2009 and 2020, which is to say that approximately 103 of Golden State’s regular season wins over that ten-year stretch tie back to Curry’s offensive and defensive production. Most of the forthcoming exploratory data analysis focuses on win shares, including its associations with other variables.\n",
    "\n",
    "**WS.48**: The number of win shares accrued by each each player for every 48 minutes played.\n",
    "\n",
    "**Born2**: Not in the original data set. This is a derived variable that equals USA if a player was born in the United States or World if the player was born outside the US.\n",
    "\n",
    "**College2**: Not in the original data set. This is a derived variable that equals 0 if a player did not attend a college or university or, alternatively, a 1 if he did.\n",
    "\n",
    "**Pos2**: Not in the original data set. This is a derived variable that equals the full position name for each player so that, for instance, F-G and G-F both equal Swingman.\n",
    "\n",
    "An NBA team might have as many as 15 players on its active roster, but only five players can play at a time. Teams usually play two guards, two forwards, and a center; what’s more, there are point guards and shooting guards and small forwards and power forwards.\n",
    "\n",
    "- The point guard is basketball’s equivalent to a quarterback; he runs the offense and is usually the best passer and dribbler.\n",
    "- The shooting guard is oftentimes a team’s best shooter and scorer.\n",
    "- The small forward is usually a very versatile player; he can score from inside or outside and defend short or tall players.\n",
    "- The power forward is normally a good defender and rebounder, but not necessarily much of a shooter or scorer.\n",
    "- The center is a team’s tallest player; he’s usually counted on to defend the basket, block shots, and rebound."
   ]
  },
  {
   "cell_type": "markdown",
   "id": "380b144d-6fbd-4a26-895e-8fd5a00b4990",
   "metadata": {
    "tags": []
   },
   "source": [
    "## Summary Stats on the DataFrame\n",
    "\n",
    "- There is a tremendous amount of variance in career win shares. At least one first-round pick between the 2000 and 2009 NBA drafts actually accrued a negative number of win shares. And one player accrued more than 236 win shares.\n",
    "\n",
    "- In fact, there is also significant variances in the other career statistics, namely regular season games played and average minutes played per regular season game.\n",
    "\n",
    "- Going back to win shares, the mean, which is especially sensitive to outliers (or data points far removed from the population center), is significantly greater than the median, suggesting that the mean is skewed by a small number of superstars in the data set.\n",
    "\n",
    "- First-round NBA draft picks between 2000 and 2009 were anywhere between 17.25 years in age and 25.02 years at the time they were selected.\n",
    "\n",
    "- More than three-quarters of the players in draft, 224 of 291 to be exact, were born in the United States.\n",
    "\n",
    "- Nearly the same number of players, 218 to be specific, attended college or university."
   ]
  },
  {
   "cell_type": "code",
   "execution_count": 11,
   "id": "bdd39d55-10f2-4a9f-a6fa-d00d71a2667c",
   "metadata": {
    "tags": []
   },
   "outputs": [
    {
     "data": {
      "text/html": [
       "<div>\n",
       "<style scoped>\n",
       "    .dataframe tbody tr th:only-of-type {\n",
       "        vertical-align: middle;\n",
       "    }\n",
       "\n",
       "    .dataframe tbody tr th {\n",
       "        vertical-align: top;\n",
       "    }\n",
       "\n",
       "    .dataframe thead th {\n",
       "        text-align: right;\n",
       "    }\n",
       "</style>\n",
       "<table border=\"1\" class=\"dataframe\">\n",
       "  <thead>\n",
       "    <tr style=\"text-align: right;\">\n",
       "      <th></th>\n",
       "      <th>Rk</th>\n",
       "      <th>Year</th>\n",
       "      <th>Rd</th>\n",
       "      <th>Pk</th>\n",
       "      <th>Age</th>\n",
       "      <th>From</th>\n",
       "      <th>To</th>\n",
       "      <th>G</th>\n",
       "      <th>MP</th>\n",
       "      <th>PTS</th>\n",
       "      <th>TRB</th>\n",
       "      <th>AST</th>\n",
       "      <th>STL</th>\n",
       "      <th>BLK</th>\n",
       "      <th>FG%</th>\n",
       "      <th>2P%</th>\n",
       "      <th>3P%</th>\n",
       "      <th>FT%</th>\n",
       "      <th>WS</th>\n",
       "      <th>WS/48</th>\n",
       "      <th>college2</th>\n",
       "    </tr>\n",
       "  </thead>\n",
       "  <tbody>\n",
       "    <tr>\n",
       "      <th>count</th>\n",
       "      <td>293.000000</td>\n",
       "      <td>293.000000</td>\n",
       "      <td>293.0</td>\n",
       "      <td>293.000000</td>\n",
       "      <td>293.000000</td>\n",
       "      <td>291.000000</td>\n",
       "      <td>291.000000</td>\n",
       "      <td>291.000000</td>\n",
       "      <td>291.000000</td>\n",
       "      <td>291.000000</td>\n",
       "      <td>291.000000</td>\n",
       "      <td>291.000000</td>\n",
       "      <td>291.000000</td>\n",
       "      <td>291.000000</td>\n",
       "      <td>291.000000</td>\n",
       "      <td>291.000000</td>\n",
       "      <td>280.000000</td>\n",
       "      <td>291.000000</td>\n",
       "      <td>291.000000</td>\n",
       "      <td>291.000000</td>\n",
       "      <td>293.000000</td>\n",
       "    </tr>\n",
       "    <tr>\n",
       "      <th>mean</th>\n",
       "      <td>147.000000</td>\n",
       "      <td>2004.563140</td>\n",
       "      <td>1.0</td>\n",
       "      <td>15.160410</td>\n",
       "      <td>20.707993</td>\n",
       "      <td>2005.666667</td>\n",
       "      <td>2013.900344</td>\n",
       "      <td>526.426117</td>\n",
       "      <td>21.526460</td>\n",
       "      <td>8.869416</td>\n",
       "      <td>3.778694</td>\n",
       "      <td>1.849141</td>\n",
       "      <td>0.643986</td>\n",
       "      <td>0.473196</td>\n",
       "      <td>0.444814</td>\n",
       "      <td>0.468113</td>\n",
       "      <td>0.276786</td>\n",
       "      <td>0.728955</td>\n",
       "      <td>29.348110</td>\n",
       "      <td>0.075921</td>\n",
       "      <td>0.744027</td>\n",
       "    </tr>\n",
       "    <tr>\n",
       "      <th>std</th>\n",
       "      <td>84.726029</td>\n",
       "      <td>2.875309</td>\n",
       "      <td>0.0</td>\n",
       "      <td>8.485576</td>\n",
       "      <td>1.412733</td>\n",
       "      <td>2.958720</td>\n",
       "      <td>4.931290</td>\n",
       "      <td>319.603457</td>\n",
       "      <td>7.826054</td>\n",
       "      <td>4.983531</td>\n",
       "      <td>2.081452</td>\n",
       "      <td>1.726515</td>\n",
       "      <td>0.367925</td>\n",
       "      <td>0.427708</td>\n",
       "      <td>0.062030</td>\n",
       "      <td>0.058509</td>\n",
       "      <td>0.129652</td>\n",
       "      <td>0.098448</td>\n",
       "      <td>33.643744</td>\n",
       "      <td>0.061589</td>\n",
       "      <td>0.437153</td>\n",
       "    </tr>\n",
       "    <tr>\n",
       "      <th>min</th>\n",
       "      <td>1.000000</td>\n",
       "      <td>2000.000000</td>\n",
       "      <td>1.0</td>\n",
       "      <td>1.000000</td>\n",
       "      <td>17.249000</td>\n",
       "      <td>2001.000000</td>\n",
       "      <td>2002.000000</td>\n",
       "      <td>6.000000</td>\n",
       "      <td>4.300000</td>\n",
       "      <td>0.700000</td>\n",
       "      <td>0.500000</td>\n",
       "      <td>0.000000</td>\n",
       "      <td>0.000000</td>\n",
       "      <td>0.000000</td>\n",
       "      <td>0.000000</td>\n",
       "      <td>0.000000</td>\n",
       "      <td>0.000000</td>\n",
       "      <td>0.390000</td>\n",
       "      <td>-1.600000</td>\n",
       "      <td>-0.326000</td>\n",
       "      <td>0.000000</td>\n",
       "    </tr>\n",
       "    <tr>\n",
       "      <th>25%</th>\n",
       "      <td>74.000000</td>\n",
       "      <td>2002.000000</td>\n",
       "      <td>1.0</td>\n",
       "      <td>8.000000</td>\n",
       "      <td>19.327000</td>\n",
       "      <td>2003.000000</td>\n",
       "      <td>2010.000000</td>\n",
       "      <td>248.000000</td>\n",
       "      <td>15.600000</td>\n",
       "      <td>5.350000</td>\n",
       "      <td>2.200000</td>\n",
       "      <td>0.700000</td>\n",
       "      <td>0.400000</td>\n",
       "      <td>0.200000</td>\n",
       "      <td>0.412500</td>\n",
       "      <td>0.445000</td>\n",
       "      <td>0.235000</td>\n",
       "      <td>0.672000</td>\n",
       "      <td>4.050000</td>\n",
       "      <td>0.050000</td>\n",
       "      <td>0.000000</td>\n",
       "    </tr>\n",
       "    <tr>\n",
       "      <th>50%</th>\n",
       "      <td>147.000000</td>\n",
       "      <td>2005.000000</td>\n",
       "      <td>1.0</td>\n",
       "      <td>15.000000</td>\n",
       "      <td>21.011000</td>\n",
       "      <td>2006.000000</td>\n",
       "      <td>2015.000000</td>\n",
       "      <td>549.000000</td>\n",
       "      <td>21.600000</td>\n",
       "      <td>8.000000</td>\n",
       "      <td>3.300000</td>\n",
       "      <td>1.300000</td>\n",
       "      <td>0.600000</td>\n",
       "      <td>0.300000</td>\n",
       "      <td>0.440000</td>\n",
       "      <td>0.470000</td>\n",
       "      <td>0.327500</td>\n",
       "      <td>0.744000</td>\n",
       "      <td>19.600000</td>\n",
       "      <td>0.079000</td>\n",
       "      <td>1.000000</td>\n",
       "    </tr>\n",
       "    <tr>\n",
       "      <th>75%</th>\n",
       "      <td>220.000000</td>\n",
       "      <td>2007.000000</td>\n",
       "      <td>1.0</td>\n",
       "      <td>22.000000</td>\n",
       "      <td>22.048000</td>\n",
       "      <td>2008.000000</td>\n",
       "      <td>2018.000000</td>\n",
       "      <td>789.500000</td>\n",
       "      <td>27.700000</td>\n",
       "      <td>11.250000</td>\n",
       "      <td>4.850000</td>\n",
       "      <td>2.300000</td>\n",
       "      <td>0.800000</td>\n",
       "      <td>0.600000</td>\n",
       "      <td>0.480000</td>\n",
       "      <td>0.499500</td>\n",
       "      <td>0.358000</td>\n",
       "      <td>0.800000</td>\n",
       "      <td>43.850000</td>\n",
       "      <td>0.106000</td>\n",
       "      <td>1.000000</td>\n",
       "    </tr>\n",
       "    <tr>\n",
       "      <th>max</th>\n",
       "      <td>293.000000</td>\n",
       "      <td>2009.000000</td>\n",
       "      <td>1.0</td>\n",
       "      <td>30.000000</td>\n",
       "      <td>25.019000</td>\n",
       "      <td>2013.000000</td>\n",
       "      <td>2020.000000</td>\n",
       "      <td>1326.000000</td>\n",
       "      <td>38.400000</td>\n",
       "      <td>27.100000</td>\n",
       "      <td>12.300000</td>\n",
       "      <td>9.500000</td>\n",
       "      <td>2.200000</td>\n",
       "      <td>2.100000</td>\n",
       "      <td>0.607000</td>\n",
       "      <td>0.610000</td>\n",
       "      <td>1.000000</td>\n",
       "      <td>1.000000</td>\n",
       "      <td>236.100000</td>\n",
       "      <td>0.244000</td>\n",
       "      <td>1.000000</td>\n",
       "    </tr>\n",
       "  </tbody>\n",
       "</table>\n",
       "</div>"
      ],
      "text/plain": [
       "               Rk         Year     Rd          Pk         Age         From   \n",
       "count  293.000000   293.000000  293.0  293.000000  293.000000   291.000000  \\\n",
       "mean   147.000000  2004.563140    1.0   15.160410   20.707993  2005.666667   \n",
       "std     84.726029     2.875309    0.0    8.485576    1.412733     2.958720   \n",
       "min      1.000000  2000.000000    1.0    1.000000   17.249000  2001.000000   \n",
       "25%     74.000000  2002.000000    1.0    8.000000   19.327000  2003.000000   \n",
       "50%    147.000000  2005.000000    1.0   15.000000   21.011000  2006.000000   \n",
       "75%    220.000000  2007.000000    1.0   22.000000   22.048000  2008.000000   \n",
       "max    293.000000  2009.000000    1.0   30.000000   25.019000  2013.000000   \n",
       "\n",
       "                To            G          MP         PTS         TRB   \n",
       "count   291.000000   291.000000  291.000000  291.000000  291.000000  \\\n",
       "mean   2013.900344   526.426117   21.526460    8.869416    3.778694   \n",
       "std       4.931290   319.603457    7.826054    4.983531    2.081452   \n",
       "min    2002.000000     6.000000    4.300000    0.700000    0.500000   \n",
       "25%    2010.000000   248.000000   15.600000    5.350000    2.200000   \n",
       "50%    2015.000000   549.000000   21.600000    8.000000    3.300000   \n",
       "75%    2018.000000   789.500000   27.700000   11.250000    4.850000   \n",
       "max    2020.000000  1326.000000   38.400000   27.100000   12.300000   \n",
       "\n",
       "              AST         STL         BLK         FG%         2P%         3P%   \n",
       "count  291.000000  291.000000  291.000000  291.000000  291.000000  280.000000  \\\n",
       "mean     1.849141    0.643986    0.473196    0.444814    0.468113    0.276786   \n",
       "std      1.726515    0.367925    0.427708    0.062030    0.058509    0.129652   \n",
       "min      0.000000    0.000000    0.000000    0.000000    0.000000    0.000000   \n",
       "25%      0.700000    0.400000    0.200000    0.412500    0.445000    0.235000   \n",
       "50%      1.300000    0.600000    0.300000    0.440000    0.470000    0.327500   \n",
       "75%      2.300000    0.800000    0.600000    0.480000    0.499500    0.358000   \n",
       "max      9.500000    2.200000    2.100000    0.607000    0.610000    1.000000   \n",
       "\n",
       "              FT%          WS       WS/48    college2  \n",
       "count  291.000000  291.000000  291.000000  293.000000  \n",
       "mean     0.728955   29.348110    0.075921    0.744027  \n",
       "std      0.098448   33.643744    0.061589    0.437153  \n",
       "min      0.390000   -1.600000   -0.326000    0.000000  \n",
       "25%      0.672000    4.050000    0.050000    0.000000  \n",
       "50%      0.744000   19.600000    0.079000    1.000000  \n",
       "75%      0.800000   43.850000    0.106000    1.000000  \n",
       "max      1.000000  236.100000    0.244000    1.000000  "
      ]
     },
     "execution_count": 11,
     "metadata": {},
     "output_type": "execute_result"
    }
   ],
   "source": [
    "df.describe()"
   ]
  },
  {
   "cell_type": "code",
   "execution_count": 12,
   "id": "6f253062-4974-441b-ae06-b97a675800e0",
   "metadata": {
    "tags": []
   },
   "outputs": [
    {
     "data": {
      "text/plain": [
       "college2\n",
       "1    218\n",
       "0     75\n",
       "Name: count, dtype: int64"
      ]
     },
     "execution_count": 12,
     "metadata": {},
     "output_type": "execute_result"
    }
   ],
   "source": [
    "df.college2.value_counts()"
   ]
  },
  {
   "cell_type": "code",
   "execution_count": 13,
   "id": "f34148e5-8fb6-4453-ae51-d92e4e827a8a",
   "metadata": {
    "tags": []
   },
   "outputs": [
    {
     "data": {
      "text/plain": [
       "born2\n",
       "USA      224\n",
       "WORLD     69\n",
       "Name: count, dtype: int64"
      ]
     },
     "execution_count": 13,
     "metadata": {},
     "output_type": "execute_result"
    }
   ],
   "source": [
    "df.born2.value_counts()"
   ]
  },
  {
   "cell_type": "markdown",
   "id": "94a6e6f4-1125-438f-9330-bbcc09bf9c28",
   "metadata": {
    "tags": []
   },
   "source": [
    "The standard deviation is a measure of how dispersed the data are relative to the mean. \n",
    "- Low standard deviations imply the data are clustered close to the mean; \n",
    "- alternatively, high standard deviations suggest the data are more dispersed"
   ]
  },
  {
   "cell_type": "code",
   "execution_count": 14,
   "id": "da91dbcf-9b6e-4883-bdcc-98f76fe52e5e",
   "metadata": {
    "tags": []
   },
   "outputs": [
    {
     "data": {
      "text/plain": [
       "319.60345668101786"
      ]
     },
     "execution_count": 14,
     "metadata": {},
     "output_type": "execute_result"
    }
   ],
   "source": [
    "df.G.std()"
   ]
  },
  {
   "cell_type": "code",
   "execution_count": 15,
   "id": "28104ddf-ff37-404f-bdd4-05bf4e80b72e",
   "metadata": {
    "tags": []
   },
   "outputs": [
    {
     "data": {
      "text/plain": [
       "7.826054243027721"
      ]
     },
     "execution_count": 15,
     "metadata": {},
     "output_type": "execute_result"
    }
   ],
   "source": [
    "df.MP.std()"
   ]
  },
  {
   "cell_type": "code",
   "execution_count": 16,
   "id": "1a1714fa-7a52-4af2-a33c-fbf7912600c3",
   "metadata": {
    "tags": []
   },
   "outputs": [
    {
     "data": {
      "text/plain": [
       "33.643744433681874"
      ]
     },
     "execution_count": 16,
     "metadata": {},
     "output_type": "execute_result"
    }
   ],
   "source": [
    "df.WS.std()"
   ]
  },
  {
   "cell_type": "markdown",
   "id": "aec2a3f3-fc1c-4eeb-8ca6-15ee08a2e361",
   "metadata": {},
   "source": [
    "Using sqldf to query dataframe"
   ]
  },
  {
   "cell_type": "code",
   "execution_count": 17,
   "id": "f5d863ef-68ba-405e-801b-5403a950e798",
   "metadata": {
    "tags": []
   },
   "outputs": [
    {
     "data": {
      "text/html": [
       "<div>\n",
       "<style scoped>\n",
       "    .dataframe tbody tr th:only-of-type {\n",
       "        vertical-align: middle;\n",
       "    }\n",
       "\n",
       "    .dataframe tbody tr th {\n",
       "        vertical-align: top;\n",
       "    }\n",
       "\n",
       "    .dataframe thead th {\n",
       "        text-align: right;\n",
       "    }\n",
       "</style>\n",
       "<table border=\"1\" class=\"dataframe\">\n",
       "  <thead>\n",
       "    <tr style=\"text-align: right;\">\n",
       "      <th></th>\n",
       "      <th>min(WS)</th>\n",
       "      <th>Player</th>\n",
       "      <th>Tm</th>\n",
       "      <th>Pk</th>\n",
       "      <th>Year</th>\n",
       "    </tr>\n",
       "  </thead>\n",
       "  <tbody>\n",
       "    <tr>\n",
       "      <th>0</th>\n",
       "      <td>-1.6</td>\n",
       "      <td>Mardy Collins</td>\n",
       "      <td>NYK</td>\n",
       "      <td>29</td>\n",
       "      <td>2006</td>\n",
       "    </tr>\n",
       "  </tbody>\n",
       "</table>\n",
       "</div>"
      ],
      "text/plain": [
       "   min(WS)         Player   Tm  Pk  Year\n",
       "0     -1.6  Mardy Collins  NYK  29  2006"
      ]
     },
     "execution_count": 17,
     "metadata": {},
     "output_type": "execute_result"
    }
   ],
   "source": [
    "sqldf.run(\"select min(WS), Player, Tm, Pk, Year FROM df\")"
   ]
  },
  {
   "cell_type": "code",
   "execution_count": 18,
   "id": "5aa05b40-ead9-4abd-aa84-ae4b2562f3a4",
   "metadata": {
    "tags": []
   },
   "outputs": [
    {
     "data": {
      "text/html": [
       "<div>\n",
       "<style scoped>\n",
       "    .dataframe tbody tr th:only-of-type {\n",
       "        vertical-align: middle;\n",
       "    }\n",
       "\n",
       "    .dataframe tbody tr th {\n",
       "        vertical-align: top;\n",
       "    }\n",
       "\n",
       "    .dataframe thead th {\n",
       "        text-align: right;\n",
       "    }\n",
       "</style>\n",
       "<table border=\"1\" class=\"dataframe\">\n",
       "  <thead>\n",
       "    <tr style=\"text-align: right;\">\n",
       "      <th></th>\n",
       "      <th>max(WS)</th>\n",
       "      <th>Player</th>\n",
       "      <th>Tm</th>\n",
       "      <th>Pk</th>\n",
       "      <th>Year</th>\n",
       "    </tr>\n",
       "  </thead>\n",
       "  <tbody>\n",
       "    <tr>\n",
       "      <th>0</th>\n",
       "      <td>236.1</td>\n",
       "      <td>LeBron James</td>\n",
       "      <td>CLE</td>\n",
       "      <td>1</td>\n",
       "      <td>2003</td>\n",
       "    </tr>\n",
       "  </tbody>\n",
       "</table>\n",
       "</div>"
      ],
      "text/plain": [
       "   max(WS)        Player   Tm  Pk  Year\n",
       "0    236.1  LeBron James  CLE   1  2003"
      ]
     },
     "execution_count": 18,
     "metadata": {},
     "output_type": "execute_result"
    }
   ],
   "source": [
    "sqldf.run(\"select max(WS), Player, Tm, Pk, Year FROM df\")\n"
   ]
  },
  {
   "cell_type": "code",
   "execution_count": 19,
   "id": "4e5e02d2-c37f-4c8b-8d44-7353f30b1513",
   "metadata": {
    "tags": []
   },
   "outputs": [
    {
     "data": {
      "text/html": [
       "<div>\n",
       "<style scoped>\n",
       "    .dataframe tbody tr th:only-of-type {\n",
       "        vertical-align: middle;\n",
       "    }\n",
       "\n",
       "    .dataframe tbody tr th {\n",
       "        vertical-align: top;\n",
       "    }\n",
       "\n",
       "    .dataframe thead th {\n",
       "        text-align: right;\n",
       "    }\n",
       "</style>\n",
       "<table border=\"1\" class=\"dataframe\">\n",
       "  <thead>\n",
       "    <tr style=\"text-align: right;\">\n",
       "      <th></th>\n",
       "      <th>min(G)</th>\n",
       "      <th>Player</th>\n",
       "      <th>Tm</th>\n",
       "      <th>Pk</th>\n",
       "      <th>Year</th>\n",
       "    </tr>\n",
       "  </thead>\n",
       "  <tbody>\n",
       "    <tr>\n",
       "      <th>0</th>\n",
       "      <td>6.0</td>\n",
       "      <td>Pavel Podkolzin</td>\n",
       "      <td>UTA</td>\n",
       "      <td>21</td>\n",
       "      <td>2004</td>\n",
       "    </tr>\n",
       "  </tbody>\n",
       "</table>\n",
       "</div>"
      ],
      "text/plain": [
       "   min(G)           Player   Tm  Pk  Year\n",
       "0     6.0  Pavel Podkolzin  UTA  21  2004"
      ]
     },
     "execution_count": 19,
     "metadata": {},
     "output_type": "execute_result"
    }
   ],
   "source": [
    "sqldf.run(\"select min(G), Player, Tm, Pk, Year FROM df\")\n"
   ]
  },
  {
   "cell_type": "code",
   "execution_count": 20,
   "id": "37baf1fb-825c-4b59-b9fe-bb2ef7ee60c0",
   "metadata": {
    "tags": []
   },
   "outputs": [
    {
     "data": {
      "text/html": [
       "<div>\n",
       "<style scoped>\n",
       "    .dataframe tbody tr th:only-of-type {\n",
       "        vertical-align: middle;\n",
       "    }\n",
       "\n",
       "    .dataframe tbody tr th {\n",
       "        vertical-align: top;\n",
       "    }\n",
       "\n",
       "    .dataframe thead th {\n",
       "        text-align: right;\n",
       "    }\n",
       "</style>\n",
       "<table border=\"1\" class=\"dataframe\">\n",
       "  <thead>\n",
       "    <tr style=\"text-align: right;\">\n",
       "      <th></th>\n",
       "      <th>max(G)</th>\n",
       "      <th>Player</th>\n",
       "      <th>Tm</th>\n",
       "      <th>Pk</th>\n",
       "      <th>Year</th>\n",
       "    </tr>\n",
       "  </thead>\n",
       "  <tbody>\n",
       "    <tr>\n",
       "      <th>0</th>\n",
       "      <td>1326.0</td>\n",
       "      <td>Jamal Crawford</td>\n",
       "      <td>CLE</td>\n",
       "      <td>8</td>\n",
       "      <td>2000</td>\n",
       "    </tr>\n",
       "  </tbody>\n",
       "</table>\n",
       "</div>"
      ],
      "text/plain": [
       "   max(G)          Player   Tm  Pk  Year\n",
       "0  1326.0  Jamal Crawford  CLE   8  2000"
      ]
     },
     "execution_count": 20,
     "metadata": {},
     "output_type": "execute_result"
    }
   ],
   "source": [
    "sqldf.run(\"select max(G), Player, Tm, Pk, Year FROM df\")\n"
   ]
  },
  {
   "cell_type": "code",
   "execution_count": 21,
   "id": "4aa79d9c-dba8-40b9-a0f9-268cd90cf01f",
   "metadata": {
    "tags": []
   },
   "outputs": [
    {
     "data": {
      "text/html": [
       "<div>\n",
       "<style scoped>\n",
       "    .dataframe tbody tr th:only-of-type {\n",
       "        vertical-align: middle;\n",
       "    }\n",
       "\n",
       "    .dataframe tbody tr th {\n",
       "        vertical-align: top;\n",
       "    }\n",
       "\n",
       "    .dataframe thead th {\n",
       "        text-align: right;\n",
       "    }\n",
       "</style>\n",
       "<table border=\"1\" class=\"dataframe\">\n",
       "  <thead>\n",
       "    <tr style=\"text-align: right;\">\n",
       "      <th></th>\n",
       "      <th>min(MP)</th>\n",
       "      <th>Player</th>\n",
       "      <th>Tm</th>\n",
       "      <th>Pk</th>\n",
       "      <th>Year</th>\n",
       "    </tr>\n",
       "  </thead>\n",
       "  <tbody>\n",
       "    <tr>\n",
       "      <th>0</th>\n",
       "      <td>4.3</td>\n",
       "      <td>Julius Hodge</td>\n",
       "      <td>DEN</td>\n",
       "      <td>20</td>\n",
       "      <td>2005</td>\n",
       "    </tr>\n",
       "  </tbody>\n",
       "</table>\n",
       "</div>"
      ],
      "text/plain": [
       "   min(MP)        Player   Tm  Pk  Year\n",
       "0      4.3  Julius Hodge  DEN  20  2005"
      ]
     },
     "execution_count": 21,
     "metadata": {},
     "output_type": "execute_result"
    }
   ],
   "source": [
    "sqldf.run(\"select min(MP), Player, Tm, Pk, Year FROM df\")\n"
   ]
  },
  {
   "cell_type": "code",
   "execution_count": 22,
   "id": "4d49c386-3ab8-4444-8f6b-926fa0b1d97a",
   "metadata": {
    "tags": []
   },
   "outputs": [
    {
     "data": {
      "text/html": [
       "<div>\n",
       "<style scoped>\n",
       "    .dataframe tbody tr th:only-of-type {\n",
       "        vertical-align: middle;\n",
       "    }\n",
       "\n",
       "    .dataframe tbody tr th {\n",
       "        vertical-align: top;\n",
       "    }\n",
       "\n",
       "    .dataframe thead th {\n",
       "        text-align: right;\n",
       "    }\n",
       "</style>\n",
       "<table border=\"1\" class=\"dataframe\">\n",
       "  <thead>\n",
       "    <tr style=\"text-align: right;\">\n",
       "      <th></th>\n",
       "      <th>max(MP)</th>\n",
       "      <th>Player</th>\n",
       "      <th>Tm</th>\n",
       "      <th>Pk</th>\n",
       "      <th>Year</th>\n",
       "    </tr>\n",
       "  </thead>\n",
       "  <tbody>\n",
       "    <tr>\n",
       "      <th>0</th>\n",
       "      <td>38.4</td>\n",
       "      <td>LeBron James</td>\n",
       "      <td>CLE</td>\n",
       "      <td>1</td>\n",
       "      <td>2003</td>\n",
       "    </tr>\n",
       "  </tbody>\n",
       "</table>\n",
       "</div>"
      ],
      "text/plain": [
       "   max(MP)        Player   Tm  Pk  Year\n",
       "0     38.4  LeBron James  CLE   1  2003"
      ]
     },
     "execution_count": 22,
     "metadata": {},
     "output_type": "execute_result"
    }
   ],
   "source": [
    "sqldf.run(\"select max(MP), Player, Tm, Pk, Year FROM df\")\n"
   ]
  },
  {
   "cell_type": "code",
   "execution_count": 23,
   "id": "0301c9e8-496a-430c-9d34-efc414647dad",
   "metadata": {
    "tags": []
   },
   "outputs": [
    {
     "data": {
      "text/html": [
       "<div>\n",
       "<style scoped>\n",
       "    .dataframe tbody tr th:only-of-type {\n",
       "        vertical-align: middle;\n",
       "    }\n",
       "\n",
       "    .dataframe tbody tr th {\n",
       "        vertical-align: top;\n",
       "    }\n",
       "\n",
       "    .dataframe thead th {\n",
       "        text-align: right;\n",
       "    }\n",
       "</style>\n",
       "<table border=\"1\" class=\"dataframe\">\n",
       "  <thead>\n",
       "    <tr style=\"text-align: right;\">\n",
       "      <th></th>\n",
       "      <th>min(Age)</th>\n",
       "      <th>Player</th>\n",
       "      <th>Tm</th>\n",
       "      <th>Pk</th>\n",
       "      <th>Year</th>\n",
       "    </tr>\n",
       "  </thead>\n",
       "  <tbody>\n",
       "    <tr>\n",
       "      <th>0</th>\n",
       "      <td>17.249</td>\n",
       "      <td>Andrew Bynum</td>\n",
       "      <td>LAL</td>\n",
       "      <td>10</td>\n",
       "      <td>2005</td>\n",
       "    </tr>\n",
       "  </tbody>\n",
       "</table>\n",
       "</div>"
      ],
      "text/plain": [
       "   min(Age)        Player   Tm  Pk  Year\n",
       "0    17.249  Andrew Bynum  LAL  10  2005"
      ]
     },
     "execution_count": 23,
     "metadata": {},
     "output_type": "execute_result"
    }
   ],
   "source": [
    "sqldf.run(\"select min(Age), Player, Tm, Pk, Year FROM df\")\n"
   ]
  },
  {
   "cell_type": "code",
   "execution_count": 24,
   "id": "847c039b-b64d-475e-8ee6-90c7c26a7f8f",
   "metadata": {
    "tags": []
   },
   "outputs": [
    {
     "data": {
      "text/html": [
       "<div>\n",
       "<style scoped>\n",
       "    .dataframe tbody tr th:only-of-type {\n",
       "        vertical-align: middle;\n",
       "    }\n",
       "\n",
       "    .dataframe tbody tr th {\n",
       "        vertical-align: top;\n",
       "    }\n",
       "\n",
       "    .dataframe thead th {\n",
       "        text-align: right;\n",
       "    }\n",
       "</style>\n",
       "<table border=\"1\" class=\"dataframe\">\n",
       "  <thead>\n",
       "    <tr style=\"text-align: right;\">\n",
       "      <th></th>\n",
       "      <th>max(Age)</th>\n",
       "      <th>Player</th>\n",
       "      <th>Tm</th>\n",
       "      <th>Pk</th>\n",
       "      <th>Year</th>\n",
       "    </tr>\n",
       "  </thead>\n",
       "  <tbody>\n",
       "    <tr>\n",
       "      <th>0</th>\n",
       "      <td>25.019</td>\n",
       "      <td>Mamadou N'Diaye</td>\n",
       "      <td>DEN</td>\n",
       "      <td>26</td>\n",
       "      <td>2000</td>\n",
       "    </tr>\n",
       "  </tbody>\n",
       "</table>\n",
       "</div>"
      ],
      "text/plain": [
       "   max(Age)           Player   Tm  Pk  Year\n",
       "0    25.019  Mamadou N'Diaye  DEN  26  2000"
      ]
     },
     "execution_count": 24,
     "metadata": {},
     "output_type": "execute_result"
    }
   ],
   "source": [
    "sqldf.run(\"select max(Age), Player, Tm, Pk, Year FROM df\")\n"
   ]
  },
  {
   "cell_type": "markdown",
   "id": "13cd7337-fd9e-4e6a-a25a-e37ce63da4b5",
   "metadata": {},
   "source": [
    "### Displaying data via histograms\n",
    "- many NBA first-round picks between the 2000 and 2009 drafts accrued very few career win shares while just a few players accrued lots of win shares"
   ]
  },
  {
   "cell_type": "code",
   "execution_count": 25,
   "id": "c0afeb6e-ff2e-41a1-b3eb-94497eb354bb",
   "metadata": {
    "tags": []
   },
   "outputs": [
    {
     "data": {
      "image/png": "[encoded data removed]",
      "text/plain": [
       "<Figure size 600x600 with 1 Axes>"
      ]
     },
     "metadata": {},
     "output_type": "display_data"
    }
   ],
   "source": [
    "ax = (df.WS).plot.hist(figsize=(6, 6))\n",
    "ax.set_xlabel('Career Win Share')\n",
    "plt.title('2000-09 NBA Drafts',fontsize=9)\n",
    "_ = plt.suptitle('Career Win Shares Distribution of NBA First-Round Selections',fontsize=12, y=1)"
   ]
  },
  {
   "cell_type": "markdown",
   "id": "d8aeb6e0-5648-4efe-a1ac-813b10464f4f",
   "metadata": {},
   "source": [
    "#### Breakdown by year"
   ]
  },
  {
   "cell_type": "code",
   "execution_count": 26,
   "id": "5e4f4863-4b80-4b52-9c9e-05bfcaa01d2c",
   "metadata": {
    "tags": []
   },
   "outputs": [
    {
     "data": {
      "image/png": "[encoded data removed]",
      "text/plain": [
       "<Figure size 640x480 with 1 Axes>"
      ]
     },
     "metadata": {},
     "output_type": "display_data"
    }
   ],
   "source": [
    "ax = sns.histplot(df, x=\"WS\", hue=\"Year\", palette=\"twilight\")\n",
    "ax.set_xlabel('Career Win Share')\n",
    "plt.title('2000-09 NBA Drafts by year',fontsize=9)\n",
    "_ = plt.suptitle('Career Win Shares Distribution of NBA First-Round Selections',fontsize=12, y=1)"
   ]
  },
  {
   "cell_type": "markdown",
   "id": "a44bea78-a216-4375-9903-82493190eb0b",
   "metadata": {
    "tags": []
   },
   "source": [
    "#### Breakdown by place of birth"
   ]
  },
  {
   "cell_type": "code",
   "execution_count": 27,
   "id": "c66f1b4b-aaf8-4e10-9d30-6ede65ba9a22",
   "metadata": {
    "tags": []
   },
   "outputs": [
    {
     "data": {
      "image/png": "[encoded data removed]",
      "text/plain": [
       "<Figure size 640x480 with 1 Axes>"
      ]
     },
     "metadata": {},
     "output_type": "display_data"
    }
   ],
   "source": [
    "_ = sns.histplot(data=df, x=\"WS\", hue=\"born2\", multiple=\"stack\", palette=\"rocket\")"
   ]
  },
  {
   "cell_type": "markdown",
   "id": "6ac1915d-47cc-4f92-b914-3899f245ca44",
   "metadata": {
    "tags": []
   },
   "source": [
    "##### Run some queries to show career win shares is either greater than or equal to 75 or, alternatively, less than 75.\n",
    "\n"
   ]
  },
  {
   "cell_type": "code",
   "execution_count": 28,
   "id": "e213a865-2e65-4484-9d32-5aee2edf3b44",
   "metadata": {
    "tags": []
   },
   "outputs": [
    {
     "data": {
      "text/html": [
       "<div>\n",
       "<style scoped>\n",
       "    .dataframe tbody tr th:only-of-type {\n",
       "        vertical-align: middle;\n",
       "    }\n",
       "\n",
       "    .dataframe tbody tr th {\n",
       "        vertical-align: top;\n",
       "    }\n",
       "\n",
       "    .dataframe thead th {\n",
       "        text-align: right;\n",
       "    }\n",
       "</style>\n",
       "<table border=\"1\" class=\"dataframe\">\n",
       "  <thead>\n",
       "    <tr style=\"text-align: right;\">\n",
       "      <th></th>\n",
       "      <th>COUNT (*)</th>\n",
       "    </tr>\n",
       "  </thead>\n",
       "  <tbody>\n",
       "    <tr>\n",
       "      <th>0</th>\n",
       "      <td>27</td>\n",
       "    </tr>\n",
       "  </tbody>\n",
       "</table>\n",
       "</div>"
      ],
      "text/plain": [
       "   COUNT (*)\n",
       "0         27"
      ]
     },
     "execution_count": 28,
     "metadata": {},
     "output_type": "execute_result"
    }
   ],
   "source": [
    "sqldf.run(\"select COUNT (*) FROM df WHERE WS >= 75\")"
   ]
  },
  {
   "cell_type": "code",
   "execution_count": 29,
   "id": "bc6367e6-c309-4bb1-b322-0d69a8aca85f",
   "metadata": {
    "tags": []
   },
   "outputs": [
    {
     "data": {
      "text/html": [
       "<div>\n",
       "<style scoped>\n",
       "    .dataframe tbody tr th:only-of-type {\n",
       "        vertical-align: middle;\n",
       "    }\n",
       "\n",
       "    .dataframe tbody tr th {\n",
       "        vertical-align: top;\n",
       "    }\n",
       "\n",
       "    .dataframe thead th {\n",
       "        text-align: right;\n",
       "    }\n",
       "</style>\n",
       "<table border=\"1\" class=\"dataframe\">\n",
       "  <thead>\n",
       "    <tr style=\"text-align: right;\">\n",
       "      <th></th>\n",
       "      <th>COUNT (*)</th>\n",
       "    </tr>\n",
       "  </thead>\n",
       "  <tbody>\n",
       "    <tr>\n",
       "      <th>0</th>\n",
       "      <td>264</td>\n",
       "    </tr>\n",
       "  </tbody>\n",
       "</table>\n",
       "</div>"
      ],
      "text/plain": [
       "   COUNT (*)\n",
       "0        264"
      ]
     },
     "execution_count": 29,
     "metadata": {},
     "output_type": "execute_result"
    }
   ],
   "source": [
    "sqldf.run(\"select COUNT (*) FROM df WHERE WS < 75\")"
   ]
  },
  {
   "cell_type": "markdown",
   "id": "174ac5d7-471d-4fa6-a129-87c73d54f787",
   "metadata": {
    "tags": []
   },
   "source": [
    "# Viz boxplot \n",
    "- Median: The middle value, represented by a horizontal line.\n",
    "- First Quartile: The middle value between the smallest number (not necessarily the “minimum”) and the median, otherwise known as the 25th percentile.\n",
    "- Third Quartile: The middle value between the median and the highest number (not necessarily the “maximum”), otherwise known as the 75th percentile.\n",
    "- Interquartile Range (IQR): The 25th to 75th percentiles; basically, the box.\n",
    "- “Minimum”: Equal to Q1 - (1.5 * IQR). This is not necessarily the lowest value; there may, in fact, be one or more data points–outliers–beyond the so-called minimum.\n",
    "- “Maximum”: Equal to Q3 + (1.5 * IQR). Likewise, this may not actually represent the highest value.\n",
    "- The dots above the whisker are called outliers. \n",
    "- Outliers are calculated in three steps:\n",
    "  - Find Inter Quartile Range (IQR) by subtracting the 25th percentile from the 75th: 75% — 25%\n",
    "  - The lower outlier limit is calculated by subtracting 1.5 times of IQR from the 25th: 25% — 1.5*IQR\n",
    "  - The upper outlier limit is calculated by adding 1.5 times of IQR to the 75th: 75% + 1.5*IQR\n",
    "  - Any values above and below the outlier limits become dots in a box plot."
   ]
  },
  {
   "attachments": {
    "81655bc4-1694-450a-9cc1-a35dc7174314.png": {
     "image/png": "[encoded data removed]"
    }
   },
   "cell_type": "markdown",
   "id": "2480b51a-8b40-4d6a-807b-131b9021ff94",
   "metadata": {},
   "source": [
    "![image.png](attachment:81655bc4-1694-450a-9cc1-a35dc7174314.png)"
   ]
  },
  {
   "cell_type": "markdown",
   "id": "e7b7810c-6272-4dc5-a07a-b218006eb094",
   "metadata": {},
   "source": [
    "### College Win Share findings \n",
    "- Players born in the United States generally accrued more career win shares than did players born outside the US.\n",
    "- Players born in the US who bypassed college generally accrued more career win shares than did US-born players who did attend a college or university.\n",
    "- Alternatively, players born in any country other than the United States and who did not attend college or university generally accrued fewer win shares over their respective careers than did other players born outside the US who did attend college.\n",
    "- The means are consistently higher than the medians, suggesting of course that average win shares, regardless of how the data are sliced and diced, are affected by superstar production"
   ]
  },
  {
   "cell_type": "code",
   "execution_count": 30,
   "id": "217c1336-5430-4075-a5f3-5af552c04147",
   "metadata": {
    "tags": []
   },
   "outputs": [
    {
     "data": {
      "image/png": "[encoded data removed]",
      "text/plain": [
       "<Figure size 1000x500 with 2 Axes>"
      ]
     },
     "metadata": {},
     "output_type": "display_data"
    }
   ],
   "source": [
    "g = sns.catplot(x='college2', \n",
    "                 y='WS', \n",
    "                 col='born2',\n",
    "                 kind='box',\n",
    "                 palette='plasma',\n",
    "                 showmeans=True,\n",
    "                 data=df)\n",
    "g.set_axis_labels(\"\", \"Career Win Share\")\n",
    "g.set_xticklabels([\"No College\", \"College\"], rotation=0)\n",
    "g.set_titles(\"{col_name}\")\n",
    "_ = g.fig.suptitle('Career Win Shares Distribution of NBA First-Round Selections \\n' + \n",
    "'\\n 2000-09 NBA Drafts', y=1.15)\n"
   ]
  },
  {
   "cell_type": "code",
   "execution_count": 31,
   "id": "f86bdab4-9e74-4124-94dd-bf426d8526fd",
   "metadata": {
    "tags": []
   },
   "outputs": [
    {
     "data": {
      "image/png": "[encoded data removed]",
      "text/plain": [
       "<Figure size 640x480 with 1 Axes>"
      ]
     },
     "metadata": {},
     "output_type": "display_data"
    }
   ],
   "source": [
    "meanpointprops = dict(marker='o', markeredgecolor='black',\n",
    "                      markerfacecolor='firebrick')\n",
    "g = sns.boxplot(data=df,\n",
    "                 x='Year', \n",
    "                 y='WS',      \n",
    "                 palette='Blues',\n",
    "                 showmeans=True,\n",
    "                 meanprops=meanpointprops,\n",
    "                 \n",
    "                 )\n",
    "g.set_ylabel('Career Win Share')\n",
    "plt.title('2000-09 NBA Drafts',fontsize=9)\n",
    "_ = plt.suptitle('Year-over-Year Win Shares Distribution of NBA First-Round Selections',fontsize=12, y=1)"
   ]
  },
  {
   "cell_type": "markdown",
   "id": "b5722eb7-3a31-4993-9c35-21aeb905a4eb",
   "metadata": {},
   "source": [
    "##### Summary stats on Win Shares"
   ]
  },
  {
   "cell_type": "code",
   "execution_count": 32,
   "id": "6438e9e5-42cd-4e99-858f-589974d7cc3b",
   "metadata": {
    "tags": []
   },
   "outputs": [
    {
     "data": {
      "text/plain": [
       "count    291.000000\n",
       "mean      29.348110\n",
       "std       33.643744\n",
       "min       -1.600000\n",
       "25%        4.050000\n",
       "50%       19.600000\n",
       "75%       43.850000\n",
       "max      236.100000\n",
       "Name: WS, dtype: float64"
      ]
     },
     "execution_count": 32,
     "metadata": {},
     "output_type": "execute_result"
    }
   ],
   "source": [
    "df.describe()['WS']"
   ]
  },
  {
   "cell_type": "markdown",
   "id": "1062348a-c9e7-41fe-90c9-029c61a2d413",
   "metadata": {
    "tags": []
   },
   "source": [
    "##### computing the mean of win shares by year"
   ]
  },
  {
   "cell_type": "code",
   "execution_count": 33,
   "id": "a74d300d-4778-4e3a-90af-1a79ee554c51",
   "metadata": {
    "tags": []
   },
   "outputs": [
    {
     "data": {
      "text/html": [
       "<div>\n",
       "<style scoped>\n",
       "    .dataframe tbody tr th:only-of-type {\n",
       "        vertical-align: middle;\n",
       "    }\n",
       "\n",
       "    .dataframe tbody tr th {\n",
       "        vertical-align: top;\n",
       "    }\n",
       "\n",
       "    .dataframe thead th {\n",
       "        text-align: right;\n",
       "    }\n",
       "</style>\n",
       "<table border=\"1\" class=\"dataframe\">\n",
       "  <thead>\n",
       "    <tr style=\"text-align: right;\">\n",
       "      <th></th>\n",
       "      <th>Year</th>\n",
       "      <th>mean</th>\n",
       "    </tr>\n",
       "  </thead>\n",
       "  <tbody>\n",
       "    <tr>\n",
       "      <th>0</th>\n",
       "      <td>2000</td>\n",
       "      <td>18.268966</td>\n",
       "    </tr>\n",
       "    <tr>\n",
       "      <th>1</th>\n",
       "      <td>2001</td>\n",
       "      <td>39.035714</td>\n",
       "    </tr>\n",
       "    <tr>\n",
       "      <th>2</th>\n",
       "      <td>2002</td>\n",
       "      <td>21.414286</td>\n",
       "    </tr>\n",
       "    <tr>\n",
       "      <th>3</th>\n",
       "      <td>2003</td>\n",
       "      <td>37.913793</td>\n",
       "    </tr>\n",
       "    <tr>\n",
       "      <th>4</th>\n",
       "      <td>2004</td>\n",
       "      <td>33.972414</td>\n",
       "    </tr>\n",
       "    <tr>\n",
       "      <th>5</th>\n",
       "      <td>2005</td>\n",
       "      <td>30.572414</td>\n",
       "    </tr>\n",
       "    <tr>\n",
       "      <th>6</th>\n",
       "      <td>2006</td>\n",
       "      <td>20.580000</td>\n",
       "    </tr>\n",
       "    <tr>\n",
       "      <th>7</th>\n",
       "      <td>2007</td>\n",
       "      <td>28.558621</td>\n",
       "    </tr>\n",
       "    <tr>\n",
       "      <th>8</th>\n",
       "      <td>2008</td>\n",
       "      <td>33.723333</td>\n",
       "    </tr>\n",
       "    <tr>\n",
       "      <th>9</th>\n",
       "      <td>2009</td>\n",
       "      <td>29.643333</td>\n",
       "    </tr>\n",
       "  </tbody>\n",
       "</table>\n",
       "</div>"
      ],
      "text/plain": [
       "   Year       mean\n",
       "0  2000  18.268966\n",
       "1  2001  39.035714\n",
       "2  2002  21.414286\n",
       "3  2003  37.913793\n",
       "4  2004  33.972414\n",
       "5  2005  30.572414\n",
       "6  2006  20.580000\n",
       "7  2007  28.558621\n",
       "8  2008  33.723333\n",
       "9  2009  29.643333"
      ]
     },
     "execution_count": 33,
     "metadata": {},
     "output_type": "execute_result"
    }
   ],
   "source": [
    "df.groupby('Year').describe()['WS']['mean'].to_frame().reset_index()"
   ]
  },
  {
   "cell_type": "markdown",
   "id": "554f7117-3b22-4e01-8326-820976a977c8",
   "metadata": {
    "tags": []
   },
   "source": [
    "##### counts the number of players in the draft data set who accrued 75 or more win shares in their respective careers by year"
   ]
  },
  {
   "cell_type": "code",
   "execution_count": 34,
   "id": "8b27db12-ac26-4188-85cf-928837db1784",
   "metadata": {
    "tags": []
   },
   "outputs": [
    {
     "data": {
      "text/plain": [
       "Year\n",
       "2001    7\n",
       "2002    1\n",
       "2003    5\n",
       "2004    2\n",
       "2005    3\n",
       "2006    2\n",
       "2007    2\n",
       "2008    2\n",
       "2009    3\n",
       "dtype: int64"
      ]
     },
     "execution_count": 34,
     "metadata": {},
     "output_type": "execute_result"
    }
   ],
   "source": [
    "df.loc[df['WS'] >= 75].groupby('Year').size()"
   ]
  },
  {
   "cell_type": "markdown",
   "id": "2c13885a-c9de-4ff6-b969-daf1f41dc006",
   "metadata": {},
   "source": [
    "#### Use sqlDF to query spcific players "
   ]
  },
  {
   "cell_type": "markdown",
   "id": "fc6c57d0-c868-42c4-9956-12f67cd8c5c2",
   "metadata": {},
   "source": [
    "##### Player and Pk from draft where WS is greater than or equal to 75 and the variable Year equals 2001"
   ]
  },
  {
   "cell_type": "code",
   "execution_count": 35,
   "id": "d519a802-cc48-4b5d-b7e2-43a726710b7f",
   "metadata": {
    "tags": []
   },
   "outputs": [
    {
     "data": {
      "text/html": [
       "<div>\n",
       "<style scoped>\n",
       "    .dataframe tbody tr th:only-of-type {\n",
       "        vertical-align: middle;\n",
       "    }\n",
       "\n",
       "    .dataframe tbody tr th {\n",
       "        vertical-align: top;\n",
       "    }\n",
       "\n",
       "    .dataframe thead th {\n",
       "        text-align: right;\n",
       "    }\n",
       "</style>\n",
       "<table border=\"1\" class=\"dataframe\">\n",
       "  <thead>\n",
       "    <tr style=\"text-align: right;\">\n",
       "      <th></th>\n",
       "      <th>Player</th>\n",
       "      <th>Pk</th>\n",
       "    </tr>\n",
       "  </thead>\n",
       "  <tbody>\n",
       "    <tr>\n",
       "      <th>0</th>\n",
       "      <td>Tyson Chandler</td>\n",
       "      <td>2</td>\n",
       "    </tr>\n",
       "    <tr>\n",
       "      <th>1</th>\n",
       "      <td>Pau Gasol</td>\n",
       "      <td>3</td>\n",
       "    </tr>\n",
       "    <tr>\n",
       "      <th>2</th>\n",
       "      <td>Shane Battier</td>\n",
       "      <td>6</td>\n",
       "    </tr>\n",
       "    <tr>\n",
       "      <th>3</th>\n",
       "      <td>Joe Johnson</td>\n",
       "      <td>10</td>\n",
       "    </tr>\n",
       "    <tr>\n",
       "      <th>4</th>\n",
       "      <td>Richard Jefferson</td>\n",
       "      <td>13</td>\n",
       "    </tr>\n",
       "    <tr>\n",
       "      <th>5</th>\n",
       "      <td>Zach Randolph</td>\n",
       "      <td>19</td>\n",
       "    </tr>\n",
       "    <tr>\n",
       "      <th>6</th>\n",
       "      <td>Tony Parker</td>\n",
       "      <td>28</td>\n",
       "    </tr>\n",
       "  </tbody>\n",
       "</table>\n",
       "</div>"
      ],
      "text/plain": [
       "              Player  Pk\n",
       "0     Tyson Chandler   2\n",
       "1          Pau Gasol   3\n",
       "2      Shane Battier   6\n",
       "3        Joe Johnson  10\n",
       "4  Richard Jefferson  13\n",
       "5      Zach Randolph  19\n",
       "6        Tony Parker  28"
      ]
     },
     "execution_count": 35,
     "metadata": {},
     "output_type": "execute_result"
    }
   ],
   "source": [
    "sqldf.run(\"select Player, Pk FROM df WHERE WS >= 75 AND Year == 2001\")\n"
   ]
  },
  {
   "cell_type": "markdown",
   "id": "28dfb3cf-01d7-4e0d-b8cf-e99715c22e7d",
   "metadata": {},
   "source": [
    "##### WS again is greater than or equal to 75 and the variable Year this time equals 2003"
   ]
  },
  {
   "cell_type": "code",
   "execution_count": 36,
   "id": "acf07c8a-d8dc-425b-a597-f5daf84133a6",
   "metadata": {
    "tags": []
   },
   "outputs": [
    {
     "data": {
      "text/html": [
       "<div>\n",
       "<style scoped>\n",
       "    .dataframe tbody tr th:only-of-type {\n",
       "        vertical-align: middle;\n",
       "    }\n",
       "\n",
       "    .dataframe tbody tr th {\n",
       "        vertical-align: top;\n",
       "    }\n",
       "\n",
       "    .dataframe thead th {\n",
       "        text-align: right;\n",
       "    }\n",
       "</style>\n",
       "<table border=\"1\" class=\"dataframe\">\n",
       "  <thead>\n",
       "    <tr style=\"text-align: right;\">\n",
       "      <th></th>\n",
       "      <th>Player</th>\n",
       "      <th>Pk</th>\n",
       "      <th>WS</th>\n",
       "    </tr>\n",
       "  </thead>\n",
       "  <tbody>\n",
       "    <tr>\n",
       "      <th>0</th>\n",
       "      <td>LeBron James</td>\n",
       "      <td>1</td>\n",
       "      <td>236.1</td>\n",
       "    </tr>\n",
       "    <tr>\n",
       "      <th>1</th>\n",
       "      <td>Dwyane Wade</td>\n",
       "      <td>5</td>\n",
       "      <td>120.7</td>\n",
       "    </tr>\n",
       "    <tr>\n",
       "      <th>2</th>\n",
       "      <td>Chris Bosh</td>\n",
       "      <td>4</td>\n",
       "      <td>106.0</td>\n",
       "    </tr>\n",
       "    <tr>\n",
       "      <th>3</th>\n",
       "      <td>Carmelo Anthony</td>\n",
       "      <td>3</td>\n",
       "      <td>102.0</td>\n",
       "    </tr>\n",
       "    <tr>\n",
       "      <th>4</th>\n",
       "      <td>David West</td>\n",
       "      <td>18</td>\n",
       "      <td>85.9</td>\n",
       "    </tr>\n",
       "  </tbody>\n",
       "</table>\n",
       "</div>"
      ],
      "text/plain": [
       "            Player  Pk     WS\n",
       "0     LeBron James   1  236.1\n",
       "1      Dwyane Wade   5  120.7\n",
       "2       Chris Bosh   4  106.0\n",
       "3  Carmelo Anthony   3  102.0\n",
       "4       David West  18   85.9"
      ]
     },
     "execution_count": 36,
     "metadata": {},
     "output_type": "execute_result"
    }
   ],
   "source": [
    "sqldf.run(\"select Player, Pk, WS FROM df WHERE WS >= 75 AND Year == 2003 ORDER BY WS DESC\")"
   ]
  },
  {
   "cell_type": "markdown",
   "id": "104d96e9-aba3-4f0a-a99a-0a9dd99b331a",
   "metadata": {},
   "source": [
    "#####  WS is greater than or equal to 75; between the group_by() and agg() functions, the mean of Pk is computed across each year in draft"
   ]
  },
  {
   "cell_type": "code",
   "execution_count": 37,
   "id": "143df60c-f5e8-4a47-9d85-07907bcaa652",
   "metadata": {
    "tags": []
   },
   "outputs": [
    {
     "data": {
      "text/html": [
       "<div>\n",
       "<style scoped>\n",
       "    .dataframe tbody tr th:only-of-type {\n",
       "        vertical-align: middle;\n",
       "    }\n",
       "\n",
       "    .dataframe tbody tr th {\n",
       "        vertical-align: top;\n",
       "    }\n",
       "\n",
       "    .dataframe thead th {\n",
       "        text-align: right;\n",
       "    }\n",
       "</style>\n",
       "<table border=\"1\" class=\"dataframe\">\n",
       "  <thead>\n",
       "    <tr style=\"text-align: right;\">\n",
       "      <th></th>\n",
       "      <th>Pk</th>\n",
       "    </tr>\n",
       "    <tr>\n",
       "      <th>Year</th>\n",
       "      <th></th>\n",
       "    </tr>\n",
       "  </thead>\n",
       "  <tbody>\n",
       "    <tr>\n",
       "      <th>2001</th>\n",
       "      <td>11.571429</td>\n",
       "    </tr>\n",
       "    <tr>\n",
       "      <th>2002</th>\n",
       "      <td>9.000000</td>\n",
       "    </tr>\n",
       "    <tr>\n",
       "      <th>2003</th>\n",
       "      <td>6.200000</td>\n",
       "    </tr>\n",
       "    <tr>\n",
       "      <th>2004</th>\n",
       "      <td>5.000000</td>\n",
       "    </tr>\n",
       "    <tr>\n",
       "      <th>2005</th>\n",
       "      <td>12.333333</td>\n",
       "    </tr>\n",
       "    <tr>\n",
       "      <th>2006</th>\n",
       "      <td>13.000000</td>\n",
       "    </tr>\n",
       "    <tr>\n",
       "      <th>2007</th>\n",
       "      <td>2.500000</td>\n",
       "    </tr>\n",
       "    <tr>\n",
       "      <th>2008</th>\n",
       "      <td>4.500000</td>\n",
       "    </tr>\n",
       "    <tr>\n",
       "      <th>2009</th>\n",
       "      <td>3.666667</td>\n",
       "    </tr>\n",
       "  </tbody>\n",
       "</table>\n",
       "</div>"
      ],
      "text/plain": [
       "             Pk\n",
       "Year           \n",
       "2001  11.571429\n",
       "2002   9.000000\n",
       "2003   6.200000\n",
       "2004   5.000000\n",
       "2005  12.333333\n",
       "2006  13.000000\n",
       "2007   2.500000\n",
       "2008   4.500000\n",
       "2009   3.666667"
      ]
     },
     "execution_count": 37,
     "metadata": {},
     "output_type": "execute_result"
    }
   ],
   "source": [
    "df.loc[df['WS'] >= 75][['Year','Pk']].groupby('Year').agg('mean')"
   ]
  },
  {
   "cell_type": "markdown",
   "id": "89bc85cb-537a-4a81-95c1-9263e8485f81",
   "metadata": {},
   "source": [
    "##### query the avg Pk for WS greater than or equal to 75"
   ]
  },
  {
   "cell_type": "code",
   "execution_count": 38,
   "id": "0caf26a9-476a-4566-b9db-2997f97bc0e9",
   "metadata": {
    "tags": []
   },
   "outputs": [
    {
     "data": {
      "text/html": [
       "<div>\n",
       "<style scoped>\n",
       "    .dataframe tbody tr th:only-of-type {\n",
       "        vertical-align: middle;\n",
       "    }\n",
       "\n",
       "    .dataframe tbody tr th {\n",
       "        vertical-align: top;\n",
       "    }\n",
       "\n",
       "    .dataframe thead th {\n",
       "        text-align: right;\n",
       "    }\n",
       "</style>\n",
       "<table border=\"1\" class=\"dataframe\">\n",
       "  <thead>\n",
       "    <tr style=\"text-align: right;\">\n",
       "      <th></th>\n",
       "      <th>AVG(Pk)</th>\n",
       "    </tr>\n",
       "  </thead>\n",
       "  <tbody>\n",
       "    <tr>\n",
       "      <th>0</th>\n",
       "      <td>8.111111</td>\n",
       "    </tr>\n",
       "  </tbody>\n",
       "</table>\n",
       "</div>"
      ],
      "text/plain": [
       "    AVG(Pk)\n",
       "0  8.111111"
      ]
     },
     "execution_count": 38,
     "metadata": {},
     "output_type": "execute_result"
    }
   ],
   "source": [
    "sqldf.run(\"select AVG(Pk) FROM df WHERE WS >= 75\")"
   ]
  },
  {
   "cell_type": "markdown",
   "id": "e9fde5e9-ff61-4bf5-81ae-e5dea871129b",
   "metadata": {},
   "source": [
    "##### Now do the median"
   ]
  },
  {
   "cell_type": "code",
   "execution_count": 39,
   "id": "d2fd6534-5a7f-4f1e-9a90-cc90231e1c79",
   "metadata": {
    "tags": []
   },
   "outputs": [
    {
     "data": {
      "text/html": [
       "<div>\n",
       "<style scoped>\n",
       "    .dataframe tbody tr th:only-of-type {\n",
       "        vertical-align: middle;\n",
       "    }\n",
       "\n",
       "    .dataframe tbody tr th {\n",
       "        vertical-align: top;\n",
       "    }\n",
       "\n",
       "    .dataframe thead th {\n",
       "        text-align: right;\n",
       "    }\n",
       "</style>\n",
       "<table border=\"1\" class=\"dataframe\">\n",
       "  <thead>\n",
       "    <tr style=\"text-align: right;\">\n",
       "      <th></th>\n",
       "      <th>Pk</th>\n",
       "    </tr>\n",
       "    <tr>\n",
       "      <th>Year</th>\n",
       "      <th></th>\n",
       "    </tr>\n",
       "  </thead>\n",
       "  <tbody>\n",
       "    <tr>\n",
       "      <th>2001</th>\n",
       "      <td>10.0</td>\n",
       "    </tr>\n",
       "    <tr>\n",
       "      <th>2002</th>\n",
       "      <td>9.0</td>\n",
       "    </tr>\n",
       "    <tr>\n",
       "      <th>2003</th>\n",
       "      <td>4.0</td>\n",
       "    </tr>\n",
       "    <tr>\n",
       "      <th>2004</th>\n",
       "      <td>5.0</td>\n",
       "    </tr>\n",
       "    <tr>\n",
       "      <th>2005</th>\n",
       "      <td>4.0</td>\n",
       "    </tr>\n",
       "    <tr>\n",
       "      <th>2006</th>\n",
       "      <td>13.0</td>\n",
       "    </tr>\n",
       "    <tr>\n",
       "      <th>2007</th>\n",
       "      <td>2.5</td>\n",
       "    </tr>\n",
       "    <tr>\n",
       "      <th>2008</th>\n",
       "      <td>4.5</td>\n",
       "    </tr>\n",
       "    <tr>\n",
       "      <th>2009</th>\n",
       "      <td>3.0</td>\n",
       "    </tr>\n",
       "  </tbody>\n",
       "</table>\n",
       "</div>"
      ],
      "text/plain": [
       "        Pk\n",
       "Year      \n",
       "2001  10.0\n",
       "2002   9.0\n",
       "2003   4.0\n",
       "2004   5.0\n",
       "2005   4.0\n",
       "2006  13.0\n",
       "2007   2.5\n",
       "2008   4.5\n",
       "2009   3.0"
      ]
     },
     "execution_count": 39,
     "metadata": {},
     "output_type": "execute_result"
    }
   ],
   "source": [
    "df.loc[df['WS'] >= 75][['Year','Pk']].groupby('Year').agg('median')"
   ]
  },
  {
   "cell_type": "code",
   "execution_count": 40,
   "id": "3537eb24-f036-43ce-bd96-a7e6dcca3105",
   "metadata": {
    "tags": []
   },
   "outputs": [
    {
     "data": {
      "text/html": [
       "<div>\n",
       "<style scoped>\n",
       "    .dataframe tbody tr th:only-of-type {\n",
       "        vertical-align: middle;\n",
       "    }\n",
       "\n",
       "    .dataframe tbody tr th {\n",
       "        vertical-align: top;\n",
       "    }\n",
       "\n",
       "    .dataframe thead th {\n",
       "        text-align: right;\n",
       "    }\n",
       "</style>\n",
       "<table border=\"1\" class=\"dataframe\">\n",
       "  <thead>\n",
       "    <tr style=\"text-align: right;\">\n",
       "      <th></th>\n",
       "      <th>COUNT (*)</th>\n",
       "    </tr>\n",
       "  </thead>\n",
       "  <tbody>\n",
       "    <tr>\n",
       "      <th>0</th>\n",
       "      <td>81</td>\n",
       "    </tr>\n",
       "  </tbody>\n",
       "</table>\n",
       "</div>"
      ],
      "text/plain": [
       "   COUNT (*)\n",
       "0         81"
      ]
     },
     "execution_count": 40,
     "metadata": {},
     "output_type": "execute_result"
    }
   ],
   "source": [
    "sqldf.run(\"select COUNT (*) FROM df WHERE WS < 5\")"
   ]
  },
  {
   "cell_type": "code",
   "execution_count": 41,
   "id": "6310adc2-390b-4eb5-bf57-ed0bdd993b8b",
   "metadata": {
    "tags": []
   },
   "outputs": [
    {
     "data": {
      "text/html": [
       "<div>\n",
       "<style scoped>\n",
       "    .dataframe tbody tr th:only-of-type {\n",
       "        vertical-align: middle;\n",
       "    }\n",
       "\n",
       "    .dataframe tbody tr th {\n",
       "        vertical-align: top;\n",
       "    }\n",
       "\n",
       "    .dataframe thead th {\n",
       "        text-align: right;\n",
       "    }\n",
       "</style>\n",
       "<table border=\"1\" class=\"dataframe\">\n",
       "  <thead>\n",
       "    <tr style=\"text-align: right;\">\n",
       "      <th></th>\n",
       "      <th>COUNT (*)</th>\n",
       "    </tr>\n",
       "  </thead>\n",
       "  <tbody>\n",
       "    <tr>\n",
       "      <th>0</th>\n",
       "      <td>20</td>\n",
       "    </tr>\n",
       "  </tbody>\n",
       "</table>\n",
       "</div>"
      ],
      "text/plain": [
       "   COUNT (*)\n",
       "0         20"
      ]
     },
     "execution_count": 41,
     "metadata": {},
     "output_type": "execute_result"
    }
   ],
   "source": [
    "sqldf.run(\"select COUNT (*) FROM df WHERE WS < 0\")"
   ]
  },
  {
   "cell_type": "markdown",
   "id": "dcbb63a5-063d-468e-a53c-24919d12bc6b",
   "metadata": {
    "tags": []
   },
   "source": [
    "## Boxplot summary \n",
    "- The 2001 class stands out: first-round selections from the 2001 NBA draft averaged more win shares over the course of their careers, 39, than any other class of first-round selections between 2000 and 2009. Only in 2001 does the top-end of the Interquartile Range exceed 50 win shares.\n",
    "- Furthermore, seven players from this same class accrued 75 or more win shares during their careers, the most of any class within the draft data set. Three of these players–Tyson Chandler, Pau Gasol and Shane Battier–were amongst the top six picks that year; three other players–Joe Johnson, Richard Jefferson and Zach Randoph–were selected between picks 10 and 19; and then there’s Tony Parker, who was selected at 28 and then accrued 111.3 win shares, all while playing for the San Antonio Spurs.\n",
    "- First-round selections from the 2003 NBA draft averaged almost as many win shares, 38, as did the first-round picks from the 2001 class. LeBron James, Dwayne Wade, Chris Bosh, Carmelo Anthony and David West accrued more than 75 win shares in their respective careers, and that’s just through the 2019-20 season.\n",
    "- Four of the five players referenced above–all but David West–were amongst the first five players selected in 2001.\n",
    "- On the flip side, the 2000 class was probably the most disappointing; first-round selections from 2000 averaged barely 18 win shares in their respective careers, easily the lowest average of any class in the draft data set. Not surprisingly, no players drafted in 2000 earned up to 75 win shares in their respective careers. Only in 2000 does the top-end of the Interquartile Range fall short of 25 win shares.\n",
    "- Players that, so far, have accrued at least 75 win shares were selected eighth, on average; in fact, in the nine classes from draft that include at least one player who has since accrued 75 or more win shares, in five of these classes the average was 6 or less. The median equals 4.\n",
    "- When draft is subset on those players who have accrued a minimum of 100 win shares in their respective careers, the average pick, or selection, number equals 4 and the median is 3.\n",
    "- Of the 291 first-round selections in the draft data set, 81 of them accrued fewer than 5 career win shares, and 20 of these players accrued a negative number of career win shares."
   ]
  },
  {
   "cell_type": "markdown",
   "id": "49785bc6-4c8d-4034-8404-f41890d99d08",
   "metadata": {
    "tags": []
   },
   "source": [
    "# Correlation"
   ]
  },
  {
   "cell_type": "markdown",
   "id": "6262db36-91ef-4be7-8410-904f95eeabd5",
   "metadata": {},
   "source": [
    "- Correlation coefficients between two continuous variables will always equal some number between -1 and 1. \n",
    "- If and when the correlation coefficient equals, or is at least close to, -1, then the relationship between the two variables is negatively correlated; \n",
    "  - which is to say that when one variable increases the other decreases.   \n",
    "- If instead the correlation coefficient is equal to 1, or is at least approaching that, then the relationship between the two variables is positively correlated \n",
    "  - meaning the two variables always move in the same direction"
   ]
  },
  {
   "cell_type": "markdown",
   "id": "b6577816-4611-4151-8450-9756d9e52596",
   "metadata": {},
   "source": [
    "##### Get the correlation of the five continous variables in the draft dataframe"
   ]
  },
  {
   "cell_type": "code",
   "execution_count": 42,
   "id": "483ed198-51e5-4da6-a84f-8c5ea97d8d78",
   "metadata": {
    "tags": []
   },
   "outputs": [
    {
     "data": {
      "text/html": [
       "<div>\n",
       "<style scoped>\n",
       "    .dataframe tbody tr th:only-of-type {\n",
       "        vertical-align: middle;\n",
       "    }\n",
       "\n",
       "    .dataframe tbody tr th {\n",
       "        vertical-align: top;\n",
       "    }\n",
       "\n",
       "    .dataframe thead th {\n",
       "        text-align: right;\n",
       "    }\n",
       "</style>\n",
       "<table border=\"1\" class=\"dataframe\">\n",
       "  <thead>\n",
       "    <tr style=\"text-align: right;\">\n",
       "      <th></th>\n",
       "      <th>Age</th>\n",
       "      <th>G</th>\n",
       "      <th>MP</th>\n",
       "      <th>WS</th>\n",
       "      <th>WS/48</th>\n",
       "    </tr>\n",
       "  </thead>\n",
       "  <tbody>\n",
       "    <tr>\n",
       "      <th>Age</th>\n",
       "      <td>1.000000</td>\n",
       "      <td>-0.218960</td>\n",
       "      <td>-0.232785</td>\n",
       "      <td>-0.250965</td>\n",
       "      <td>-0.180153</td>\n",
       "    </tr>\n",
       "    <tr>\n",
       "      <th>G</th>\n",
       "      <td>-0.218960</td>\n",
       "      <td>1.000000</td>\n",
       "      <td>0.792162</td>\n",
       "      <td>0.800480</td>\n",
       "      <td>0.616543</td>\n",
       "    </tr>\n",
       "    <tr>\n",
       "      <th>MP</th>\n",
       "      <td>-0.232785</td>\n",
       "      <td>0.792162</td>\n",
       "      <td>1.000000</td>\n",
       "      <td>0.775888</td>\n",
       "      <td>0.659787</td>\n",
       "    </tr>\n",
       "    <tr>\n",
       "      <th>WS</th>\n",
       "      <td>-0.250965</td>\n",
       "      <td>0.800480</td>\n",
       "      <td>0.775888</td>\n",
       "      <td>1.000000</td>\n",
       "      <td>0.694206</td>\n",
       "    </tr>\n",
       "    <tr>\n",
       "      <th>WS/48</th>\n",
       "      <td>-0.180153</td>\n",
       "      <td>0.616543</td>\n",
       "      <td>0.659787</td>\n",
       "      <td>0.694206</td>\n",
       "      <td>1.000000</td>\n",
       "    </tr>\n",
       "  </tbody>\n",
       "</table>\n",
       "</div>"
      ],
      "text/plain": [
       "            Age         G        MP        WS     WS/48\n",
       "Age    1.000000 -0.218960 -0.232785 -0.250965 -0.180153\n",
       "G     -0.218960  1.000000  0.792162  0.800480  0.616543\n",
       "MP    -0.232785  0.792162  1.000000  0.775888  0.659787\n",
       "WS    -0.250965  0.800480  0.775888  1.000000  0.694206\n",
       "WS/48 -0.180153  0.616543  0.659787  0.694206  1.000000"
      ]
     },
     "execution_count": 42,
     "metadata": {},
     "output_type": "execute_result"
    }
   ],
   "source": [
    "corr_df = df[['Age', 'G', 'MP', 'WS', 'WS/48']].corr()\n",
    "corr_df"
   ]
  },
  {
   "cell_type": "code",
   "execution_count": 43,
   "id": "abf8d025-73d5-42a2-8673-cad255c14009",
   "metadata": {
    "tags": []
   },
   "outputs": [
    {
     "data": {
      "image/png": "[encoded data removed]",
      "text/plain": [
       "<Figure size 640x480 with 2 Axes>"
      ]
     },
     "metadata": {},
     "output_type": "display_data"
    }
   ],
   "source": [
    "ax = sns.heatmap(corr_df,  annot=True, cmap='flare')\n",
    "plt.suptitle('Correlation Matrix')\n",
    "plt.title('Correlation Coefficients between Win Shares and Other Continous Variables', fontsize=8)\n",
    "ax.invert_yaxis()\n",
    "_ = plt.yticks(rotation=0) "
   ]
  },
  {
   "cell_type": "markdown",
   "id": "7488b651-ba61-47b6-85f4-bc9654802fe4",
   "metadata": {},
   "source": [
    "- There are positive, and strong, correlations between win shares and regular season games played, minutes played per regular season game, and win shares for every 48 minutes of playing time. \n",
    "- Mind you, correlation coefficients don’t tell us which variable might be influencing another variable, if in fact there is any causation at all.\n",
    "- However, there is a negative correlation between the variables Win Shares and Age; which is to say that players entering the NBA draft between 2000 and 2009 at younger ages then accrued, generally, more career win shares than players who turned professional at “older” ages. The correlation between these variables is not strong, however. No doubt this is partially true because younger players likely have more years to play professional ball, and therefore more opportunity to accrue more win shares; but it’s also true–or at least likely so–that better players turn professional at younger ages than lesser players."
   ]
  },
  {
   "cell_type": "markdown",
   "id": "cda33a4a-ce24-4f62-a5a2-7358e0ff93cd",
   "metadata": {},
   "source": [
    "# Viz Population Means and Medians"
   ]
  },
  {
   "cell_type": "code",
   "execution_count": 44,
   "id": "7536c74d-01e7-4cee-9fe8-b93ac5acbac8",
   "metadata": {
    "tags": []
   },
   "outputs": [
    {
     "data": {
      "text/html": [
       "<div>\n",
       "<style scoped>\n",
       "    .dataframe tbody tr th:only-of-type {\n",
       "        vertical-align: middle;\n",
       "    }\n",
       "\n",
       "    .dataframe tbody tr th {\n",
       "        vertical-align: top;\n",
       "    }\n",
       "\n",
       "    .dataframe thead th {\n",
       "        text-align: right;\n",
       "    }\n",
       "</style>\n",
       "<table border=\"1\" class=\"dataframe\">\n",
       "  <thead>\n",
       "    <tr style=\"text-align: right;\">\n",
       "      <th></th>\n",
       "      <th>born2</th>\n",
       "      <th>meanWS</th>\n",
       "      <th>medianWS</th>\n",
       "    </tr>\n",
       "  </thead>\n",
       "  <tbody>\n",
       "    <tr>\n",
       "      <th>0</th>\n",
       "      <td>USA</td>\n",
       "      <td>31.099107</td>\n",
       "      <td>21.5</td>\n",
       "    </tr>\n",
       "    <tr>\n",
       "      <th>1</th>\n",
       "      <td>WORLD</td>\n",
       "      <td>23.494030</td>\n",
       "      <td>12.8</td>\n",
       "    </tr>\n",
       "  </tbody>\n",
       "</table>\n",
       "</div>"
      ],
      "text/plain": [
       "   born2     meanWS  medianWS\n",
       "0    USA  31.099107      21.5\n",
       "1  WORLD  23.494030      12.8"
      ]
     },
     "execution_count": 44,
     "metadata": {},
     "output_type": "execute_result"
    }
   ],
   "source": [
    "ws_df = df[['born2', 'WS']].groupby('born2').agg(\n",
    "    meanWS=pd.NamedAgg(\"WS\", \"mean\"),\n",
    "    medianWS=pd.NamedAgg(\"WS\", \"median\")).reset_index()\n",
    "ws_df"
   ]
  },
  {
   "cell_type": "markdown",
   "id": "979114d7-b92f-490f-87c0-89866d595fd9",
   "metadata": {},
   "source": [
    "##### There are two significant conclusions to draw from these two bar charts:\n",
    "\n",
    "- Players born in the US, on average, accrue more career win shares than players born elsewhere.\n",
    "- The means are significantly greater than the medians. Means are sensitive to outliers whereas medians are not; that the means are greater than the medians suggests, of course, that they are influenced by superstar production where win shares per superstar is greater than 100."
   ]
  },
  {
   "cell_type": "code",
   "execution_count": 45,
   "id": "394d2fe9-1334-4672-ae3e-a5549105b6be",
   "metadata": {
    "tags": []
   },
   "outputs": [
    {
     "data": {
      "image/png": "[encoded data removed]",
      "text/plain": [
       "<Figure size 640x480 with 2 Axes>"
      ]
     },
     "metadata": {},
     "output_type": "display_data"
    }
   ],
   "source": [
    "f, (ax1, ax2) = plt.subplots(1, 2, sharey=True)\n",
    "\n",
    "palettes = ['#c8b6ff', '#b8c0ff']\n",
    "sns.barplot(data=ws_df, x='born2', y='meanWS', palette=palettes, ax=ax1)\n",
    "ax1.set_title(\"Average Career Win Shares By Place Birth\", size=8)\n",
    "plt.suptitle(\"2000-2009 NBA Drafts\")\n",
    "ax1.set_ylabel(\"Mean Career Win Shares\", size=8)\n",
    "ax1.set_xlabel(\"Where Born\", size=8)\n",
    "ax1.bar_label(ax1.containers[0], size=8, fmt='%.1f')\n",
    "\n",
    "sns.barplot(data=ws_df, x='born2', y='medianWS', palette=palettes, ax=ax2)\n",
    "ax2.set_title(\"Median Career Win Shares By Place Birth\", size=8)\n",
    "ax2.set_ylabel(\"Median Career Win Shares\", size=8)\n",
    "ax2.set_xlabel(\"Where Born\", size=8)\n",
    "ax2.bar_label(ax2.containers[0], size=8, fmt='%.1f')\n",
    "\n",
    "_ = plt.show()"
   ]
  },
  {
   "cell_type": "code",
   "execution_count": 46,
   "id": "c8318c81-d085-485d-ab48-fa006111f831",
   "metadata": {
    "tags": []
   },
   "outputs": [
    {
     "data": {
      "text/html": [
       "<div>\n",
       "<style scoped>\n",
       "    .dataframe tbody tr th:only-of-type {\n",
       "        vertical-align: middle;\n",
       "    }\n",
       "\n",
       "    .dataframe tbody tr th {\n",
       "        vertical-align: top;\n",
       "    }\n",
       "\n",
       "    .dataframe thead th {\n",
       "        text-align: right;\n",
       "    }\n",
       "</style>\n",
       "<table border=\"1\" class=\"dataframe\">\n",
       "  <thead>\n",
       "    <tr style=\"text-align: right;\">\n",
       "      <th></th>\n",
       "      <th>college2</th>\n",
       "      <th>meanWS</th>\n",
       "      <th>medianWS</th>\n",
       "    </tr>\n",
       "  </thead>\n",
       "  <tbody>\n",
       "    <tr>\n",
       "      <th>0</th>\n",
       "      <td>0</td>\n",
       "      <td>30.315068</td>\n",
       "      <td>19.60</td>\n",
       "    </tr>\n",
       "    <tr>\n",
       "      <th>1</th>\n",
       "      <td>1</td>\n",
       "      <td>29.024312</td>\n",
       "      <td>19.65</td>\n",
       "    </tr>\n",
       "  </tbody>\n",
       "</table>\n",
       "</div>"
      ],
      "text/plain": [
       "   college2     meanWS  medianWS\n",
       "0         0  30.315068     19.60\n",
       "1         1  29.024312     19.65"
      ]
     },
     "execution_count": 46,
     "metadata": {},
     "output_type": "execute_result"
    }
   ],
   "source": [
    "c_df = df[['college2', 'WS']].groupby('college2').agg(\n",
    "    meanWS=pd.NamedAgg(\"WS\", \"mean\"),\n",
    "    medianWS=pd.NamedAgg(\"WS\", \"median\")).reset_index()\n",
    "c_df"
   ]
  },
  {
   "cell_type": "markdown",
   "id": "05d63d59-9fbf-4e6a-928b-5349fa9521c7",
   "metadata": {},
   "source": [
    "Between the two levels, or factors, in the variable College2, the means are essentially equal and the medians are essentially equal; \n",
    "\n",
    "however, the means are again significantly greater than the medians due to superstar outliers. \n",
    "\n"
   ]
  },
  {
   "cell_type": "code",
   "execution_count": 47,
   "id": "4ffebdf1-459e-42a6-9cd4-89adc5307007",
   "metadata": {
    "tags": []
   },
   "outputs": [
    {
     "data": {
      "image/png": "[encoded data removed]",
      "text/plain": [
       "<Figure size 640x480 with 2 Axes>"
      ]
     },
     "metadata": {},
     "output_type": "display_data"
    }
   ],
   "source": [
    "f, (ax1, ax2) = plt.subplots(1, 2, sharey=True)\n",
    "\n",
    "palettes = ['#a3b18a', '#3a5a40']\n",
    "sns.barplot(data=c_df, x='college2', y='meanWS', palette=palettes, ax=ax1)\n",
    "ax1.set_title(\"Average Career Win Shares By Higher Ed\", size=8)\n",
    "plt.suptitle(\"2000-2009 NBA Drafts\")\n",
    "ax1.set_ylabel(\"Mean Career Win Shares\", size=8)\n",
    "ax1.set_xlabel(\"College or No College\", size=10)\n",
    "ax1.bar_label(ax1.containers[0], size=8, fmt='%.1f')\n",
    "ax1.set_xticklabels([\"No College\", \"College\"], rotation=0,size=7)\n",
    "\n",
    "sns.barplot(data=c_df, x='college2', y='medianWS', palette=palettes, ax=ax2)\n",
    "ax2.set_title(\"Median Career Win Shares By Higher Ed\", size=8)\n",
    "ax2.set_ylabel(\"Median Career Win Shares\", size=8)\n",
    "ax2.set_xlabel(\"College or No College\", size=10)\n",
    "ax2.bar_label(ax2.containers[0], size=8, fmt='%.1f')\n",
    "ax2.set_xticklabels([\"No College\", \"College\"], rotation=0, size=7)\n",
    "\n",
    "_ = plt.show()"
   ]
  },
  {
   "cell_type": "code",
   "execution_count": 48,
   "id": "9f6a7865-e8cc-454d-8801-8a5f7223f3c0",
   "metadata": {
    "tags": []
   },
   "outputs": [
    {
     "data": {
      "text/html": [
       "<div>\n",
       "<style scoped>\n",
       "    .dataframe tbody tr th:only-of-type {\n",
       "        vertical-align: middle;\n",
       "    }\n",
       "\n",
       "    .dataframe tbody tr th {\n",
       "        vertical-align: top;\n",
       "    }\n",
       "\n",
       "    .dataframe thead th {\n",
       "        text-align: right;\n",
       "    }\n",
       "</style>\n",
       "<table border=\"1\" class=\"dataframe\">\n",
       "  <thead>\n",
       "    <tr style=\"text-align: right;\">\n",
       "      <th></th>\n",
       "      <th>born2</th>\n",
       "      <th>college2</th>\n",
       "      <th>pos2</th>\n",
       "      <th>mean</th>\n",
       "      <th>median</th>\n",
       "    </tr>\n",
       "  </thead>\n",
       "  <tbody>\n",
       "    <tr>\n",
       "      <th>0</th>\n",
       "      <td>USA</td>\n",
       "      <td>0</td>\n",
       "      <td>Big</td>\n",
       "      <td>81.750000</td>\n",
       "      <td>81.75</td>\n",
       "    </tr>\n",
       "    <tr>\n",
       "      <th>1</th>\n",
       "      <td>USA</td>\n",
       "      <td>0</td>\n",
       "      <td>Center</td>\n",
       "      <td>54.116667</td>\n",
       "      <td>32.65</td>\n",
       "    </tr>\n",
       "    <tr>\n",
       "      <th>2</th>\n",
       "      <td>USA</td>\n",
       "      <td>0</td>\n",
       "      <td>Forward</td>\n",
       "      <td>24.450000</td>\n",
       "      <td>18.65</td>\n",
       "    </tr>\n",
       "    <tr>\n",
       "      <th>3</th>\n",
       "      <td>USA</td>\n",
       "      <td>0</td>\n",
       "      <td>Guard</td>\n",
       "      <td>19.225000</td>\n",
       "      <td>21.00</td>\n",
       "    </tr>\n",
       "    <tr>\n",
       "      <th>4</th>\n",
       "      <td>USA</td>\n",
       "      <td>0</td>\n",
       "      <td>Swingman</td>\n",
       "      <td>70.300000</td>\n",
       "      <td>25.90</td>\n",
       "    </tr>\n",
       "    <tr>\n",
       "      <th>5</th>\n",
       "      <td>USA</td>\n",
       "      <td>1</td>\n",
       "      <td>Big</td>\n",
       "      <td>36.445000</td>\n",
       "      <td>24.80</td>\n",
       "    </tr>\n",
       "    <tr>\n",
       "      <th>6</th>\n",
       "      <td>USA</td>\n",
       "      <td>1</td>\n",
       "      <td>Center</td>\n",
       "      <td>22.405263</td>\n",
       "      <td>20.10</td>\n",
       "    </tr>\n",
       "    <tr>\n",
       "      <th>7</th>\n",
       "      <td>USA</td>\n",
       "      <td>1</td>\n",
       "      <td>Forward</td>\n",
       "      <td>25.223077</td>\n",
       "      <td>13.10</td>\n",
       "    </tr>\n",
       "    <tr>\n",
       "      <th>8</th>\n",
       "      <td>USA</td>\n",
       "      <td>1</td>\n",
       "      <td>Guard</td>\n",
       "      <td>29.816667</td>\n",
       "      <td>18.40</td>\n",
       "    </tr>\n",
       "    <tr>\n",
       "      <th>9</th>\n",
       "      <td>USA</td>\n",
       "      <td>1</td>\n",
       "      <td>Swingman</td>\n",
       "      <td>39.619048</td>\n",
       "      <td>30.40</td>\n",
       "    </tr>\n",
       "    <tr>\n",
       "      <th>10</th>\n",
       "      <td>WORLD</td>\n",
       "      <td>0</td>\n",
       "      <td>Big</td>\n",
       "      <td>39.910000</td>\n",
       "      <td>22.10</td>\n",
       "    </tr>\n",
       "    <tr>\n",
       "      <th>11</th>\n",
       "      <td>WORLD</td>\n",
       "      <td>0</td>\n",
       "      <td>Center</td>\n",
       "      <td>16.600000</td>\n",
       "      <td>10.80</td>\n",
       "    </tr>\n",
       "    <tr>\n",
       "      <th>12</th>\n",
       "      <td>WORLD</td>\n",
       "      <td>0</td>\n",
       "      <td>Forward</td>\n",
       "      <td>12.742857</td>\n",
       "      <td>1.55</td>\n",
       "    </tr>\n",
       "    <tr>\n",
       "      <th>13</th>\n",
       "      <td>WORLD</td>\n",
       "      <td>0</td>\n",
       "      <td>Guard</td>\n",
       "      <td>23.966667</td>\n",
       "      <td>15.10</td>\n",
       "    </tr>\n",
       "    <tr>\n",
       "      <th>14</th>\n",
       "      <td>WORLD</td>\n",
       "      <td>0</td>\n",
       "      <td>Swingman</td>\n",
       "      <td>30.180000</td>\n",
       "      <td>30.20</td>\n",
       "    </tr>\n",
       "    <tr>\n",
       "      <th>15</th>\n",
       "      <td>WORLD</td>\n",
       "      <td>1</td>\n",
       "      <td>Big</td>\n",
       "      <td>46.400000</td>\n",
       "      <td>46.40</td>\n",
       "    </tr>\n",
       "    <tr>\n",
       "      <th>16</th>\n",
       "      <td>WORLD</td>\n",
       "      <td>1</td>\n",
       "      <td>Center</td>\n",
       "      <td>22.633333</td>\n",
       "      <td>16.25</td>\n",
       "    </tr>\n",
       "    <tr>\n",
       "      <th>17</th>\n",
       "      <td>WORLD</td>\n",
       "      <td>1</td>\n",
       "      <td>Forward</td>\n",
       "      <td>19.080000</td>\n",
       "      <td>5.80</td>\n",
       "    </tr>\n",
       "    <tr>\n",
       "      <th>18</th>\n",
       "      <td>WORLD</td>\n",
       "      <td>1</td>\n",
       "      <td>Guard</td>\n",
       "      <td>33.300000</td>\n",
       "      <td>33.30</td>\n",
       "    </tr>\n",
       "    <tr>\n",
       "      <th>19</th>\n",
       "      <td>WORLD</td>\n",
       "      <td>1</td>\n",
       "      <td>Swingman</td>\n",
       "      <td>18.200000</td>\n",
       "      <td>18.20</td>\n",
       "    </tr>\n",
       "  </tbody>\n",
       "</table>\n",
       "</div>"
      ],
      "text/plain": [
       "    born2  college2      pos2       mean  median\n",
       "0     USA         0       Big  81.750000   81.75\n",
       "1     USA         0    Center  54.116667   32.65\n",
       "2     USA         0   Forward  24.450000   18.65\n",
       "3     USA         0     Guard  19.225000   21.00\n",
       "4     USA         0  Swingman  70.300000   25.90\n",
       "5     USA         1       Big  36.445000   24.80\n",
       "6     USA         1    Center  22.405263   20.10\n",
       "7     USA         1   Forward  25.223077   13.10\n",
       "8     USA         1     Guard  29.816667   18.40\n",
       "9     USA         1  Swingman  39.619048   30.40\n",
       "10  WORLD         0       Big  39.910000   22.10\n",
       "11  WORLD         0    Center  16.600000   10.80\n",
       "12  WORLD         0   Forward  12.742857    1.55\n",
       "13  WORLD         0     Guard  23.966667   15.10\n",
       "14  WORLD         0  Swingman  30.180000   30.20\n",
       "15  WORLD         1       Big  46.400000   46.40\n",
       "16  WORLD         1    Center  22.633333   16.25\n",
       "17  WORLD         1   Forward  19.080000    5.80\n",
       "18  WORLD         1     Guard  33.300000   33.30\n",
       "19  WORLD         1  Swingman  18.200000   18.20"
      ]
     },
     "execution_count": 48,
     "metadata": {},
     "output_type": "execute_result"
    }
   ],
   "source": [
    "f_df = df[['college2', 'born2', 'pos2', 'WS']].groupby(['born2', 'college2', 'pos2']).agg(\n",
    "    mean=pd.NamedAgg(\"WS\", \"mean\"),\n",
    "    median=pd.NamedAgg(\"WS\", \"median\")).reset_index()\n",
    "f_df.drop([14], axis=0, inplace=True) \n",
    "f_df.reset_index(inplace=True)\n",
    "f_df.drop(columns=['index'], inplace=True)\n",
    "\n",
    "f_df"
   ]
  },
  {
   "cell_type": "code",
   "execution_count": 49,
   "id": "2b9faf89-8ba1-44c4-80ed-c2b20fb1dd29",
   "metadata": {
    "tags": []
   },
   "outputs": [],
   "source": [
    "pw.overwrite_axisgrid() #When you use pw.load_seagorngrid, 'overwrite_axisgrid' should be executed."
   ]
  },
  {
   "cell_type": "code",
   "execution_count": 50,
   "id": "d3bf76b6-1844-4779-8b72-1bf6e0f631bd",
   "metadata": {
    "tags": []
   },
   "outputs": [],
   "source": [
    "with sns.plotting_context('paper', font_scale = 1.3):\n",
    "    g1 = sns.FacetGrid(f_df, \n",
    "                      col=\"college2\",  \n",
    "                      row=\"born2\",\n",
    "                      margin_titles=True,  \n",
    "                      aspect=1.50,\n",
    "                      gridspec_kws={\"wspace\":0.008, \"hspace\":0.035}\n",
    "                     )\n",
    "g1.map(sns.barplot, \"pos2\", \"mean\")     \n",
    "# g1.fig.suptitle('Average Win Shares By Place of Birth', size=13)\n",
    "# pw.title('2000-2009 NBA Draft', size=8, y=2.2, x=-.84)\n",
    "# g1.set_axis_labels(' ', 'Mean Win Shares')\n",
    "g1.set_titles(row_template = '{row_name}')\n",
    "g1.set_axis_labels(' ', '')\n",
    "\n",
    "# Custom change the column names\n",
    "for ax, title in zip(g1.axes.flat, ['No College', 'College']):\n",
    "    ax.set_title(title)\n",
    "\n",
    "    \n",
    "g1 = pw.load_seaborngrid(g1, label='g1')\n",
    "g1.set_supylabel('Win Shares')\n",
    "g1.set_text(x=.43, y=1.01, text=\"2000-2009 NBA Draft\", fontdict={\"size\": 9})\n",
    "_ = g1.set_suptitle(\"Average Win Shares By Place of Birth\",  pad=16, fontdict={\"weight\": \"bold\", \"y\": 1.2})\n"
   ]
  },
  {
   "cell_type": "code",
   "execution_count": 51,
   "id": "50a1290c-4eb0-43c2-bd72-134547169c3c",
   "metadata": {
    "tags": []
   },
   "outputs": [],
   "source": [
    "with sns.plotting_context('paper', font_scale = 1.3):\n",
    "    g2 = sns.FacetGrid(f_df, \n",
    "                      col=\"college2\",  \n",
    "                      row=\"born2\",\n",
    "                      margin_titles=True,  \n",
    "                      aspect=1.50,\n",
    "                      gridspec_kws={\"wspace\":0.008, \"hspace\":0.035}\n",
    "                     )\n",
    "g2.map(sns.barplot, \"pos2\", \"median\",  color='red')\n",
    "# g2.figure.subplots_adjust(top=0.8);\n",
    "g2.set_axis_labels(' ', '')\n",
    "g2.set_titles(row_template = '{row_name}')\n",
    "\n",
    "# Custom change the column names\n",
    "for ax, title in zip(g2.axes.flat, ['No College', 'College']):\n",
    "    ax.set_title(title)\n",
    "\n",
    "g2 = pw.load_seaborngrid(g2, label='g2')\n",
    "g2.set_supylabel('Win Shares')\n",
    "g2.set_text(x=.43, y=1.01, text=\"2000-2009 NBA Draft\", fontdict={\"size\": 9})\n",
    "_ = g2.set_suptitle(\"Median Win Shares By Place of Birth\", pad=16, fontdict={\"weight\": \"bold\", \"size\": 12, \"y\": 1.2})\n"
   ]
  },
  {
   "cell_type": "markdown",
   "id": "575feb6e-344c-48db-8856-1e134c983ad3",
   "metadata": {},
   "source": [
    "Bigs, Centers, and Swingmen born in the US who did not attend a college or university before entering the NBA draft accrued significantly more win shares, on average, than other players at other positions regardless of where they were born and regardless of whether or not they first attended college"
   ]
  },
  {
   "cell_type": "code",
   "execution_count": 52,
   "id": "39f312ef-05a7-4871-8f79-ca59499dee19",
   "metadata": {
    "tags": []
   },
   "outputs": [
    {
     "data": {
      "image/png": "[encoded data removed]",
      "text/plain": [
       "<Figure size 100x100 with 11 Axes>"
      ]
     },
     "execution_count": 52,
     "metadata": {},
     "output_type": "execute_result"
    }
   ],
   "source": [
    "(g1|g2).savefig(\"seaborn_subplots.png\")"
   ]
  }
 ],
 "metadata": {
  "kernelspec": {
   "display_name": "Python 3 (ipykernel)",
   "language": "python",
   "name": "python3"
  },
  "language_info": {
   "codemirror_mode": {
    "name": "ipython",
    "version": 3
   },
   "file_extension": ".py",
   "mimetype": "text/x-python",
   "name": "python",
   "nbconvert_exporter": "python",
   "pygments_lexer": "ipython3",
   "version": "3.8.16"
  }
 },
 "nbformat": 4,
 "nbformat_minor": 5
}
