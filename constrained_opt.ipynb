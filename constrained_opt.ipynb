{
 "cells": [
  {
   "cell_type": "markdown",
   "id": "118e5f76",
   "metadata": {},
   "source": [
    "# Constrained optimization\n",
    "\n",
    "Constrained optimization is a type of method, or technique, that seeks to minimize or maximize some function, subject to constraints that curb freedom of movement. One such method might minimize costs or minimize the depletion of resources; another might maximize profit margins. Constraints are effectively boundaries that can’t be breached while crunching numbers to maximize or minimize some defined function.\n",
    "\n",
    "We'll use constrained opitimization to evaluatate several players in the free agent market."
   ]
  },
  {
   "cell_type": "code",
   "execution_count": 1,
   "id": "ef3aef15",
   "metadata": {
    "tags": []
   },
   "outputs": [
    {
     "data": {
      "text/plain": [
       "<Figure size 100x100 with 0 Axes>"
      ]
     },
     "metadata": {},
     "output_type": "display_data"
    }
   ],
   "source": [
    "import pandas as pd\n",
    "import numpy as np\n",
    "import seaborn as sns\n",
    "import matplotlib as matplot\n",
    "import matplotlib.pyplot as plt\n",
    "import patchworklib as pw\n",
    "import math\n",
    "import scipy.optimize as opt"
   ]
  },
  {
   "cell_type": "code",
   "execution_count": 2,
   "id": "4975511e",
   "metadata": {
    "tags": []
   },
   "outputs": [],
   "source": [
    "%matplotlib inline\n",
    "sns.set_theme(style='darkgrid')"
   ]
  },
  {
   "cell_type": "code",
   "execution_count": 3,
   "id": "62898d88",
   "metadata": {
    "tags": []
   },
   "outputs": [],
   "source": [
    "pd.set_option('display.max_columns', None)\n",
    "pd.set_option('display.max_rows', None)"
   ]
  },
  {
   "cell_type": "code",
   "execution_count": 4,
   "id": "bcffe776",
   "metadata": {
    "tags": []
   },
   "outputs": [],
   "source": [
    "pd.options.display.float_format = '{:.0f}'.format"
   ]
  },
  {
   "cell_type": "code",
   "execution_count": 5,
   "id": "f1bedc33",
   "metadata": {
    "tags": []
   },
   "outputs": [],
   "source": [
    "df = pd.read_csv(\"../statisticsplaybook-main/free_agents.csv\", encoding= 'unicode_escape')"
   ]
  },
  {
   "cell_type": "code",
   "execution_count": 6,
   "id": "5b2d4671",
   "metadata": {
    "tags": []
   },
   "outputs": [
    {
     "data": {
      "text/html": [
       "<div>\n",
       "<style scoped>\n",
       "    .dataframe tbody tr th:only-of-type {\n",
       "        vertical-align: middle;\n",
       "    }\n",
       "\n",
       "    .dataframe tbody tr th {\n",
       "        vertical-align: top;\n",
       "    }\n",
       "\n",
       "    .dataframe thead th {\n",
       "        text-align: right;\n",
       "    }\n",
       "</style>\n",
       "<table border=\"1\" class=\"dataframe\">\n",
       "  <thead>\n",
       "    <tr style=\"text-align: right;\">\n",
       "      <th></th>\n",
       "      <th>player</th>\n",
       "      <th>current_team</th>\n",
       "      <th>age</th>\n",
       "      <th>position1</th>\n",
       "      <th>position2</th>\n",
       "      <th>annual_salary</th>\n",
       "      <th>win_shares</th>\n",
       "    </tr>\n",
       "  </thead>\n",
       "  <tbody>\n",
       "    <tr>\n",
       "      <th>0</th>\n",
       "      <td>Chris Paul</td>\n",
       "      <td>PHX</td>\n",
       "      <td>37</td>\n",
       "      <td>PG</td>\n",
       "      <td>PG1</td>\n",
       "      <td>32000000</td>\n",
       "      <td>7</td>\n",
       "    </tr>\n",
       "    <tr>\n",
       "      <th>1</th>\n",
       "      <td>Kawhi Leonard</td>\n",
       "      <td>LAC</td>\n",
       "      <td>31</td>\n",
       "      <td>SF</td>\n",
       "      <td>SF1</td>\n",
       "      <td>37000000</td>\n",
       "      <td>9</td>\n",
       "    </tr>\n",
       "    <tr>\n",
       "      <th>2</th>\n",
       "      <td>Blake Griffin</td>\n",
       "      <td>DET</td>\n",
       "      <td>33</td>\n",
       "      <td>PF</td>\n",
       "      <td>PF1</td>\n",
       "      <td>35000000</td>\n",
       "      <td>5</td>\n",
       "    </tr>\n",
       "    <tr>\n",
       "      <th>3</th>\n",
       "      <td>Josh Richardson</td>\n",
       "      <td>DAL</td>\n",
       "      <td>29</td>\n",
       "      <td>SG</td>\n",
       "      <td>SG1</td>\n",
       "      <td>11000000</td>\n",
       "      <td>3</td>\n",
       "    </tr>\n",
       "    <tr>\n",
       "      <th>4</th>\n",
       "      <td>Gary Harris</td>\n",
       "      <td>DEN</td>\n",
       "      <td>28</td>\n",
       "      <td>SG</td>\n",
       "      <td>SG2</td>\n",
       "      <td>22500000</td>\n",
       "      <td>4</td>\n",
       "    </tr>\n",
       "  </tbody>\n",
       "</table>\n",
       "</div>"
      ],
      "text/plain": [
       "            player current_team  age position1 position2  annual_salary   \n",
       "0       Chris Paul          PHX   37        PG       PG1       32000000  \\\n",
       "1    Kawhi Leonard          LAC   31        SF       SF1       37000000   \n",
       "2    Blake Griffin          DET   33        PF       PF1       35000000   \n",
       "3  Josh Richardson          DAL   29        SG       SG1       11000000   \n",
       "4      Gary Harris          DEN   28        SG       SG2       22500000   \n",
       "\n",
       "   win_shares  \n",
       "0           7  \n",
       "1           9  \n",
       "2           5  \n",
       "3           3  \n",
       "4           4  "
      ]
     },
     "execution_count": 6,
     "metadata": {},
     "output_type": "execute_result"
    }
   ],
   "source": [
    "df.head()"
   ]
  },
  {
   "cell_type": "code",
   "execution_count": 7,
   "id": "c0a14bbc",
   "metadata": {
    "tags": []
   },
   "outputs": [
    {
     "data": {
      "text/plain": [
       "(24, 7)"
      ]
     },
     "execution_count": 7,
     "metadata": {},
     "output_type": "execute_result"
    }
   ],
   "source": [
    "df.shape"
   ]
  },
  {
   "cell_type": "code",
   "execution_count": 8,
   "id": "f3963286",
   "metadata": {
    "tags": []
   },
   "outputs": [
    {
     "data": {
      "text/html": [
       "<div>\n",
       "<style scoped>\n",
       "    .dataframe tbody tr th:only-of-type {\n",
       "        vertical-align: middle;\n",
       "    }\n",
       "\n",
       "    .dataframe tbody tr th {\n",
       "        vertical-align: top;\n",
       "    }\n",
       "\n",
       "    .dataframe thead th {\n",
       "        text-align: right;\n",
       "    }\n",
       "</style>\n",
       "<table border=\"1\" class=\"dataframe\">\n",
       "  <thead>\n",
       "    <tr style=\"text-align: right;\">\n",
       "      <th></th>\n",
       "      <th>0</th>\n",
       "      <th>1</th>\n",
       "      <th>2</th>\n",
       "      <th>3</th>\n",
       "      <th>4</th>\n",
       "      <th>5</th>\n",
       "      <th>6</th>\n",
       "      <th>7</th>\n",
       "      <th>8</th>\n",
       "      <th>9</th>\n",
       "      <th>10</th>\n",
       "      <th>11</th>\n",
       "      <th>12</th>\n",
       "      <th>13</th>\n",
       "      <th>14</th>\n",
       "      <th>15</th>\n",
       "      <th>16</th>\n",
       "      <th>17</th>\n",
       "      <th>18</th>\n",
       "      <th>19</th>\n",
       "      <th>20</th>\n",
       "      <th>21</th>\n",
       "      <th>22</th>\n",
       "      <th>23</th>\n",
       "    </tr>\n",
       "  </thead>\n",
       "  <tbody>\n",
       "    <tr>\n",
       "      <th>player</th>\n",
       "      <td>Chris Paul</td>\n",
       "      <td>Kawhi Leonard</td>\n",
       "      <td>Blake Griffin</td>\n",
       "      <td>Josh Richardson</td>\n",
       "      <td>Gary Harris</td>\n",
       "      <td>Montrezl Harrell</td>\n",
       "      <td>Zach LaVine</td>\n",
       "      <td>Rajon Rondo</td>\n",
       "      <td>Ricky Rubio</td>\n",
       "      <td>Rodney Hood</td>\n",
       "      <td>Jonas Valanciunas</td>\n",
       "      <td>Thaddeus Young</td>\n",
       "      <td>Patrick Beverley</td>\n",
       "      <td>Will Barton</td>\n",
       "      <td>Justise Winslow</td>\n",
       "      <td>Marcus Smart</td>\n",
       "      <td>Marvin Bagley III</td>\n",
       "      <td>Taurean Prince</td>\n",
       "      <td>Cory Joseph</td>\n",
       "      <td>Jusuf Nurkic</td>\n",
       "      <td>T.J. Warren</td>\n",
       "      <td>Robert Covington</td>\n",
       "      <td>Serge Ibaka</td>\n",
       "      <td>Aron Baynes</td>\n",
       "    </tr>\n",
       "    <tr>\n",
       "      <th>current_team</th>\n",
       "      <td>PHX</td>\n",
       "      <td>LAC</td>\n",
       "      <td>DET</td>\n",
       "      <td>DAL</td>\n",
       "      <td>DEN</td>\n",
       "      <td>LAL</td>\n",
       "      <td>CHI</td>\n",
       "      <td>ATL</td>\n",
       "      <td>MIN</td>\n",
       "      <td>POR</td>\n",
       "      <td>MEM</td>\n",
       "      <td>CHI</td>\n",
       "      <td>LAC</td>\n",
       "      <td>DEN</td>\n",
       "      <td>MEM</td>\n",
       "      <td>BOS</td>\n",
       "      <td>SAC</td>\n",
       "      <td>CLE</td>\n",
       "      <td>SAC</td>\n",
       "      <td>POR</td>\n",
       "      <td>IND</td>\n",
       "      <td>POR</td>\n",
       "      <td>LAC</td>\n",
       "      <td>TOR</td>\n",
       "    </tr>\n",
       "    <tr>\n",
       "      <th>age</th>\n",
       "      <td>37</td>\n",
       "      <td>31</td>\n",
       "      <td>33</td>\n",
       "      <td>29</td>\n",
       "      <td>28</td>\n",
       "      <td>28</td>\n",
       "      <td>27</td>\n",
       "      <td>36</td>\n",
       "      <td>31</td>\n",
       "      <td>29</td>\n",
       "      <td>30</td>\n",
       "      <td>34</td>\n",
       "      <td>34</td>\n",
       "      <td>31</td>\n",
       "      <td>26</td>\n",
       "      <td>28</td>\n",
       "      <td>23</td>\n",
       "      <td>28</td>\n",
       "      <td>31</td>\n",
       "      <td>28</td>\n",
       "      <td>29</td>\n",
       "      <td>31</td>\n",
       "      <td>33</td>\n",
       "      <td>35</td>\n",
       "    </tr>\n",
       "    <tr>\n",
       "      <th>position1</th>\n",
       "      <td>PG</td>\n",
       "      <td>SF</td>\n",
       "      <td>PF</td>\n",
       "      <td>SG</td>\n",
       "      <td>SG</td>\n",
       "      <td>PF</td>\n",
       "      <td>SG</td>\n",
       "      <td>PG</td>\n",
       "      <td>PG</td>\n",
       "      <td>SF</td>\n",
       "      <td>C</td>\n",
       "      <td>PF</td>\n",
       "      <td>PG</td>\n",
       "      <td>SF</td>\n",
       "      <td>SF</td>\n",
       "      <td>PG</td>\n",
       "      <td>PF</td>\n",
       "      <td>PF</td>\n",
       "      <td>PG</td>\n",
       "      <td>C</td>\n",
       "      <td>SF</td>\n",
       "      <td>PF</td>\n",
       "      <td>C</td>\n",
       "      <td>C</td>\n",
       "    </tr>\n",
       "    <tr>\n",
       "      <th>position2</th>\n",
       "      <td>PG1</td>\n",
       "      <td>SF1</td>\n",
       "      <td>PF1</td>\n",
       "      <td>SG1</td>\n",
       "      <td>SG2</td>\n",
       "      <td>PF2</td>\n",
       "      <td>SG3</td>\n",
       "      <td>PG2</td>\n",
       "      <td>PG3</td>\n",
       "      <td>SF2</td>\n",
       "      <td>C1</td>\n",
       "      <td>PF3</td>\n",
       "      <td>PG4</td>\n",
       "      <td>SF3</td>\n",
       "      <td>SF4</td>\n",
       "      <td>PG5</td>\n",
       "      <td>PF4</td>\n",
       "      <td>PF5</td>\n",
       "      <td>PG6</td>\n",
       "      <td>C2</td>\n",
       "      <td>SF5</td>\n",
       "      <td>PF6</td>\n",
       "      <td>C3</td>\n",
       "      <td>C4</td>\n",
       "    </tr>\n",
       "    <tr>\n",
       "      <th>annual_salary</th>\n",
       "      <td>32000000</td>\n",
       "      <td>37000000</td>\n",
       "      <td>35000000</td>\n",
       "      <td>11000000</td>\n",
       "      <td>22500000</td>\n",
       "      <td>26000000</td>\n",
       "      <td>10500000</td>\n",
       "      <td>6500000</td>\n",
       "      <td>18500000</td>\n",
       "      <td>19500000</td>\n",
       "      <td>15000000</td>\n",
       "      <td>17000000</td>\n",
       "      <td>16500000</td>\n",
       "      <td>14500000</td>\n",
       "      <td>15000000</td>\n",
       "      <td>15500000</td>\n",
       "      <td>14500000</td>\n",
       "      <td>14500000</td>\n",
       "      <td>14500000</td>\n",
       "      <td>14000000</td>\n",
       "      <td>13500000</td>\n",
       "      <td>13500000</td>\n",
       "      <td>12000000</td>\n",
       "      <td>7000000</td>\n",
       "    </tr>\n",
       "    <tr>\n",
       "      <th>win_shares</th>\n",
       "      <td>7</td>\n",
       "      <td>9</td>\n",
       "      <td>5</td>\n",
       "      <td>3</td>\n",
       "      <td>4</td>\n",
       "      <td>4</td>\n",
       "      <td>4</td>\n",
       "      <td>2</td>\n",
       "      <td>5</td>\n",
       "      <td>2</td>\n",
       "      <td>5</td>\n",
       "      <td>4</td>\n",
       "      <td>4</td>\n",
       "      <td>4</td>\n",
       "      <td>3</td>\n",
       "      <td>5</td>\n",
       "      <td>5</td>\n",
       "      <td>2</td>\n",
       "      <td>4</td>\n",
       "      <td>4</td>\n",
       "      <td>4</td>\n",
       "      <td>3</td>\n",
       "      <td>3</td>\n",
       "      <td>2</td>\n",
       "    </tr>\n",
       "  </tbody>\n",
       "</table>\n",
       "</div>"
      ],
      "text/plain": [
       "                       0              1              2                3    \n",
       "player         Chris Paul  Kawhi Leonard  Blake Griffin  Josh Richardson  \\\n",
       "current_team          PHX            LAC            DET              DAL   \n",
       "age                    37             31             33               29   \n",
       "position1              PG             SF             PF               SG   \n",
       "position2             PG1            SF1            PF1              SG1   \n",
       "annual_salary    32000000       37000000       35000000         11000000   \n",
       "win_shares              7              9              5                3   \n",
       "\n",
       "                        4                 5            6            7    \n",
       "player         Gary Harris  Montrezl Harrell  Zach LaVine  Rajon Rondo  \\\n",
       "current_team           DEN               LAL          CHI          ATL   \n",
       "age                     28                28           27           36   \n",
       "position1               SG                PF           SG           PG   \n",
       "position2              SG2               PF2          SG3          PG2   \n",
       "annual_salary     22500000          26000000     10500000      6500000   \n",
       "win_shares               4                 4            4            2   \n",
       "\n",
       "                        8            9                  10              11   \n",
       "player         Ricky Rubio  Rodney Hood  Jonas Valanciunas  Thaddeus Young  \\\n",
       "current_team           MIN          POR                MEM             CHI   \n",
       "age                     31           29                 30              34   \n",
       "position1               PG           SF                  C              PF   \n",
       "position2              PG3          SF2                 C1             PF3   \n",
       "annual_salary     18500000     19500000           15000000        17000000   \n",
       "win_shares               5            2                  5               4   \n",
       "\n",
       "                             12           13               14            15   \n",
       "player         Patrick Beverley  Will Barton  Justise Winslow  Marcus Smart  \\\n",
       "current_team                LAC          DEN              MEM           BOS   \n",
       "age                          34           31               26            28   \n",
       "position1                    PG           SF               SF            PG   \n",
       "position2                   PG4          SF3              SF4           PG5   \n",
       "annual_salary          16500000     14500000         15000000      15500000   \n",
       "win_shares                    4            4                3             5   \n",
       "\n",
       "                              16              17           18            19   \n",
       "player         Marvin Bagley III  Taurean Prince  Cory Joseph  Jusuf Nurkic  \\\n",
       "current_team                 SAC             CLE          SAC           POR   \n",
       "age                           23              28           31            28   \n",
       "position1                     PF              PF           PG             C   \n",
       "position2                    PF4             PF5          PG6            C2   \n",
       "annual_salary           14500000        14500000     14500000      14000000   \n",
       "win_shares                     5               2            4             4   \n",
       "\n",
       "                        20                21           22           23  \n",
       "player         T.J. Warren  Robert Covington  Serge Ibaka  Aron Baynes  \n",
       "current_team           IND               POR          LAC          TOR  \n",
       "age                     29                31           33           35  \n",
       "position1               SF                PF            C            C  \n",
       "position2              SF5               PF6           C3           C4  \n",
       "annual_salary     13500000          13500000     12000000      7000000  \n",
       "win_shares               4                 3            3            2  "
      ]
     },
     "execution_count": 8,
     "metadata": {},
     "output_type": "execute_result"
    }
   ],
   "source": [
    "df.transpose()"
   ]
  },
  {
   "cell_type": "code",
   "execution_count": 9,
   "id": "63af7c64",
   "metadata": {
    "tags": []
   },
   "outputs": [
    {
     "data": {
      "text/plain": [
       "player            object\n",
       "current_team      object\n",
       "age                int64\n",
       "position1         object\n",
       "position2         object\n",
       "annual_salary      int64\n",
       "win_shares       float64\n",
       "dtype: object"
      ]
     },
     "execution_count": 9,
     "metadata": {},
     "output_type": "execute_result"
    }
   ],
   "source": [
    "df.dtypes"
   ]
  },
  {
   "cell_type": "code",
   "execution_count": 10,
   "id": "9fa8b2e8",
   "metadata": {
    "tags": []
   },
   "outputs": [
    {
     "data": {
      "text/plain": [
       "array(['PG', 'SF', 'PF', 'SG', 'C'], dtype=object)"
      ]
     },
     "execution_count": 10,
     "metadata": {},
     "output_type": "execute_result"
    }
   ],
   "source": [
    "df.position1.unique()"
   ]
  },
  {
   "cell_type": "code",
   "execution_count": 11,
   "id": "6c88c8bb",
   "metadata": {
    "tags": []
   },
   "outputs": [
    {
     "data": {
      "text/plain": [
       "array(['PG1', 'SF1', 'PF1', 'SG1', 'SG2', 'PF2', 'SG3', 'PG2', 'PG3',\n",
       "       'SF2', 'C1', 'PF3', 'PG4', 'SF3', 'SF4', 'PG5', 'PF4', 'PF5',\n",
       "       'PG6', 'C2', 'SF5', 'PF6', 'C3', 'C4'], dtype=object)"
      ]
     },
     "execution_count": 11,
     "metadata": {},
     "output_type": "execute_result"
    }
   ],
   "source": [
    "df.position2.unique()"
   ]
  },
  {
   "cell_type": "code",
   "execution_count": 12,
   "id": "e73f1593",
   "metadata": {
    "tags": []
   },
   "outputs": [
    {
     "data": {
      "text/html": [
       "<div>\n",
       "<style scoped>\n",
       "    .dataframe tbody tr th:only-of-type {\n",
       "        vertical-align: middle;\n",
       "    }\n",
       "\n",
       "    .dataframe tbody tr th {\n",
       "        vertical-align: top;\n",
       "    }\n",
       "\n",
       "    .dataframe thead th {\n",
       "        text-align: right;\n",
       "    }\n",
       "</style>\n",
       "<table border=\"1\" class=\"dataframe\">\n",
       "  <thead>\n",
       "    <tr style=\"text-align: right;\">\n",
       "      <th></th>\n",
       "      <th>age</th>\n",
       "      <th>annual_salary</th>\n",
       "      <th>win_shares</th>\n",
       "    </tr>\n",
       "  </thead>\n",
       "  <tbody>\n",
       "    <tr>\n",
       "      <th>count</th>\n",
       "      <td>24</td>\n",
       "      <td>24</td>\n",
       "      <td>24</td>\n",
       "    </tr>\n",
       "    <tr>\n",
       "      <th>mean</th>\n",
       "      <td>30</td>\n",
       "      <td>17312500</td>\n",
       "      <td>4</td>\n",
       "    </tr>\n",
       "    <tr>\n",
       "      <th>std</th>\n",
       "      <td>3</td>\n",
       "      <td>7936997</td>\n",
       "      <td>2</td>\n",
       "    </tr>\n",
       "    <tr>\n",
       "      <th>min</th>\n",
       "      <td>23</td>\n",
       "      <td>6500000</td>\n",
       "      <td>2</td>\n",
       "    </tr>\n",
       "    <tr>\n",
       "      <th>25%</th>\n",
       "      <td>28</td>\n",
       "      <td>13500000</td>\n",
       "      <td>3</td>\n",
       "    </tr>\n",
       "    <tr>\n",
       "      <th>50%</th>\n",
       "      <td>30</td>\n",
       "      <td>14750000</td>\n",
       "      <td>4</td>\n",
       "    </tr>\n",
       "    <tr>\n",
       "      <th>75%</th>\n",
       "      <td>33</td>\n",
       "      <td>18750000</td>\n",
       "      <td>5</td>\n",
       "    </tr>\n",
       "    <tr>\n",
       "      <th>max</th>\n",
       "      <td>37</td>\n",
       "      <td>37000000</td>\n",
       "      <td>9</td>\n",
       "    </tr>\n",
       "  </tbody>\n",
       "</table>\n",
       "</div>"
      ],
      "text/plain": [
       "       age  annual_salary  win_shares\n",
       "count   24             24          24\n",
       "mean    30       17312500           4\n",
       "std      3        7936997           2\n",
       "min     23        6500000           2\n",
       "25%     28       13500000           3\n",
       "50%     30       14750000           4\n",
       "75%     33       18750000           5\n",
       "max     37       37000000           9"
      ]
     },
     "execution_count": 12,
     "metadata": {},
     "output_type": "execute_result"
    }
   ],
   "source": [
    "df.describe()"
   ]
  },
  {
   "cell_type": "markdown",
   "id": "6fe303ad",
   "metadata": {},
   "source": [
    "## Density Plot \n",
    "\n",
    "Density plot around the continuous variables Salary (annual_salary), Win Shares (win_shares) and Age (age). \n",
    "\n",
    "A density plot is essentially a smoothed version of a histogram; like histograms, density plots display the distribution of continuous, or numeric, data\n",
    "\n",
    "The one advantage density plots have over histograms is that they more accurately reflect the distribution shape because there is no option to fiddle with bin counts. The **disadvantage** of density plots is that the **y-axis is less intuitive** than it is for histograms. It represents a probability rather than a frequency"
   ]
  },
  {
   "cell_type": "code",
   "execution_count": 13,
   "id": "551d6f0e",
   "metadata": {
    "tags": []
   },
   "outputs": [
    {
     "data": {
      "text/plain": [
       "0     32000000\n",
       "1     37000000\n",
       "2     35000000\n",
       "3     11000000\n",
       "4     22500000\n",
       "5     26000000\n",
       "6     10500000\n",
       "7      6500000\n",
       "8     18500000\n",
       "9     19500000\n",
       "10    15000000\n",
       "11    17000000\n",
       "12    16500000\n",
       "13    14500000\n",
       "14    15000000\n",
       "15    15500000\n",
       "16    14500000\n",
       "17    14500000\n",
       "18    14500000\n",
       "19    14000000\n",
       "20    13500000\n",
       "21    13500000\n",
       "22    12000000\n",
       "23     7000000\n",
       "Name: annual_salary, dtype: int64"
      ]
     },
     "execution_count": 13,
     "metadata": {},
     "output_type": "execute_result"
    }
   ],
   "source": [
    "df['annual_salary']"
   ]
  },
  {
   "cell_type": "code",
   "execution_count": 14,
   "id": "e43c018c",
   "metadata": {},
   "outputs": [],
   "source": [
    "pw.clear()\n",
    "# #Set fig size\n",
    "\n",
    "ax1 = pw.Brick(\"ax1\", figsize=(10,5))\n",
    "#plot 1\n",
    "_ = sns.kdeplot(df['annual_salary'], color='salmon', alpha=.3, bw=.25, ax=ax1)\n",
    "\n",
    "ax2 = pw.Brick(\"ax2\", figsize=(10,5))\n",
    "#plot 2\n",
    "_ = sns.kdeplot(df['win_shares'], color='salmon',  alpha=.3, bw=.3, ax=ax2)\n",
    "\n",
    "# Plot 1 settings\n",
    "kdeline = ax1.lines[0]\n",
    "mean = df['annual_salary'].mean()\n",
    "# ax1 ticks\n",
    "ax1.ticklabel_format(style='plain', useMathText=True)\n",
    "ax1.get_xaxis().set_major_formatter(matplot.ticker.FuncFormatter(lambda x, p: format(int(x), ',')))\n",
    "ax1.set_xlim((5000000, 35000000))\n",
    "ax1.set_xticks((10000000, 20000000, 30000000))\n",
    "# ax1 title\n",
    "ax1.set_title('Annual Salary Distribution')\n",
    "# ax1 mean/median (percentile shading), text\n",
    "xs, ys = kdeline.get_xdata(), kdeline.get_ydata()\n",
    "left, middle, right = np.percentile(df['annual_salary'], [25, 50, 75])\n",
    "ax1.vlines(middle, 0, np.interp(middle, xs, ys), color='blue', ls='--')\n",
    "ax1.vlines(mean, 0, np.interp(mean, xs, ys), color='crimson', ls=':')\n",
    "ax1.fill_between(xs, 0, ys, facecolor='salmon', alpha=0.3, ls='-')\n",
    "ax1.fill_between(xs, 0, ys, where=(left <= xs) & (xs <= right), interpolate=True, facecolor='blue', alpha=0.1, )\n",
    "# ax1 text \n",
    "ax1.text(middle-650000, .00000003, \"Median\", rotation=90, color=\"blue\", size=15)\n",
    "ax1.text(left-650000, .00000001, \"25%\", rotation=90)\n",
    "ax1.text(right, .00000001, \"75%\", rotation=90)\n",
    "ax1.text(mean+150000, .00000003, \"Mean\", rotation=90, color='crimson', size=15)\n",
    "\n",
    "\n",
    "# Plot 2 settings \n",
    "# Ticks \n",
    "ax2.set_xticks((2.5, 5.0, 7.5))\n",
    "ax2.set_xlim((1.5, 9))\n",
    "ax2.set_yticks((0.0, 0.1, 0.2, 0.3))\n",
    "# ax2 title \n",
    "ax2.set_title('Projected Annual Win Shares Distribution')\n",
    "# ax2 mean(std)/median, text\n",
    "kdeline = ax2.lines[0]\n",
    "mean = df['win_shares'].mean()\n",
    "middle = df['win_shares'].median()\n",
    "xs, ys = kdeline.get_xdata(), kdeline.get_ydata()\n",
    "sdev = df['win_shares'].std()\n",
    "left = middle - sdev\n",
    "right = middle + sdev\n",
    "# Create the lines on the kde\n",
    "median_line = ax2.vlines(middle, 0, np.interp(middle, xs, ys))\n",
    "mean_line =  ax2.vlines(mean, 0, np.interp(mean, xs, ys), color='crimson', ls=':') \n",
    "one_pos_sigma = ax2.vlines(right, 0,  np.interp(right, xs, ys), color='purple' )\n",
    "one_neg_sigma = ax2.vlines(left, 0,  np.interp(left, xs, ys), color='purple', ls=\"--\" )\n",
    "# Fill between STD\n",
    "ax2.fill_between(xs, 0, ys, facecolor='salmon', alpha=0.3, ls='-')\n",
    "ax2.fill_between(xs, 0, ys, where=(left <= xs) & (xs <= right), interpolate=True, facecolor='blue', alpha=0.1, )\n",
    "# ax2 text \n",
    "ax2.text(middle-.2, .1, \"Median\", rotation=90, color='blue', size=15)\n",
    "ax2.text(mean+.1, .1, \"Mean\", rotation=90, color='crimson', size=15)\n",
    "# Get lines and labels for legend and chose which ones to display\n",
    "lines, labels = ax2.get_legend_handles_labels()\n",
    "_ = ax2.legend([line for i,line in enumerate(lines) if i in display]+[median_line,mean_line, one_pos_sigma, one_neg_sigma],\n",
    "          [label for i,label in enumerate(labels) if i in display]+['Median', 'Mean', '+1 std', '-1 std'])"
   ]
  },
  {
   "cell_type": "code",
   "execution_count": 15,
   "id": "94ec29c9",
   "metadata": {
    "tags": []
   },
   "outputs": [],
   "source": [
    "ax = pw.Brick(\"ax3\", figsize=(10,5))\n",
    "# Plot Kde without fill so we can use the lines to find xs/ys\n",
    "sns.kdeplot(df['age'], color='salmon', alpha=.3, bw=.5, ax=ax)\n",
    "#configure ticks \n",
    "ax.set_xticks((26, 30, 34))\n",
    "ax.set_xlim((24, 38))\n",
    "ax.set_yticks((0.0, 0.03, 0.06, 0.09))\n",
    "# Get xs,ys to prevent line protruding\n",
    "xs, ys = ax.lines[0].get_xdata(), ax.lines[0].get_ydata()\n",
    "# get median and mean\n",
    "median, mean = df['age'].median(), df['age'].mean()\n",
    "# draw the lines\n",
    "median_line = ax.vlines(median, 0, np.interp(median, xs, ys))\n",
    "mean_line =  ax.vlines(mean, 0, np.interp(median, xs, ys), color='crimson', ls=':')\n",
    "# Fill kde\n",
    "ax.fill_between(xs, 0, ys, facecolor='salmon', alpha=0.3, ls='-')\n",
    "# label lines\n",
    "ax.text(median+.1, .06, \"Median\", rotation=90, color='blue', size=15)\n",
    "ax.text(mean-.2, .06, \"Mean\", rotation=90, color='crimson', size=15)\n",
    "_ = ax.set_title('Age Distribution')"
   ]
  },
  {
   "cell_type": "code",
   "execution_count": 16,
   "id": "dfa1e28f",
   "metadata": {
    "tags": []
   },
   "outputs": [
    {
     "data": {
      "image/png": "[encoded data removed]",
      "text/plain": [
       "<Figure size 100x100 with 8 Axes>"
      ]
     },
     "execution_count": 16,
     "metadata": {},
     "output_type": "execute_result"
    }
   ],
   "source": [
    "ax12 = (ax1+ax2-ax)\n",
    "ax12.set_suptitle(\"Shortlisted Free Agents\")\n",
    "ax12.savefig(\"ax12.png\")"
   ]
  },
  {
   "cell_type": "markdown",
   "id": "d781203b",
   "metadata": {
    "tags": []
   },
   "source": [
    "### Visualization Summary\n",
    "\n",
    "- Annual salaries–these figures representing the year-over-year base salary expectations of our 24 free agents–are right-skewed, or positively-skewed. \n",
    "\n",
    "- There are two ways of deducting this–one, most values are obviously clustered around the left tail of the distribution while the right tail is longer, and two, the mean is therefore greater than the median.\n",
    "\n",
    "- The same can be said for annual win shares–these figures representing the estimated number of accrued win shares per player per season. Given the means and medians of annual_salaries and win_shares, we can reasonably conclude that approximately $15M in salary is the equivalent of about 3.5 to 4 wins.\n",
    "\n",
    "- The variable age, unlike the variables annual_salaries and win_shares, is normally distributed; both the mean and the median equal about 30.5."
   ]
  },
  {
   "cell_type": "markdown",
   "id": "c6ae3b47",
   "metadata": {},
   "source": [
    "### Positional level distribution "
   ]
  },
  {
   "cell_type": "code",
   "execution_count": 17,
   "id": "3f91e070",
   "metadata": {
    "tags": []
   },
   "outputs": [
    {
     "data": {
      "image/png": "[encoded data removed]",
      "text/plain": [
       "<Figure size 640x480 with 1 Axes>"
      ]
     },
     "metadata": {},
     "output_type": "display_data"
    }
   ],
   "source": [
    "# Works for catplot\n",
    "# for ax in g.axes.flatten():\n",
    "    # ax.get_yaxis().set_major_formatter(matplot.ticker.FuncFormatter(lambda x, p: format(int(x), ',')))\n",
    "meanpointprops = dict(marker='o', markeredgecolor='black',\n",
    "                      markerfacecolor='white')\n",
    "ax = sns.boxplot(x='position1', \n",
    "                 y='annual_salary', \n",
    "                 color='#FF870C',\n",
    "                 showmeans=True,\n",
    "                 order=['C', 'PF', 'PG', 'SF', 'SG'],\n",
    "                 meanprops=meanpointprops,\n",
    "                 data=df)\n",
    "\n",
    "ax.ticklabel_format(style='plain', useMathText=True, scilimits=(0,0), axis='y')\n",
    "ax.get_yaxis().set_major_formatter(matplot.ticker.FuncFormatter(lambda x, p: format(int(x), ',')))\n",
    "ax.set_ylabel('Annual Salary')\n",
    "ax.set_xlabel('Position')\n",
    "ax.set_title(\"Shortlisted Free Agents\")\n",
    "_ = plt.suptitle(\"Annual Salary Distribution by Position\")"
   ]
  },
  {
   "cell_type": "code",
   "execution_count": 18,
   "id": "e2305208",
   "metadata": {
    "tags": []
   },
   "outputs": [
    {
     "data": {
      "image/png": "[encoded data removed]",
      "text/plain": [
       "<Figure size 640x480 with 1 Axes>"
      ]
     },
     "metadata": {},
     "output_type": "display_data"
    }
   ],
   "source": [
    "meanpointprops = dict(marker='o', markeredgecolor='black',\n",
    "                      markerfacecolor='white')\n",
    "ax = sns.boxplot(x='position1', \n",
    "                 y='win_shares', \n",
    "                 color='#9FC5E8',\n",
    "                 showmeans=True,\n",
    "                 order=['C', 'PF', 'PG', 'SF', 'SG'],\n",
    "                 meanprops=meanpointprops,\n",
    "                 data=df)\n",
    "\n",
    "ax.ticklabel_format(style='plain', useMathText=True, scilimits=(0,0), axis='y')\n",
    "ax.get_yaxis().set_major_formatter(matplot.ticker.FuncFormatter(lambda x, p: format(int(x), ',')))\n",
    "ax.set_ylabel('Annual Win Shares')\n",
    "ax.set_xlabel('Position')\n",
    "ax.set_title(\"Shortlisted Free Agents\")\n",
    "_ = plt.suptitle(\"Annual Win Shares Distribution by Position\")"
   ]
  },
  {
   "cell_type": "code",
   "execution_count": 19,
   "id": "ca3d8e6e",
   "metadata": {
    "tags": []
   },
   "outputs": [
    {
     "data": {
      "image/png": "[encoded data removed]",
      "text/plain": [
       "<Figure size 640x480 with 1 Axes>"
      ]
     },
     "metadata": {},
     "output_type": "display_data"
    }
   ],
   "source": [
    "meanpointprops = dict(marker='o', markeredgecolor='black',\n",
    "                      markerfacecolor='white')\n",
    "ax = sns.boxplot(x='position1', \n",
    "                 y='age', \n",
    "                 color='#FFD966',\n",
    "                 showmeans=True,\n",
    "                 order=['C', 'PF', 'PG', 'SF', 'SG'],\n",
    "                 meanprops=meanpointprops,\n",
    "                 data=df)\n",
    "\n",
    "ax.ticklabel_format(style='plain', useMathText=True, scilimits=(0,0), axis='y')\n",
    "ax.get_yaxis().set_major_formatter(matplot.ticker.FuncFormatter(lambda x, p: format(int(x), ',')))\n",
    "ax.set_ylabel('Age')\n",
    "ax.set_xlabel('Position')\n",
    "ax.set_title(\"Shortlisted Free Agents\")\n",
    "_ = plt.suptitle(\"Annual Distribution by Position\")"
   ]
  },
  {
   "cell_type": "markdown",
   "id": "7170fa8f",
   "metadata": {},
   "source": [
    "### Positional Viz summary:\n",
    "\n",
    "- No surprise that, given the variance in annual_salary and the low number of records in the free_agents data set, especially for each of the five levels in position1, the distributions are quite different from one position to the next.\n",
    "- While there is less dispersion in the win_shares distributions, the position-by-position view appears to match the same for the variable annual_salary.\n",
    "- And while we previously discovered that the variable age is normally distributed, its distribution is nevertheless quite different when otherwise viewed by position. For instance, most centers and point guards are above the age of 30, whereas most shooting forwards and shooting guards are below the age of 30."
   ]
  },
  {
   "cell_type": "markdown",
   "id": "23f7ff94",
   "metadata": {},
   "source": [
    "### Correlation between win shares and annaul salary"
   ]
  },
  {
   "cell_type": "markdown",
   "id": "f6c00541",
   "metadata": {},
   "source": [
    "Positive correlation between salary and win shares"
   ]
  },
  {
   "cell_type": "code",
   "execution_count": 20,
   "id": "a6edad26",
   "metadata": {
    "tags": []
   },
   "outputs": [
    {
     "data": {
      "text/plain": [
       "0.757150726617279"
      ]
     },
     "execution_count": 20,
     "metadata": {},
     "output_type": "execute_result"
    }
   ],
   "source": [
    "df['annual_salary'].corr(df['win_shares'])"
   ]
  },
  {
   "cell_type": "markdown",
   "id": "02510922",
   "metadata": {},
   "source": [
    "Plot data and a linear regression model fit."
   ]
  },
  {
   "cell_type": "code",
   "execution_count": 21,
   "id": "8380039c",
   "metadata": {
    "tags": []
   },
   "outputs": [
    {
     "data": {
      "image/png": "[encoded data removed]",
      "text/plain": [
       "<Figure size 640x480 with 1 Axes>"
      ]
     },
     "metadata": {},
     "output_type": "display_data"
    }
   ],
   "source": [
    "ax = sns.regplot(x= df.annual_salary, y=df.win_shares, scatter_kws={\"color\": \"black\", \"s\": 10})\n",
    "ax.ticklabel_format(style='plain', useMathText=True, scilimits=(0,0), axis='y')\n",
    "ax.get_xaxis().set_major_formatter(matplot.ticker.FuncFormatter(lambda x, p: format(int(x), ',')))\n",
    "#configure ticks \n",
    "ax.set_xticks((10000000, 20000000, 30000000))\n",
    "# ax.set_xlim((24, 38))\n",
    "ax.set_yticks((2.5,5.0,7.5))\n",
    "# Set label names\n",
    "ax.set_xlabel('Annual Salaries')\n",
    "ax.set_ylabel('Win Shares')\n",
    "ax.set_title(\"Correlation coefficient=0.76\")\n",
    "_ = plt.suptitle(\"Annual Salaries vs Win Shares\")"
   ]
  },
  {
   "cell_type": "markdown",
   "id": "ab2e8d07",
   "metadata": {},
   "source": [
    "A regression line, or line of best fit, is an annotation meant to visualize a trend in a data series; the line is drawn so as to minimize the distances between it and the data. The shaded area is the 95% confidence interval for that regression"
   ]
  },
  {
   "cell_type": "code",
   "execution_count": 22,
   "id": "df320c12",
   "metadata": {
    "tags": []
   },
   "outputs": [],
   "source": [
    "pd.options.display.float_format = '{:.2f}'.format"
   ]
  },
  {
   "cell_type": "code",
   "execution_count": 23,
   "id": "2ddcae47",
   "metadata": {
    "tags": []
   },
   "outputs": [],
   "source": [
    "df_count = df.groupby('position1').agg(\n",
    "    n=pd.NamedAgg(\"position1\", \"count\")).reset_index()"
   ]
  },
  {
   "cell_type": "code",
   "execution_count": 24,
   "id": "1b896f4b",
   "metadata": {
    "tags": []
   },
   "outputs": [],
   "source": [
    "df_means = df.groupby('position1').agg(\n",
    "    meanSalary=pd.NamedAgg(\"annual_salary\", \"mean\"),\n",
    "    meanWinShares=pd.NamedAgg(\"win_shares\", \"mean\"),\n",
    "    meanAge=pd.NamedAgg(\"age\", \"mean\")).reset_index()"
   ]
  },
  {
   "cell_type": "code",
   "execution_count": 25,
   "id": "9e9f2cbd",
   "metadata": {
    "tags": []
   },
   "outputs": [],
   "source": [
    "joined_df = pd.concat([df_count, df_means], axis=1)"
   ]
  },
  {
   "cell_type": "code",
   "execution_count": 26,
   "id": "f0d4d3a2",
   "metadata": {
    "tags": []
   },
   "outputs": [],
   "source": [
    "joined_df=joined_df.T.drop_duplicates().T"
   ]
  },
  {
   "cell_type": "code",
   "execution_count": 27,
   "id": "453cbe42",
   "metadata": {
    "tags": []
   },
   "outputs": [],
   "source": [
    "joined_df['ms'] = joined_df['meanSalary'].apply(lambda x: math.trunc(x*.000001))\n",
    "joined_df['mws'] = joined_df['meanWinShares'].apply(lambda x: math.trunc(x))\n",
    "joined_df['ma'] = joined_df['meanAge'].apply(lambda x: math.trunc(x))"
   ]
  },
  {
   "cell_type": "code",
   "execution_count": 28,
   "id": "347eedd9",
   "metadata": {
    "tags": []
   },
   "outputs": [
    {
     "data": {
      "text/html": [
       "<div>\n",
       "<style scoped>\n",
       "    .dataframe tbody tr th:only-of-type {\n",
       "        vertical-align: middle;\n",
       "    }\n",
       "\n",
       "    .dataframe tbody tr th {\n",
       "        vertical-align: top;\n",
       "    }\n",
       "\n",
       "    .dataframe thead th {\n",
       "        text-align: right;\n",
       "    }\n",
       "</style>\n",
       "<table border=\"1\" class=\"dataframe\">\n",
       "  <thead>\n",
       "    <tr style=\"text-align: right;\">\n",
       "      <th></th>\n",
       "      <th>position1</th>\n",
       "      <th>n</th>\n",
       "      <th>meanSalary</th>\n",
       "      <th>meanWinShares</th>\n",
       "      <th>meanAge</th>\n",
       "      <th>ms</th>\n",
       "      <th>mws</th>\n",
       "      <th>ma</th>\n",
       "    </tr>\n",
       "  </thead>\n",
       "  <tbody>\n",
       "    <tr>\n",
       "      <th>0</th>\n",
       "      <td>C</td>\n",
       "      <td>4</td>\n",
       "      <td>12000000.00</td>\n",
       "      <td>3.57</td>\n",
       "      <td>31.50</td>\n",
       "      <td>12</td>\n",
       "      <td>3</td>\n",
       "      <td>31</td>\n",
       "    </tr>\n",
       "    <tr>\n",
       "      <th>1</th>\n",
       "      <td>PF</td>\n",
       "      <td>6</td>\n",
       "      <td>20083333.33</td>\n",
       "      <td>3.80</td>\n",
       "      <td>29.50</td>\n",
       "      <td>20</td>\n",
       "      <td>3</td>\n",
       "      <td>29</td>\n",
       "    </tr>\n",
       "    <tr>\n",
       "      <th>2</th>\n",
       "      <td>PG</td>\n",
       "      <td>6</td>\n",
       "      <td>17250000.00</td>\n",
       "      <td>4.40</td>\n",
       "      <td>32.83</td>\n",
       "      <td>17</td>\n",
       "      <td>4</td>\n",
       "      <td>32</td>\n",
       "    </tr>\n",
       "    <tr>\n",
       "      <th>3</th>\n",
       "      <td>SF</td>\n",
       "      <td>5</td>\n",
       "      <td>19900000.00</td>\n",
       "      <td>4.36</td>\n",
       "      <td>29.20</td>\n",
       "      <td>19</td>\n",
       "      <td>4</td>\n",
       "      <td>29</td>\n",
       "    </tr>\n",
       "    <tr>\n",
       "      <th>4</th>\n",
       "      <td>SG</td>\n",
       "      <td>3</td>\n",
       "      <td>14666666.67</td>\n",
       "      <td>3.50</td>\n",
       "      <td>28.00</td>\n",
       "      <td>14</td>\n",
       "      <td>3</td>\n",
       "      <td>28</td>\n",
       "    </tr>\n",
       "  </tbody>\n",
       "</table>\n",
       "</div>"
      ],
      "text/plain": [
       "  position1  n  meanSalary meanWinShares meanAge  ms  mws  ma\n",
       "0         C  4 12000000.00          3.57   31.50  12    3  31\n",
       "1        PF  6 20083333.33          3.80   29.50  20    3  29\n",
       "2        PG  6 17250000.00          4.40   32.83  17    4  32\n",
       "3        SF  5 19900000.00          4.36   29.20  19    4  29\n",
       "4        SG  3 14666666.67          3.50   28.00  14    3  28"
      ]
     },
     "execution_count": 28,
     "metadata": {},
     "output_type": "execute_result"
    }
   ],
   "source": [
    "joined_df.head()"
   ]
  },
  {
   "cell_type": "code",
   "execution_count": 29,
   "id": "a67f6373",
   "metadata": {
    "tags": []
   },
   "outputs": [],
   "source": [
    "def add_pct_labels(ax, value, label, spacing):\n",
    "    for i,p in enumerate(ax.patches):\n",
    "        height = p.get_height() # get the height of each bar # adding text to each bar\n",
    "        ax.text(x = p.get_x()+(p.get_width()/2), # x-coordinate position of data label, padded to be in the middle of the bar\n",
    "        y = height-spacing, # y-coordinate position of data label, padded 0.2 above bar\n",
    "        s = '{:.0f}'.format(value[i]), # data label, formatted to ignore decimals\n",
    "        ha = 'center', # sets horizontal alignment (ha) to center\n",
    "        size=8, \n",
    "        c='black',\n",
    "        backgroundcolor='#fffcf2',\n",
    "        label=label)\n",
    "        if i < 1:\n",
    "            ax.annotate(label, xy=(p.get_x()+(p.get_width()/2)+.1, height-spacing+.1), xytext=(p.get_x()+(p.get_width()/2)+.5, height-spacing),\n",
    "                arrowprops=dict(facecolor='black', shrink=0.05))"
   ]
  },
  {
   "cell_type": "code",
   "execution_count": 30,
   "id": "5240b92d",
   "metadata": {
    "tags": []
   },
   "outputs": [
    {
     "data": {
      "image/png": "[encoded data removed]",
      "text/plain": [
       "<Figure size 640x480 with 1 Axes>"
      ]
     },
     "metadata": {},
     "output_type": "display_data"
    }
   ],
   "source": [
    "palettes = [ '#ada7ff', '#9fa0ff', '#8e94f2', '#8187dc', '#757bc8']\n",
    "bar_order=[\"C\", \"PF\", \"PG\",\"SF\", \"SG\"]\n",
    "ms = [joined_df.loc[joined_df[\"position1\"] == i]['ms'].values[0] for i in bar_order]\n",
    "mws = [joined_df.loc[joined_df[\"position1\"] == i]['mws'].values[0] for i in bar_order]\n",
    "ma = [joined_df.loc[joined_df[\"position1\"] == i]['ma'].values[0] for i in bar_order]\n",
    "ax = sns.barplot(joined_df, x='position1', y='n', palette=palettes)\n",
    "# pcts = [gp_df.loc[mp_df[\"pk2\"] == i]['pct'].values[0] for i in bar_order]\n",
    "ax.set_title(\"Shortlisted Free Agents\", size=9)\n",
    "plt.suptitle(\"Position Counts\")\n",
    "ax.set_ylabel(\"Counts\")\n",
    "ax.set_xlabel(\"Position\")\n",
    "add_pct_labels(ax, ms, 'Mean Salary ($M)', .3)\n",
    "add_pct_labels(ax, mws, 'Mean Win Shares', .75)\n",
    "add_pct_labels(ax, ma,\"Mean Age\", 1.2)\n",
    "_ = ax.bar_label(ax.containers[0],size=8, fmt='%.0f')"
   ]
  },
  {
   "cell_type": "markdown",
   "id": "b9847d2a",
   "metadata": {},
   "source": [
    "### Constrained optimization \n",
    "\n",
    "- The GM has room to sign five players (first constraint)\n",
    "- There must be one point guard, one shooting guard, one center, one power forward, and one shooting forward (second constraint)\n",
    "- Annual salaries, collectively, must not exceed $90,000,000 (third constraint)\n",
    "- And the average age of these five players, at the time of signing, must be equal to or less than 30 (fourth and final constraint)"
   ]
  },
  {
   "cell_type": "markdown",
   "id": "75b1ecf7",
   "metadata": {},
   "source": [
    "##### Construct the opitimization DF \n",
    "\n",
    "sort values by position 2"
   ]
  },
  {
   "cell_type": "code",
   "execution_count": 31,
   "id": "cbc2a824",
   "metadata": {
    "tags": []
   },
   "outputs": [],
   "source": [
    "sorted_df = df.sort_values(by='position2')[['player', 'age', 'position2', 'annual_salary', 'win_shares']]"
   ]
  },
  {
   "cell_type": "code",
   "execution_count": 32,
   "id": "c6d32eda",
   "metadata": {
    "tags": []
   },
   "outputs": [
    {
     "data": {
      "text/html": [
       "<div>\n",
       "<style scoped>\n",
       "    .dataframe tbody tr th:only-of-type {\n",
       "        vertical-align: middle;\n",
       "    }\n",
       "\n",
       "    .dataframe tbody tr th {\n",
       "        vertical-align: top;\n",
       "    }\n",
       "\n",
       "    .dataframe thead th {\n",
       "        text-align: right;\n",
       "    }\n",
       "</style>\n",
       "<table border=\"1\" class=\"dataframe\">\n",
       "  <thead>\n",
       "    <tr style=\"text-align: right;\">\n",
       "      <th></th>\n",
       "      <th>player</th>\n",
       "      <th>age</th>\n",
       "      <th>position2</th>\n",
       "      <th>annual_salary</th>\n",
       "      <th>win_shares</th>\n",
       "    </tr>\n",
       "  </thead>\n",
       "  <tbody>\n",
       "    <tr>\n",
       "      <th>10</th>\n",
       "      <td>Jonas Valanciunas</td>\n",
       "      <td>30</td>\n",
       "      <td>C1</td>\n",
       "      <td>15000000</td>\n",
       "      <td>5.10</td>\n",
       "    </tr>\n",
       "    <tr>\n",
       "      <th>19</th>\n",
       "      <td>Jusuf Nurkic</td>\n",
       "      <td>28</td>\n",
       "      <td>C2</td>\n",
       "      <td>14000000</td>\n",
       "      <td>3.80</td>\n",
       "    </tr>\n",
       "    <tr>\n",
       "      <th>22</th>\n",
       "      <td>Serge Ibaka</td>\n",
       "      <td>33</td>\n",
       "      <td>C3</td>\n",
       "      <td>12000000</td>\n",
       "      <td>2.90</td>\n",
       "    </tr>\n",
       "    <tr>\n",
       "      <th>23</th>\n",
       "      <td>Aron Baynes</td>\n",
       "      <td>35</td>\n",
       "      <td>C4</td>\n",
       "      <td>7000000</td>\n",
       "      <td>2.50</td>\n",
       "    </tr>\n",
       "    <tr>\n",
       "      <th>2</th>\n",
       "      <td>Blake Griffin</td>\n",
       "      <td>33</td>\n",
       "      <td>PF1</td>\n",
       "      <td>35000000</td>\n",
       "      <td>5.20</td>\n",
       "    </tr>\n",
       "  </tbody>\n",
       "</table>\n",
       "</div>"
      ],
      "text/plain": [
       "               player  age position2  annual_salary  win_shares\n",
       "10  Jonas Valanciunas   30        C1       15000000        5.10\n",
       "19       Jusuf Nurkic   28        C2       14000000        3.80\n",
       "22        Serge Ibaka   33        C3       12000000        2.90\n",
       "23        Aron Baynes   35        C4        7000000        2.50\n",
       "2       Blake Griffin   33       PF1       35000000        5.20"
      ]
     },
     "execution_count": 32,
     "metadata": {},
     "output_type": "execute_result"
    }
   ],
   "source": [
    "sorted_df.head()"
   ]
  },
  {
   "cell_type": "markdown",
   "id": "1053d52a",
   "metadata": {
    "tags": []
   },
   "source": [
    "##### binary encode (T/F) position 2"
   ]
  },
  {
   "cell_type": "code",
   "execution_count": 33,
   "id": "80fcb703",
   "metadata": {
    "tags": []
   },
   "outputs": [],
   "source": [
    "sorted_df['centers'] = sorted_df.position2.apply(lambda x: 1 if x.startswith('C') else 0)\n",
    "sorted_df['power_forwards'] = sorted_df.position2.apply(lambda x: 1 if x.startswith('PF') else 0)\n",
    "sorted_df['point_guards'] = sorted_df.position2.apply(lambda x: 1 if x.startswith('PG') else 0)\n",
    "sorted_df['shooting_forwards'] = sorted_df.position2.apply(lambda x: 1 if x.startswith('SF') else 0)\n",
    "sorted_df['shooting_guards'] = sorted_df.position2.apply(lambda x: 1 if x.startswith('SG') else 0)"
   ]
  },
  {
   "cell_type": "code",
   "execution_count": 34,
   "id": "c7817ff7",
   "metadata": {
    "tags": []
   },
   "outputs": [
    {
     "data": {
      "text/html": [
       "<div>\n",
       "<style scoped>\n",
       "    .dataframe tbody tr th:only-of-type {\n",
       "        vertical-align: middle;\n",
       "    }\n",
       "\n",
       "    .dataframe tbody tr th {\n",
       "        vertical-align: top;\n",
       "    }\n",
       "\n",
       "    .dataframe thead th {\n",
       "        text-align: right;\n",
       "    }\n",
       "</style>\n",
       "<table border=\"1\" class=\"dataframe\">\n",
       "  <thead>\n",
       "    <tr style=\"text-align: right;\">\n",
       "      <th></th>\n",
       "      <th>player</th>\n",
       "      <th>age</th>\n",
       "      <th>position2</th>\n",
       "      <th>annual_salary</th>\n",
       "      <th>win_shares</th>\n",
       "      <th>centers</th>\n",
       "      <th>power_forwards</th>\n",
       "      <th>point_guards</th>\n",
       "      <th>shooting_forwards</th>\n",
       "      <th>shooting_guards</th>\n",
       "    </tr>\n",
       "  </thead>\n",
       "  <tbody>\n",
       "    <tr>\n",
       "      <th>10</th>\n",
       "      <td>Jonas Valanciunas</td>\n",
       "      <td>30</td>\n",
       "      <td>C1</td>\n",
       "      <td>15000000</td>\n",
       "      <td>5.10</td>\n",
       "      <td>1</td>\n",
       "      <td>0</td>\n",
       "      <td>0</td>\n",
       "      <td>0</td>\n",
       "      <td>0</td>\n",
       "    </tr>\n",
       "    <tr>\n",
       "      <th>19</th>\n",
       "      <td>Jusuf Nurkic</td>\n",
       "      <td>28</td>\n",
       "      <td>C2</td>\n",
       "      <td>14000000</td>\n",
       "      <td>3.80</td>\n",
       "      <td>1</td>\n",
       "      <td>0</td>\n",
       "      <td>0</td>\n",
       "      <td>0</td>\n",
       "      <td>0</td>\n",
       "    </tr>\n",
       "    <tr>\n",
       "      <th>22</th>\n",
       "      <td>Serge Ibaka</td>\n",
       "      <td>33</td>\n",
       "      <td>C3</td>\n",
       "      <td>12000000</td>\n",
       "      <td>2.90</td>\n",
       "      <td>1</td>\n",
       "      <td>0</td>\n",
       "      <td>0</td>\n",
       "      <td>0</td>\n",
       "      <td>0</td>\n",
       "    </tr>\n",
       "    <tr>\n",
       "      <th>23</th>\n",
       "      <td>Aron Baynes</td>\n",
       "      <td>35</td>\n",
       "      <td>C4</td>\n",
       "      <td>7000000</td>\n",
       "      <td>2.50</td>\n",
       "      <td>1</td>\n",
       "      <td>0</td>\n",
       "      <td>0</td>\n",
       "      <td>0</td>\n",
       "      <td>0</td>\n",
       "    </tr>\n",
       "    <tr>\n",
       "      <th>2</th>\n",
       "      <td>Blake Griffin</td>\n",
       "      <td>33</td>\n",
       "      <td>PF1</td>\n",
       "      <td>35000000</td>\n",
       "      <td>5.20</td>\n",
       "      <td>0</td>\n",
       "      <td>1</td>\n",
       "      <td>0</td>\n",
       "      <td>0</td>\n",
       "      <td>0</td>\n",
       "    </tr>\n",
       "  </tbody>\n",
       "</table>\n",
       "</div>"
      ],
      "text/plain": [
       "               player  age position2  annual_salary  win_shares  centers   \n",
       "10  Jonas Valanciunas   30        C1       15000000        5.10        1  \\\n",
       "19       Jusuf Nurkic   28        C2       14000000        3.80        1   \n",
       "22        Serge Ibaka   33        C3       12000000        2.90        1   \n",
       "23        Aron Baynes   35        C4        7000000        2.50        1   \n",
       "2       Blake Griffin   33       PF1       35000000        5.20        0   \n",
       "\n",
       "    power_forwards  point_guards  shooting_forwards  shooting_guards  \n",
       "10               0             0                  0                0  \n",
       "19               0             0                  0                0  \n",
       "22               0             0                  0                0  \n",
       "23               0             0                  0                0  \n",
       "2                1             0                  0                0  "
      ]
     },
     "execution_count": 34,
     "metadata": {},
     "output_type": "execute_result"
    }
   ],
   "source": [
    "sorted_df.head()"
   ]
  },
  {
   "cell_type": "code",
   "execution_count": 35,
   "id": "9d7e4af1",
   "metadata": {
    "tags": []
   },
   "outputs": [],
   "source": [
    "sorted_df['t'] = 1"
   ]
  },
  {
   "cell_type": "code",
   "execution_count": 36,
   "id": "6ce984e4",
   "metadata": {
    "tags": []
   },
   "outputs": [],
   "source": [
    "constraint_matrix = pd.DataFrame(sorted_df[['centers', 'centers', \n",
    "           'power_forwards', 'power_forwards', \n",
    "           'point_guards', 'point_guards', \n",
    "           'shooting_forwards', 'shooting_forwards',\n",
    "           'shooting_guards', 'shooting_guards',\n",
    "           't',\n",
    "           'annual_salary',\n",
    "           'age'\n",
    "            ]].to_numpy(), \n",
    "            columns=[\"OneCenterMax\",\n",
    "                     \"OneCenterMin\",\n",
    "                     \"OnePowerForwardMax\",\n",
    "                     \"OnePowerForwardMin\",\n",
    "                     \"OnePointGuardMax\",\n",
    "                     \"OnePointGuardMin\",\n",
    "                     \"OneShootingForwardMax\",\n",
    "                     \"OneShootingForwardMin\",\n",
    "                     \"OneShootingGuardMax\",\n",
    "                     \"OneShootingGuardMin\",\n",
    "                     \"FivePlayerMax\",\n",
    "                     \"SalaryMax\",\n",
    "                     \"AgeMax\"]\n",
    "                    ).set_index(sorted_df['position2'])"
   ]
  },
  {
   "cell_type": "code",
   "execution_count": 37,
   "id": "9e72b142",
   "metadata": {
    "tags": []
   },
   "outputs": [],
   "source": [
    "constraint_matrix=constraint_matrix.transpose()"
   ]
  },
  {
   "cell_type": "code",
   "execution_count": 38,
   "id": "81561813",
   "metadata": {
    "tags": []
   },
   "outputs": [
    {
     "data": {
      "text/html": [
       "<div>\n",
       "<style scoped>\n",
       "    .dataframe tbody tr th:only-of-type {\n",
       "        vertical-align: middle;\n",
       "    }\n",
       "\n",
       "    .dataframe tbody tr th {\n",
       "        vertical-align: top;\n",
       "    }\n",
       "\n",
       "    .dataframe thead th {\n",
       "        text-align: right;\n",
       "    }\n",
       "</style>\n",
       "<table border=\"1\" class=\"dataframe\">\n",
       "  <thead>\n",
       "    <tr style=\"text-align: right;\">\n",
       "      <th>position2</th>\n",
       "      <th>C1</th>\n",
       "      <th>C2</th>\n",
       "      <th>C3</th>\n",
       "      <th>C4</th>\n",
       "      <th>PF1</th>\n",
       "      <th>PF2</th>\n",
       "      <th>PF3</th>\n",
       "      <th>PF4</th>\n",
       "      <th>PF5</th>\n",
       "      <th>PF6</th>\n",
       "      <th>PG1</th>\n",
       "      <th>PG2</th>\n",
       "      <th>PG3</th>\n",
       "      <th>PG4</th>\n",
       "      <th>PG5</th>\n",
       "      <th>PG6</th>\n",
       "      <th>SF1</th>\n",
       "      <th>SF2</th>\n",
       "      <th>SF3</th>\n",
       "      <th>SF4</th>\n",
       "      <th>SF5</th>\n",
       "      <th>SG1</th>\n",
       "      <th>SG2</th>\n",
       "      <th>SG3</th>\n",
       "    </tr>\n",
       "  </thead>\n",
       "  <tbody>\n",
       "    <tr>\n",
       "      <th>OneCenterMax</th>\n",
       "      <td>1</td>\n",
       "      <td>1</td>\n",
       "      <td>1</td>\n",
       "      <td>1</td>\n",
       "      <td>0</td>\n",
       "      <td>0</td>\n",
       "      <td>0</td>\n",
       "      <td>0</td>\n",
       "      <td>0</td>\n",
       "      <td>0</td>\n",
       "      <td>0</td>\n",
       "      <td>0</td>\n",
       "      <td>0</td>\n",
       "      <td>0</td>\n",
       "      <td>0</td>\n",
       "      <td>0</td>\n",
       "      <td>0</td>\n",
       "      <td>0</td>\n",
       "      <td>0</td>\n",
       "      <td>0</td>\n",
       "      <td>0</td>\n",
       "      <td>0</td>\n",
       "      <td>0</td>\n",
       "      <td>0</td>\n",
       "    </tr>\n",
       "    <tr>\n",
       "      <th>OneCenterMin</th>\n",
       "      <td>1</td>\n",
       "      <td>1</td>\n",
       "      <td>1</td>\n",
       "      <td>1</td>\n",
       "      <td>0</td>\n",
       "      <td>0</td>\n",
       "      <td>0</td>\n",
       "      <td>0</td>\n",
       "      <td>0</td>\n",
       "      <td>0</td>\n",
       "      <td>0</td>\n",
       "      <td>0</td>\n",
       "      <td>0</td>\n",
       "      <td>0</td>\n",
       "      <td>0</td>\n",
       "      <td>0</td>\n",
       "      <td>0</td>\n",
       "      <td>0</td>\n",
       "      <td>0</td>\n",
       "      <td>0</td>\n",
       "      <td>0</td>\n",
       "      <td>0</td>\n",
       "      <td>0</td>\n",
       "      <td>0</td>\n",
       "    </tr>\n",
       "    <tr>\n",
       "      <th>OnePowerForwardMax</th>\n",
       "      <td>0</td>\n",
       "      <td>0</td>\n",
       "      <td>0</td>\n",
       "      <td>0</td>\n",
       "      <td>1</td>\n",
       "      <td>1</td>\n",
       "      <td>1</td>\n",
       "      <td>1</td>\n",
       "      <td>1</td>\n",
       "      <td>1</td>\n",
       "      <td>0</td>\n",
       "      <td>0</td>\n",
       "      <td>0</td>\n",
       "      <td>0</td>\n",
       "      <td>0</td>\n",
       "      <td>0</td>\n",
       "      <td>0</td>\n",
       "      <td>0</td>\n",
       "      <td>0</td>\n",
       "      <td>0</td>\n",
       "      <td>0</td>\n",
       "      <td>0</td>\n",
       "      <td>0</td>\n",
       "      <td>0</td>\n",
       "    </tr>\n",
       "    <tr>\n",
       "      <th>OnePowerForwardMin</th>\n",
       "      <td>0</td>\n",
       "      <td>0</td>\n",
       "      <td>0</td>\n",
       "      <td>0</td>\n",
       "      <td>1</td>\n",
       "      <td>1</td>\n",
       "      <td>1</td>\n",
       "      <td>1</td>\n",
       "      <td>1</td>\n",
       "      <td>1</td>\n",
       "      <td>0</td>\n",
       "      <td>0</td>\n",
       "      <td>0</td>\n",
       "      <td>0</td>\n",
       "      <td>0</td>\n",
       "      <td>0</td>\n",
       "      <td>0</td>\n",
       "      <td>0</td>\n",
       "      <td>0</td>\n",
       "      <td>0</td>\n",
       "      <td>0</td>\n",
       "      <td>0</td>\n",
       "      <td>0</td>\n",
       "      <td>0</td>\n",
       "    </tr>\n",
       "    <tr>\n",
       "      <th>OnePointGuardMax</th>\n",
       "      <td>0</td>\n",
       "      <td>0</td>\n",
       "      <td>0</td>\n",
       "      <td>0</td>\n",
       "      <td>0</td>\n",
       "      <td>0</td>\n",
       "      <td>0</td>\n",
       "      <td>0</td>\n",
       "      <td>0</td>\n",
       "      <td>0</td>\n",
       "      <td>1</td>\n",
       "      <td>1</td>\n",
       "      <td>1</td>\n",
       "      <td>1</td>\n",
       "      <td>1</td>\n",
       "      <td>1</td>\n",
       "      <td>0</td>\n",
       "      <td>0</td>\n",
       "      <td>0</td>\n",
       "      <td>0</td>\n",
       "      <td>0</td>\n",
       "      <td>0</td>\n",
       "      <td>0</td>\n",
       "      <td>0</td>\n",
       "    </tr>\n",
       "    <tr>\n",
       "      <th>OnePointGuardMin</th>\n",
       "      <td>0</td>\n",
       "      <td>0</td>\n",
       "      <td>0</td>\n",
       "      <td>0</td>\n",
       "      <td>0</td>\n",
       "      <td>0</td>\n",
       "      <td>0</td>\n",
       "      <td>0</td>\n",
       "      <td>0</td>\n",
       "      <td>0</td>\n",
       "      <td>1</td>\n",
       "      <td>1</td>\n",
       "      <td>1</td>\n",
       "      <td>1</td>\n",
       "      <td>1</td>\n",
       "      <td>1</td>\n",
       "      <td>0</td>\n",
       "      <td>0</td>\n",
       "      <td>0</td>\n",
       "      <td>0</td>\n",
       "      <td>0</td>\n",
       "      <td>0</td>\n",
       "      <td>0</td>\n",
       "      <td>0</td>\n",
       "    </tr>\n",
       "    <tr>\n",
       "      <th>OneShootingForwardMax</th>\n",
       "      <td>0</td>\n",
       "      <td>0</td>\n",
       "      <td>0</td>\n",
       "      <td>0</td>\n",
       "      <td>0</td>\n",
       "      <td>0</td>\n",
       "      <td>0</td>\n",
       "      <td>0</td>\n",
       "      <td>0</td>\n",
       "      <td>0</td>\n",
       "      <td>0</td>\n",
       "      <td>0</td>\n",
       "      <td>0</td>\n",
       "      <td>0</td>\n",
       "      <td>0</td>\n",
       "      <td>0</td>\n",
       "      <td>1</td>\n",
       "      <td>1</td>\n",
       "      <td>1</td>\n",
       "      <td>1</td>\n",
       "      <td>1</td>\n",
       "      <td>0</td>\n",
       "      <td>0</td>\n",
       "      <td>0</td>\n",
       "    </tr>\n",
       "    <tr>\n",
       "      <th>OneShootingForwardMin</th>\n",
       "      <td>0</td>\n",
       "      <td>0</td>\n",
       "      <td>0</td>\n",
       "      <td>0</td>\n",
       "      <td>0</td>\n",
       "      <td>0</td>\n",
       "      <td>0</td>\n",
       "      <td>0</td>\n",
       "      <td>0</td>\n",
       "      <td>0</td>\n",
       "      <td>0</td>\n",
       "      <td>0</td>\n",
       "      <td>0</td>\n",
       "      <td>0</td>\n",
       "      <td>0</td>\n",
       "      <td>0</td>\n",
       "      <td>1</td>\n",
       "      <td>1</td>\n",
       "      <td>1</td>\n",
       "      <td>1</td>\n",
       "      <td>1</td>\n",
       "      <td>0</td>\n",
       "      <td>0</td>\n",
       "      <td>0</td>\n",
       "    </tr>\n",
       "    <tr>\n",
       "      <th>OneShootingGuardMax</th>\n",
       "      <td>0</td>\n",
       "      <td>0</td>\n",
       "      <td>0</td>\n",
       "      <td>0</td>\n",
       "      <td>0</td>\n",
       "      <td>0</td>\n",
       "      <td>0</td>\n",
       "      <td>0</td>\n",
       "      <td>0</td>\n",
       "      <td>0</td>\n",
       "      <td>0</td>\n",
       "      <td>0</td>\n",
       "      <td>0</td>\n",
       "      <td>0</td>\n",
       "      <td>0</td>\n",
       "      <td>0</td>\n",
       "      <td>0</td>\n",
       "      <td>0</td>\n",
       "      <td>0</td>\n",
       "      <td>0</td>\n",
       "      <td>0</td>\n",
       "      <td>1</td>\n",
       "      <td>1</td>\n",
       "      <td>1</td>\n",
       "    </tr>\n",
       "    <tr>\n",
       "      <th>OneShootingGuardMin</th>\n",
       "      <td>0</td>\n",
       "      <td>0</td>\n",
       "      <td>0</td>\n",
       "      <td>0</td>\n",
       "      <td>0</td>\n",
       "      <td>0</td>\n",
       "      <td>0</td>\n",
       "      <td>0</td>\n",
       "      <td>0</td>\n",
       "      <td>0</td>\n",
       "      <td>0</td>\n",
       "      <td>0</td>\n",
       "      <td>0</td>\n",
       "      <td>0</td>\n",
       "      <td>0</td>\n",
       "      <td>0</td>\n",
       "      <td>0</td>\n",
       "      <td>0</td>\n",
       "      <td>0</td>\n",
       "      <td>0</td>\n",
       "      <td>0</td>\n",
       "      <td>1</td>\n",
       "      <td>1</td>\n",
       "      <td>1</td>\n",
       "    </tr>\n",
       "    <tr>\n",
       "      <th>FivePlayerMax</th>\n",
       "      <td>1</td>\n",
       "      <td>1</td>\n",
       "      <td>1</td>\n",
       "      <td>1</td>\n",
       "      <td>1</td>\n",
       "      <td>1</td>\n",
       "      <td>1</td>\n",
       "      <td>1</td>\n",
       "      <td>1</td>\n",
       "      <td>1</td>\n",
       "      <td>1</td>\n",
       "      <td>1</td>\n",
       "      <td>1</td>\n",
       "      <td>1</td>\n",
       "      <td>1</td>\n",
       "      <td>1</td>\n",
       "      <td>1</td>\n",
       "      <td>1</td>\n",
       "      <td>1</td>\n",
       "      <td>1</td>\n",
       "      <td>1</td>\n",
       "      <td>1</td>\n",
       "      <td>1</td>\n",
       "      <td>1</td>\n",
       "    </tr>\n",
       "    <tr>\n",
       "      <th>SalaryMax</th>\n",
       "      <td>15000000</td>\n",
       "      <td>14000000</td>\n",
       "      <td>12000000</td>\n",
       "      <td>7000000</td>\n",
       "      <td>35000000</td>\n",
       "      <td>26000000</td>\n",
       "      <td>17000000</td>\n",
       "      <td>14500000</td>\n",
       "      <td>14500000</td>\n",
       "      <td>13500000</td>\n",
       "      <td>32000000</td>\n",
       "      <td>6500000</td>\n",
       "      <td>18500000</td>\n",
       "      <td>16500000</td>\n",
       "      <td>15500000</td>\n",
       "      <td>14500000</td>\n",
       "      <td>37000000</td>\n",
       "      <td>19500000</td>\n",
       "      <td>14500000</td>\n",
       "      <td>15000000</td>\n",
       "      <td>13500000</td>\n",
       "      <td>11000000</td>\n",
       "      <td>22500000</td>\n",
       "      <td>10500000</td>\n",
       "    </tr>\n",
       "    <tr>\n",
       "      <th>AgeMax</th>\n",
       "      <td>30</td>\n",
       "      <td>28</td>\n",
       "      <td>33</td>\n",
       "      <td>35</td>\n",
       "      <td>33</td>\n",
       "      <td>28</td>\n",
       "      <td>34</td>\n",
       "      <td>23</td>\n",
       "      <td>28</td>\n",
       "      <td>31</td>\n",
       "      <td>37</td>\n",
       "      <td>36</td>\n",
       "      <td>31</td>\n",
       "      <td>34</td>\n",
       "      <td>28</td>\n",
       "      <td>31</td>\n",
       "      <td>31</td>\n",
       "      <td>29</td>\n",
       "      <td>31</td>\n",
       "      <td>26</td>\n",
       "      <td>29</td>\n",
       "      <td>29</td>\n",
       "      <td>28</td>\n",
       "      <td>27</td>\n",
       "    </tr>\n",
       "  </tbody>\n",
       "</table>\n",
       "</div>"
      ],
      "text/plain": [
       "position2                    C1        C2        C3       C4       PF1   \n",
       "OneCenterMax                  1         1         1        1         0  \\\n",
       "OneCenterMin                  1         1         1        1         0   \n",
       "OnePowerForwardMax            0         0         0        0         1   \n",
       "OnePowerForwardMin            0         0         0        0         1   \n",
       "OnePointGuardMax              0         0         0        0         0   \n",
       "OnePointGuardMin              0         0         0        0         0   \n",
       "OneShootingForwardMax         0         0         0        0         0   \n",
       "OneShootingForwardMin         0         0         0        0         0   \n",
       "OneShootingGuardMax           0         0         0        0         0   \n",
       "OneShootingGuardMin           0         0         0        0         0   \n",
       "FivePlayerMax                 1         1         1        1         1   \n",
       "SalaryMax              15000000  14000000  12000000  7000000  35000000   \n",
       "AgeMax                       30        28        33       35        33   \n",
       "\n",
       "position2                   PF2       PF3       PF4       PF5       PF6   \n",
       "OneCenterMax                  0         0         0         0         0  \\\n",
       "OneCenterMin                  0         0         0         0         0   \n",
       "OnePowerForwardMax            1         1         1         1         1   \n",
       "OnePowerForwardMin            1         1         1         1         1   \n",
       "OnePointGuardMax              0         0         0         0         0   \n",
       "OnePointGuardMin              0         0         0         0         0   \n",
       "OneShootingForwardMax         0         0         0         0         0   \n",
       "OneShootingForwardMin         0         0         0         0         0   \n",
       "OneShootingGuardMax           0         0         0         0         0   \n",
       "OneShootingGuardMin           0         0         0         0         0   \n",
       "FivePlayerMax                 1         1         1         1         1   \n",
       "SalaryMax              26000000  17000000  14500000  14500000  13500000   \n",
       "AgeMax                       28        34        23        28        31   \n",
       "\n",
       "position2                   PG1      PG2       PG3       PG4       PG5   \n",
       "OneCenterMax                  0        0         0         0         0  \\\n",
       "OneCenterMin                  0        0         0         0         0   \n",
       "OnePowerForwardMax            0        0         0         0         0   \n",
       "OnePowerForwardMin            0        0         0         0         0   \n",
       "OnePointGuardMax              1        1         1         1         1   \n",
       "OnePointGuardMin              1        1         1         1         1   \n",
       "OneShootingForwardMax         0        0         0         0         0   \n",
       "OneShootingForwardMin         0        0         0         0         0   \n",
       "OneShootingGuardMax           0        0         0         0         0   \n",
       "OneShootingGuardMin           0        0         0         0         0   \n",
       "FivePlayerMax                 1        1         1         1         1   \n",
       "SalaryMax              32000000  6500000  18500000  16500000  15500000   \n",
       "AgeMax                       37       36        31        34        28   \n",
       "\n",
       "position2                   PG6       SF1       SF2       SF3       SF4   \n",
       "OneCenterMax                  0         0         0         0         0  \\\n",
       "OneCenterMin                  0         0         0         0         0   \n",
       "OnePowerForwardMax            0         0         0         0         0   \n",
       "OnePowerForwardMin            0         0         0         0         0   \n",
       "OnePointGuardMax              1         0         0         0         0   \n",
       "OnePointGuardMin              1         0         0         0         0   \n",
       "OneShootingForwardMax         0         1         1         1         1   \n",
       "OneShootingForwardMin         0         1         1         1         1   \n",
       "OneShootingGuardMax           0         0         0         0         0   \n",
       "OneShootingGuardMin           0         0         0         0         0   \n",
       "FivePlayerMax                 1         1         1         1         1   \n",
       "SalaryMax              14500000  37000000  19500000  14500000  15000000   \n",
       "AgeMax                       31        31        29        31        26   \n",
       "\n",
       "position2                   SF5       SG1       SG2       SG3  \n",
       "OneCenterMax                  0         0         0         0  \n",
       "OneCenterMin                  0         0         0         0  \n",
       "OnePowerForwardMax            0         0         0         0  \n",
       "OnePowerForwardMin            0         0         0         0  \n",
       "OnePointGuardMax              0         0         0         0  \n",
       "OnePointGuardMin              0         0         0         0  \n",
       "OneShootingForwardMax         1         0         0         0  \n",
       "OneShootingForwardMin         1         0         0         0  \n",
       "OneShootingGuardMax           0         1         1         1  \n",
       "OneShootingGuardMin           0         1         1         1  \n",
       "FivePlayerMax                 1         1         1         1  \n",
       "SalaryMax              13500000  11000000  22500000  10500000  \n",
       "AgeMax                       29        29        28        27  "
      ]
     },
     "execution_count": 38,
     "metadata": {},
     "output_type": "execute_result"
    }
   ],
   "source": [
    "constraint_matrix"
   ]
  },
  {
   "cell_type": "markdown",
   "id": "27888f1a-4e18-4e29-8298-337053337558",
   "metadata": {},
   "source": [
    "Constraints set in const_rhs below\n",
    "- no more than 1 \n",
    "    - center\n",
    "    - Power Forward \n",
    "    - Point guard\n",
    "    - Shooting forward\n",
    "    - shooting guard\n",
    "- Max players \n"
   ]
  },
  {
   "cell_type": "code",
   "execution_count": 66,
   "id": "22262d86",
   "metadata": {
    "tags": []
   },
   "outputs": [],
   "source": [
    "cm = constraint_matrix.to_numpy()\n",
    "objective = sorted_df['win_shares'].to_numpy()\n",
    "const_rhs = [1, 1, 1, 1, 1, 1, 1, 1, 1, 1, 5, 90000000, 150]\n",
    "bounds = [(0, 1)] * cm.shape[1]\n",
    "int_vars = [1 for i in range(1, 25)]"
   ]
  },
  {
   "cell_type": "markdown",
   "id": "9084a575-69ab-48bd-9163-67761ec5f353",
   "metadata": {},
   "source": [
    "Call scipy lingprog function\n",
    "- pass in -objective to maximize \n",
    "- use integrality to make decision variable be an integer within bounds e.g., 0 or 1"
   ]
  },
  {
   "cell_type": "code",
   "execution_count": 93,
   "id": "efb2ba2e-3dfb-4ca3-97a3-fbf200921b5d",
   "metadata": {},
   "outputs": [],
   "source": [
    "result = opt.linprog(c=-objective, A_ub=cm, b_ub=const_rhs, bounds=bounds, integrality=int_vars)"
   ]
  },
  {
   "cell_type": "code",
   "execution_count": 94,
   "id": "69afaf62-3c56-4523-8dac-30a11c17f0a2",
   "metadata": {},
   "outputs": [],
   "source": [
    "opt_solution_col = [True if i > 0 else False for i in result['x']]"
   ]
  },
  {
   "cell_type": "code",
   "execution_count": 95,
   "id": "45a879b3-ab74-43b5-bcc6-352f7717091e",
   "metadata": {},
   "outputs": [],
   "source": [
    "sorted_df['opt'] = opt_solution_col"
   ]
  },
  {
   "cell_type": "code",
   "execution_count": 97,
   "id": "ecc59cf3-9b5e-4168-965e-4367ce8b3c6f",
   "metadata": {},
   "outputs": [],
   "source": [
    "opt_df = sorted_df.loc[sorted_df.opt == True]"
   ]
  },
  {
   "cell_type": "markdown",
   "id": "df8a9f68-867f-45af-89c2-bc927b62001c",
   "metadata": {},
   "source": [
    "Any other combination of players would either result in a lower win share total or would violate at least one of the defined hard constraints"
   ]
  },
  {
   "cell_type": "code",
   "execution_count": 101,
   "id": "b3858da0-3a56-43e4-92de-f09ca7ec8893",
   "metadata": {},
   "outputs": [
    {
     "data": {
      "text/html": [
       "<div>\n",
       "<style scoped>\n",
       "    .dataframe tbody tr th:only-of-type {\n",
       "        vertical-align: middle;\n",
       "    }\n",
       "\n",
       "    .dataframe tbody tr th {\n",
       "        vertical-align: top;\n",
       "    }\n",
       "\n",
       "    .dataframe thead th {\n",
       "        text-align: right;\n",
       "    }\n",
       "</style>\n",
       "<table border=\"1\" class=\"dataframe\">\n",
       "  <thead>\n",
       "    <tr style=\"text-align: right;\">\n",
       "      <th></th>\n",
       "      <th>player</th>\n",
       "      <th>age</th>\n",
       "      <th>position2</th>\n",
       "      <th>annual_salary</th>\n",
       "      <th>win_shares</th>\n",
       "      <th>centers</th>\n",
       "      <th>power_forwards</th>\n",
       "      <th>point_guards</th>\n",
       "      <th>shooting_forwards</th>\n",
       "      <th>shooting_guards</th>\n",
       "      <th>t</th>\n",
       "      <th>opt</th>\n",
       "    </tr>\n",
       "  </thead>\n",
       "  <tbody>\n",
       "    <tr>\n",
       "      <th>22</th>\n",
       "      <td>Serge Ibaka</td>\n",
       "      <td>33</td>\n",
       "      <td>C3</td>\n",
       "      <td>12000000</td>\n",
       "      <td>2.90</td>\n",
       "      <td>1</td>\n",
       "      <td>0</td>\n",
       "      <td>0</td>\n",
       "      <td>0</td>\n",
       "      <td>0</td>\n",
       "      <td>1</td>\n",
       "      <td>True</td>\n",
       "    </tr>\n",
       "    <tr>\n",
       "      <th>16</th>\n",
       "      <td>Marvin Bagley III</td>\n",
       "      <td>23</td>\n",
       "      <td>PF4</td>\n",
       "      <td>14500000</td>\n",
       "      <td>4.70</td>\n",
       "      <td>0</td>\n",
       "      <td>1</td>\n",
       "      <td>0</td>\n",
       "      <td>0</td>\n",
       "      <td>0</td>\n",
       "      <td>1</td>\n",
       "      <td>True</td>\n",
       "    </tr>\n",
       "    <tr>\n",
       "      <th>15</th>\n",
       "      <td>Marcus Smart</td>\n",
       "      <td>28</td>\n",
       "      <td>PG5</td>\n",
       "      <td>15500000</td>\n",
       "      <td>4.70</td>\n",
       "      <td>0</td>\n",
       "      <td>0</td>\n",
       "      <td>1</td>\n",
       "      <td>0</td>\n",
       "      <td>0</td>\n",
       "      <td>1</td>\n",
       "      <td>True</td>\n",
       "    </tr>\n",
       "    <tr>\n",
       "      <th>1</th>\n",
       "      <td>Kawhi Leonard</td>\n",
       "      <td>31</td>\n",
       "      <td>SF1</td>\n",
       "      <td>37000000</td>\n",
       "      <td>9.40</td>\n",
       "      <td>0</td>\n",
       "      <td>0</td>\n",
       "      <td>0</td>\n",
       "      <td>1</td>\n",
       "      <td>0</td>\n",
       "      <td>1</td>\n",
       "      <td>True</td>\n",
       "    </tr>\n",
       "    <tr>\n",
       "      <th>6</th>\n",
       "      <td>Zach LaVine</td>\n",
       "      <td>27</td>\n",
       "      <td>SG3</td>\n",
       "      <td>10500000</td>\n",
       "      <td>3.80</td>\n",
       "      <td>0</td>\n",
       "      <td>0</td>\n",
       "      <td>0</td>\n",
       "      <td>0</td>\n",
       "      <td>1</td>\n",
       "      <td>1</td>\n",
       "      <td>True</td>\n",
       "    </tr>\n",
       "  </tbody>\n",
       "</table>\n",
       "</div>"
      ],
      "text/plain": [
       "               player  age position2  annual_salary  win_shares  centers   \n",
       "22        Serge Ibaka   33        C3       12000000        2.90        1  \\\n",
       "16  Marvin Bagley III   23       PF4       14500000        4.70        0   \n",
       "15       Marcus Smart   28       PG5       15500000        4.70        0   \n",
       "1       Kawhi Leonard   31       SF1       37000000        9.40        0   \n",
       "6         Zach LaVine   27       SG3       10500000        3.80        0   \n",
       "\n",
       "    power_forwards  point_guards  shooting_forwards  shooting_guards  t   opt  \n",
       "22               0             0                  0                0  1  True  \n",
       "16               1             0                  0                0  1  True  \n",
       "15               0             1                  0                0  1  True  \n",
       "1                0             0                  1                0  1  True  \n",
       "6                0             0                  0                1  1  True  "
      ]
     },
     "execution_count": 101,
     "metadata": {},
     "output_type": "execute_result"
    }
   ],
   "source": [
    "opt_df"
   ]
  },
  {
   "cell_type": "markdown",
   "id": "56f631d5-b66d-4350-ae8d-136a55e7390e",
   "metadata": {},
   "source": [
    "Annual salary within bounds of $90M"
   ]
  },
  {
   "cell_type": "code",
   "execution_count": 98,
   "id": "27773d3f-77e5-4f01-b75a-8e505798f1ab",
   "metadata": {},
   "outputs": [
    {
     "data": {
      "text/plain": [
       "89500000"
      ]
     },
     "execution_count": 98,
     "metadata": {},
     "output_type": "execute_result"
    }
   ],
   "source": [
    "opt_df.annual_salary.sum()"
   ]
  },
  {
   "cell_type": "markdown",
   "id": "2ee0f069-eb52-4593-b2b9-b58423068e25",
   "metadata": {},
   "source": [
    "Expected win shares for the optimial free agent selection"
   ]
  },
  {
   "cell_type": "code",
   "execution_count": 99,
   "id": "3ff0737d-5af9-40f9-8074-568120ef20be",
   "metadata": {},
   "outputs": [
    {
     "data": {
      "text/plain": [
       "25.500000000000004"
      ]
     },
     "execution_count": 99,
     "metadata": {},
     "output_type": "execute_result"
    }
   ],
   "source": [
    "opt_df.win_shares.sum()"
   ]
  },
  {
   "cell_type": "markdown",
   "id": "535f952b-bb93-4891-9b34-e2e8eb1ee329",
   "metadata": {},
   "source": [
    "Age within the bounds to not exceed 150 "
   ]
  },
  {
   "cell_type": "code",
   "execution_count": 102,
   "id": "33470447-1689-4077-9656-58527522937b",
   "metadata": {},
   "outputs": [
    {
     "data": {
      "text/plain": [
       "(28.4, 142)"
      ]
     },
     "execution_count": 102,
     "metadata": {},
     "output_type": "execute_result"
    }
   ],
   "source": [
    "opt_df.age.mean(), opt_df.age.sum()"
   ]
  }
 ],
 "metadata": {
  "kernelspec": {
   "display_name": "Python 3 (ipykernel)",
   "language": "python",
   "name": "python3"
  },
  "language_info": {
   "codemirror_mode": {
    "name": "ipython",
    "version": 3
   },
   "file_extension": ".py",
   "mimetype": "text/x-python",
   "name": "python",
   "nbconvert_exporter": "python",
   "pygments_lexer": "ipython3",
   "version": "3.10.8"
  }
 },
 "nbformat": 4,
 "nbformat_minor": 5
}
